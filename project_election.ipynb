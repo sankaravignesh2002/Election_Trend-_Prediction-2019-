{
  "nbformat": 4,
  "nbformat_minor": 0,
  "metadata": {
    "colab": {
      "provenance": [],
      "include_colab_link": true
    },
    "kernelspec": {
      "name": "python3",
      "display_name": "Python 3"
    },
    "language_info": {
      "name": "python"
    }
  },
  "cells": [
    {
      "cell_type": "markdown",
      "metadata": {
        "id": "view-in-github",
        "colab_type": "text"
      },
      "source": [
        "<a href=\"https://colab.research.google.com/github/sankaravignesh2002/Election_Trend_Prediction-2019/blob/main/project_election.ipynb\" target=\"_parent\"><img src=\"https://colab.research.google.com/assets/colab-badge.svg\" alt=\"Open In Colab\"/></a>"
      ]
    },
    {
      "cell_type": "markdown",
      "source": [
        "# **ELECTION TREND PREDICTION**\n",
        "\n"
      ],
      "metadata": {
        "id": "aa40XLl4oa4w"
      }
    },
    {
      "cell_type": "code",
      "execution_count": null,
      "metadata": {
        "id": "mVDOC9FIIxER"
      },
      "outputs": [],
      "source": [
        "import matplotlib.pyplot as plt\n",
        "import plotly.graph_objects as go\n",
        "import plotly.express as px\n",
        "import pandas as pd\n",
        "import seaborn as sns\n",
        "import numpy as np\n"
      ]
    },
    {
      "cell_type": "code",
      "source": [
        "#importing the data set\n",
        "vote = pd.read_csv(r\"/content/LS_2.0.csv\")"
      ],
      "metadata": {
        "id": "prZQ_mIaZP2_"
      },
      "execution_count": null,
      "outputs": []
    },
    {
      "cell_type": "markdown",
      "source": [
        "# **PREPROCESSING AND EDA**"
      ],
      "metadata": {
        "id": "J69TzKHUpJQb"
      }
    },
    {
      "cell_type": "code",
      "source": [
        "vote.isna().sum()"
      ],
      "metadata": {
        "colab": {
          "base_uri": "https://localhost:8080/"
        },
        "id": "tZRmRGw8ZRqe",
        "outputId": "a102bf1c-457b-4642-ed8e-e2c18b6c3cc6"
      },
      "execution_count": null,
      "outputs": [
        {
          "output_type": "execute_result",
          "data": {
            "text/plain": [
              "STATE                                          0\n",
              "CONSTITUENCY                                   0\n",
              "NAME                                           0\n",
              "WINNER                                         0\n",
              "PARTY                                          0\n",
              "SYMBOL                                       245\n",
              "GENDER                                       245\n",
              "CRIMINAL\\nCASES                              245\n",
              "AGE                                          245\n",
              "CATEGORY                                     245\n",
              "EDUCATION                                    245\n",
              "ASSETS                                       245\n",
              "LIABILITIES                                  245\n",
              "GENERAL\\nVOTES                                 0\n",
              "POSTAL\\nVOTES                                  0\n",
              "TOTAL\\nVOTES                                   0\n",
              "OVER TOTAL ELECTORS \\nIN CONSTITUENCY          0\n",
              "OVER TOTAL VOTES POLLED \\nIN CONSTITUENCY      0\n",
              "TOTAL ELECTORS                                 0\n",
              "dtype: int64"
            ]
          },
          "metadata": {},
          "execution_count": 5
        }
      ]
    },
    {
      "cell_type": "code",
      "source": [
        "#Cleaning up the Assets and Liabilities columns\n",
        "def value_cleaner(x):\n",
        "    try:\n",
        "        str_temp = (x.split('Rs')[1].split('\\n')[0].strip())\n",
        "        str_temp_2 = ''\n",
        "        for i in str_temp.split(\",\"):\n",
        "            str_temp_2 = str_temp_2+i\n",
        "        return str_temp_2\n",
        "    except:\n",
        "        x = 0\n",
        "        return x\n",
        "vote['ASSETS'] = vote['ASSETS'].apply((value_cleaner))\n",
        "vote['LIABILITIES'] = vote['LIABILITIES'].apply((value_cleaner))\n",
        "vote.head()"
      ],
      "metadata": {
        "colab": {
          "base_uri": "https://localhost:8080/",
          "height": 426
        },
        "id": "ZjBHTwdBZTz1",
        "outputId": "35bc31d1-3c98-4ca1-f52a-356d47648e23"
      },
      "execution_count": null,
      "outputs": [
        {
          "output_type": "execute_result",
          "data": {
            "text/plain": [
              "           STATE CONSTITUENCY                   NAME  WINNER PARTY SYMBOL  \\\n",
              "0      Telangana     ADILABAD         SOYAM BAPU RAO       1   BJP  Lotus   \n",
              "1      Telangana     ADILABAD           Godam Nagesh       0   TRS    Car   \n",
              "2      Telangana     ADILABAD          RATHOD RAMESH       0   INC   Hand   \n",
              "3      Telangana     ADILABAD                   NOTA       0  NOTA    NaN   \n",
              "4  Uttar Pradesh         AGRA  Satyapal Singh Baghel       1   BJP  Lotus   \n",
              "\n",
              "  GENDER CRIMINAL\\nCASES   AGE CATEGORY      EDUCATION    ASSETS LIABILITIES  \\\n",
              "0   MALE              52  52.0       ST      12th Pass   3099414      231450   \n",
              "1   MALE               0  54.0       ST  Post Graduate  18477888      847000   \n",
              "2   MALE               3  52.0       ST      12th Pass  36491000    15300000   \n",
              "3    NaN             NaN   NaN      NaN            NaN         0           0   \n",
              "4   MALE               5  58.0       SC      Doctorate  74274036     8606522   \n",
              "\n",
              "   GENERAL\\nVOTES  POSTAL\\nVOTES  TOTAL\\nVOTES  \\\n",
              "0          376892            482        377374   \n",
              "1          318665            149        318814   \n",
              "2          314057            181        314238   \n",
              "3           13030              6         13036   \n",
              "4          644459           2416        646875   \n",
              "\n",
              "   OVER TOTAL ELECTORS \\nIN CONSTITUENCY  \\\n",
              "0                              25.330684   \n",
              "1                              21.399929   \n",
              "2                              21.092771   \n",
              "3                               0.875023   \n",
              "4                              33.383823   \n",
              "\n",
              "   OVER TOTAL VOTES POLLED \\nIN CONSTITUENCY  TOTAL ELECTORS  \n",
              "0                                  35.468248         1489790  \n",
              "1                                  29.964370         1489790  \n",
              "2                                  29.534285         1489790  \n",
              "3                                   1.225214         1489790  \n",
              "4                                  56.464615         1937690  "
            ],
            "text/html": [
              "\n",
              "  <div id=\"df-1634882f-75e7-43d7-b9ce-37a6c54a40d1\">\n",
              "    <div class=\"colab-df-container\">\n",
              "      <div>\n",
              "<style scoped>\n",
              "    .dataframe tbody tr th:only-of-type {\n",
              "        vertical-align: middle;\n",
              "    }\n",
              "\n",
              "    .dataframe tbody tr th {\n",
              "        vertical-align: top;\n",
              "    }\n",
              "\n",
              "    .dataframe thead th {\n",
              "        text-align: right;\n",
              "    }\n",
              "</style>\n",
              "<table border=\"1\" class=\"dataframe\">\n",
              "  <thead>\n",
              "    <tr style=\"text-align: right;\">\n",
              "      <th></th>\n",
              "      <th>STATE</th>\n",
              "      <th>CONSTITUENCY</th>\n",
              "      <th>NAME</th>\n",
              "      <th>WINNER</th>\n",
              "      <th>PARTY</th>\n",
              "      <th>SYMBOL</th>\n",
              "      <th>GENDER</th>\n",
              "      <th>CRIMINAL\\nCASES</th>\n",
              "      <th>AGE</th>\n",
              "      <th>CATEGORY</th>\n",
              "      <th>EDUCATION</th>\n",
              "      <th>ASSETS</th>\n",
              "      <th>LIABILITIES</th>\n",
              "      <th>GENERAL\\nVOTES</th>\n",
              "      <th>POSTAL\\nVOTES</th>\n",
              "      <th>TOTAL\\nVOTES</th>\n",
              "      <th>OVER TOTAL ELECTORS \\nIN CONSTITUENCY</th>\n",
              "      <th>OVER TOTAL VOTES POLLED \\nIN CONSTITUENCY</th>\n",
              "      <th>TOTAL ELECTORS</th>\n",
              "    </tr>\n",
              "  </thead>\n",
              "  <tbody>\n",
              "    <tr>\n",
              "      <th>0</th>\n",
              "      <td>Telangana</td>\n",
              "      <td>ADILABAD</td>\n",
              "      <td>SOYAM BAPU RAO</td>\n",
              "      <td>1</td>\n",
              "      <td>BJP</td>\n",
              "      <td>Lotus</td>\n",
              "      <td>MALE</td>\n",
              "      <td>52</td>\n",
              "      <td>52.0</td>\n",
              "      <td>ST</td>\n",
              "      <td>12th Pass</td>\n",
              "      <td>3099414</td>\n",
              "      <td>231450</td>\n",
              "      <td>376892</td>\n",
              "      <td>482</td>\n",
              "      <td>377374</td>\n",
              "      <td>25.330684</td>\n",
              "      <td>35.468248</td>\n",
              "      <td>1489790</td>\n",
              "    </tr>\n",
              "    <tr>\n",
              "      <th>1</th>\n",
              "      <td>Telangana</td>\n",
              "      <td>ADILABAD</td>\n",
              "      <td>Godam Nagesh</td>\n",
              "      <td>0</td>\n",
              "      <td>TRS</td>\n",
              "      <td>Car</td>\n",
              "      <td>MALE</td>\n",
              "      <td>0</td>\n",
              "      <td>54.0</td>\n",
              "      <td>ST</td>\n",
              "      <td>Post Graduate</td>\n",
              "      <td>18477888</td>\n",
              "      <td>847000</td>\n",
              "      <td>318665</td>\n",
              "      <td>149</td>\n",
              "      <td>318814</td>\n",
              "      <td>21.399929</td>\n",
              "      <td>29.964370</td>\n",
              "      <td>1489790</td>\n",
              "    </tr>\n",
              "    <tr>\n",
              "      <th>2</th>\n",
              "      <td>Telangana</td>\n",
              "      <td>ADILABAD</td>\n",
              "      <td>RATHOD RAMESH</td>\n",
              "      <td>0</td>\n",
              "      <td>INC</td>\n",
              "      <td>Hand</td>\n",
              "      <td>MALE</td>\n",
              "      <td>3</td>\n",
              "      <td>52.0</td>\n",
              "      <td>ST</td>\n",
              "      <td>12th Pass</td>\n",
              "      <td>36491000</td>\n",
              "      <td>15300000</td>\n",
              "      <td>314057</td>\n",
              "      <td>181</td>\n",
              "      <td>314238</td>\n",
              "      <td>21.092771</td>\n",
              "      <td>29.534285</td>\n",
              "      <td>1489790</td>\n",
              "    </tr>\n",
              "    <tr>\n",
              "      <th>3</th>\n",
              "      <td>Telangana</td>\n",
              "      <td>ADILABAD</td>\n",
              "      <td>NOTA</td>\n",
              "      <td>0</td>\n",
              "      <td>NOTA</td>\n",
              "      <td>NaN</td>\n",
              "      <td>NaN</td>\n",
              "      <td>NaN</td>\n",
              "      <td>NaN</td>\n",
              "      <td>NaN</td>\n",
              "      <td>NaN</td>\n",
              "      <td>0</td>\n",
              "      <td>0</td>\n",
              "      <td>13030</td>\n",
              "      <td>6</td>\n",
              "      <td>13036</td>\n",
              "      <td>0.875023</td>\n",
              "      <td>1.225214</td>\n",
              "      <td>1489790</td>\n",
              "    </tr>\n",
              "    <tr>\n",
              "      <th>4</th>\n",
              "      <td>Uttar Pradesh</td>\n",
              "      <td>AGRA</td>\n",
              "      <td>Satyapal Singh Baghel</td>\n",
              "      <td>1</td>\n",
              "      <td>BJP</td>\n",
              "      <td>Lotus</td>\n",
              "      <td>MALE</td>\n",
              "      <td>5</td>\n",
              "      <td>58.0</td>\n",
              "      <td>SC</td>\n",
              "      <td>Doctorate</td>\n",
              "      <td>74274036</td>\n",
              "      <td>8606522</td>\n",
              "      <td>644459</td>\n",
              "      <td>2416</td>\n",
              "      <td>646875</td>\n",
              "      <td>33.383823</td>\n",
              "      <td>56.464615</td>\n",
              "      <td>1937690</td>\n",
              "    </tr>\n",
              "  </tbody>\n",
              "</table>\n",
              "</div>\n",
              "      <button class=\"colab-df-convert\" onclick=\"convertToInteractive('df-1634882f-75e7-43d7-b9ce-37a6c54a40d1')\"\n",
              "              title=\"Convert this dataframe to an interactive table.\"\n",
              "              style=\"display:none;\">\n",
              "        \n",
              "  <svg xmlns=\"http://www.w3.org/2000/svg\" height=\"24px\"viewBox=\"0 0 24 24\"\n",
              "       width=\"24px\">\n",
              "    <path d=\"M0 0h24v24H0V0z\" fill=\"none\"/>\n",
              "    <path d=\"M18.56 5.44l.94 2.06.94-2.06 2.06-.94-2.06-.94-.94-2.06-.94 2.06-2.06.94zm-11 1L8.5 8.5l.94-2.06 2.06-.94-2.06-.94L8.5 2.5l-.94 2.06-2.06.94zm10 10l.94 2.06.94-2.06 2.06-.94-2.06-.94-.94-2.06-.94 2.06-2.06.94z\"/><path d=\"M17.41 7.96l-1.37-1.37c-.4-.4-.92-.59-1.43-.59-.52 0-1.04.2-1.43.59L10.3 9.45l-7.72 7.72c-.78.78-.78 2.05 0 2.83L4 21.41c.39.39.9.59 1.41.59.51 0 1.02-.2 1.41-.59l7.78-7.78 2.81-2.81c.8-.78.8-2.07 0-2.86zM5.41 20L4 18.59l7.72-7.72 1.47 1.35L5.41 20z\"/>\n",
              "  </svg>\n",
              "      </button>\n",
              "      \n",
              "  <style>\n",
              "    .colab-df-container {\n",
              "      display:flex;\n",
              "      flex-wrap:wrap;\n",
              "      gap: 12px;\n",
              "    }\n",
              "\n",
              "    .colab-df-convert {\n",
              "      background-color: #E8F0FE;\n",
              "      border: none;\n",
              "      border-radius: 50%;\n",
              "      cursor: pointer;\n",
              "      display: none;\n",
              "      fill: #1967D2;\n",
              "      height: 32px;\n",
              "      padding: 0 0 0 0;\n",
              "      width: 32px;\n",
              "    }\n",
              "\n",
              "    .colab-df-convert:hover {\n",
              "      background-color: #E2EBFA;\n",
              "      box-shadow: 0px 1px 2px rgba(60, 64, 67, 0.3), 0px 1px 3px 1px rgba(60, 64, 67, 0.15);\n",
              "      fill: #174EA6;\n",
              "    }\n",
              "\n",
              "    [theme=dark] .colab-df-convert {\n",
              "      background-color: #3B4455;\n",
              "      fill: #D2E3FC;\n",
              "    }\n",
              "\n",
              "    [theme=dark] .colab-df-convert:hover {\n",
              "      background-color: #434B5C;\n",
              "      box-shadow: 0px 1px 3px 1px rgba(0, 0, 0, 0.15);\n",
              "      filter: drop-shadow(0px 1px 2px rgba(0, 0, 0, 0.3));\n",
              "      fill: #FFFFFF;\n",
              "    }\n",
              "  </style>\n",
              "\n",
              "      <script>\n",
              "        const buttonEl =\n",
              "          document.querySelector('#df-1634882f-75e7-43d7-b9ce-37a6c54a40d1 button.colab-df-convert');\n",
              "        buttonEl.style.display =\n",
              "          google.colab.kernel.accessAllowed ? 'block' : 'none';\n",
              "\n",
              "        async function convertToInteractive(key) {\n",
              "          const element = document.querySelector('#df-1634882f-75e7-43d7-b9ce-37a6c54a40d1');\n",
              "          const dataTable =\n",
              "            await google.colab.kernel.invokeFunction('convertToInteractive',\n",
              "                                                     [key], {});\n",
              "          if (!dataTable) return;\n",
              "\n",
              "          const docLinkHtml = 'Like what you see? Visit the ' +\n",
              "            '<a target=\"_blank\" href=https://colab.research.google.com/notebooks/data_table.ipynb>data table notebook</a>'\n",
              "            + ' to learn more about interactive tables.';\n",
              "          element.innerHTML = '';\n",
              "          dataTable['output_type'] = 'display_data';\n",
              "          await google.colab.output.renderOutput(dataTable, element);\n",
              "          const docLink = document.createElement('div');\n",
              "          docLink.innerHTML = docLinkHtml;\n",
              "          element.appendChild(docLink);\n",
              "        }\n",
              "      </script>\n",
              "    </div>\n",
              "  </div>\n",
              "  "
            ]
          },
          "metadata": {},
          "execution_count": 6
        }
      ]
    },
    {
      "cell_type": "code",
      "source": [
        "#Renaming the columns\n",
        "vote.rename(columns={\"CRIMINAL\\nCASES\": \"CRIMINAL CASES\", \"GENERAL\\nVOTES\": \"GENERAL VOTES\", \"POSTAL\\nVOTES\": \"POSTAL VOTES\",\"TOTAL\\nVOTES\": \"TOTAL VOTES\",\"OVER TOTAL ELECTORS \\nIN CONSTITUENCY\": \"OVER TOTAL ELECTORS IN CONSTITUENCY\",\"OVER TOTAL VOTES POLLED \\nIN CONSTITUENCY\": \"OVER TOTAL VOTES POLLED IN CONSTITUENCY\"}, inplace=True)"
      ],
      "metadata": {
        "id": "kRL3WtBWZYAT"
      },
      "execution_count": null,
      "outputs": []
    },
    {
      "cell_type": "code",
      "source": [
        "#Updating the data types for the analysis\n",
        "vote['ASSETS']=pd.to_numeric(vote['ASSETS'])\n",
        "vote['LIABILITIES']=pd.to_numeric(vote['LIABILITIES'])\n",
        "vote['CRIMINAL CASES'].replace({np.NaN:0})\n",
        "vote['CRIMINAL CASES'] = pd.to_numeric(vote['CRIMINAL CASES'], errors='coerce').fillna(0).astype(np.int64)"
      ],
      "metadata": {
        "id": "njFNVWV4ZYIL"
      },
      "execution_count": null,
      "outputs": []
    },
    {
      "cell_type": "code",
      "source": [
        "#Label encoding the columns to change the values to numeric values\n",
        "from sklearn.preprocessing import LabelEncoder\n",
        "le = LabelEncoder()\n",
        "vote.iloc[:,0] = le.fit_transform(vote.iloc[:,0])\n",
        "vote.iloc[:,1] = le.fit_transform(vote.iloc[:,1])\n",
        "vote.iloc[:,2] = le.fit_transform(vote.iloc[:,2])\n",
        "vote.iloc[:,4] = le.fit_transform(vote.iloc[:,4])\n",
        "vote.iloc[:,5] = le.fit_transform(vote.iloc[:,5])\n",
        "vote.iloc[:,6] = le.fit_transform(vote.iloc[:,6])\n",
        "vote.iloc[:,9] = le.fit_transform(vote.iloc[:,9])\n",
        "vote.iloc[:,10] = le.fit_transform(vote.iloc[:,10])\n",
        "vote"
      ],
      "metadata": {
        "colab": {
          "base_uri": "https://localhost:8080/",
          "height": 540
        },
        "id": "u5dui-wNZfGU",
        "outputId": "5af43775-1c98-4d74-8f6f-f86f46d2e366"
      },
      "execution_count": null,
      "outputs": [
        {
          "output_type": "execute_result",
          "data": {
            "text/plain": [
              "      STATE  CONSTITUENCY  NAME  WINNER  PARTY  SYMBOL  GENDER  \\\n",
              "0        31             0  1713       1     26      80       1   \n",
              "1        31             0   700       0    120      32       1   \n",
              "2        31             0  1498       0     46      66       1   \n",
              "3        31             0  1203       0     81     126       2   \n",
              "4        33             1  1789       1     26      80       1   \n",
              "...     ...           ...   ...     ...    ...     ...     ...   \n",
              "2258     19           537   184       0     47      99       1   \n",
              "2259     31           538   224       1    120      32       1   \n",
              "2260     31           538   998       0     46      66       1   \n",
              "2261     31           538   249       0     26      80       1   \n",
              "2262     31           538  1203       0     81     126       2   \n",
              "\n",
              "      CRIMINAL CASES   AGE  CATEGORY  EDUCATION      ASSETS  LIABILITIES  \\\n",
              "0                 52  52.0         2          1     3099414       231450   \n",
              "1                  0  54.0         2         11    18477888       847000   \n",
              "2                  3  52.0         2          1    36491000     15300000   \n",
              "3                  0   NaN         3         13           0            0   \n",
              "4                  5  58.0         1          4    74274036      8606522   \n",
              "...              ...   ...       ...        ...         ...          ...   \n",
              "2258               0  43.0         0         11     4890000      1020000   \n",
              "2259              18  63.0         0          5  1287851556     11535000   \n",
              "2260               0  49.0         0         11   903663001            0   \n",
              "2261               3  47.0         0          1    58577327      5250000   \n",
              "2262               0   NaN         3         13           0            0   \n",
              "\n",
              "      GENERAL VOTES  POSTAL VOTES  TOTAL VOTES  \\\n",
              "0            376892           482       377374   \n",
              "1            318665           149       318814   \n",
              "2            314057           181       314238   \n",
              "3             13030             6        13036   \n",
              "4            644459          2416       646875   \n",
              "...             ...           ...          ...   \n",
              "2258          14661            25        14686   \n",
              "2259         434066           178       434244   \n",
              "2260         427900           115       428015   \n",
              "2261         138731           216       138947   \n",
              "2262          11138             2        11140   \n",
              "\n",
              "      OVER TOTAL ELECTORS IN CONSTITUENCY  \\\n",
              "0                               25.330684   \n",
              "1                               21.399929   \n",
              "2                               21.092771   \n",
              "3                                0.875023   \n",
              "4                               33.383823   \n",
              "...                                   ...   \n",
              "2258                             0.766419   \n",
              "2259                            28.975369   \n",
              "2260                            28.559732   \n",
              "2261                             9.271379   \n",
              "2262                             0.743328   \n",
              "\n",
              "      OVER TOTAL VOTES POLLED IN CONSTITUENCY  TOTAL ELECTORS  \n",
              "0                                   35.468248         1489790  \n",
              "1                                   29.964370         1489790  \n",
              "2                                   29.534285         1489790  \n",
              "3                                    1.225214         1489790  \n",
              "4                                   56.464615         1937690  \n",
              "...                                       ...             ...  \n",
              "2258                                 1.250060         1916185  \n",
              "2259                                41.574183         1498666  \n",
              "2260                                40.977823         1498666  \n",
              "2261                                13.302678         1498666  \n",
              "2262                                 1.066535         1498666  \n",
              "\n",
              "[2263 rows x 19 columns]"
            ],
            "text/html": [
              "\n",
              "  <div id=\"df-966cd421-2b92-4c02-bb5d-d258f9acf10b\">\n",
              "    <div class=\"colab-df-container\">\n",
              "      <div>\n",
              "<style scoped>\n",
              "    .dataframe tbody tr th:only-of-type {\n",
              "        vertical-align: middle;\n",
              "    }\n",
              "\n",
              "    .dataframe tbody tr th {\n",
              "        vertical-align: top;\n",
              "    }\n",
              "\n",
              "    .dataframe thead th {\n",
              "        text-align: right;\n",
              "    }\n",
              "</style>\n",
              "<table border=\"1\" class=\"dataframe\">\n",
              "  <thead>\n",
              "    <tr style=\"text-align: right;\">\n",
              "      <th></th>\n",
              "      <th>STATE</th>\n",
              "      <th>CONSTITUENCY</th>\n",
              "      <th>NAME</th>\n",
              "      <th>WINNER</th>\n",
              "      <th>PARTY</th>\n",
              "      <th>SYMBOL</th>\n",
              "      <th>GENDER</th>\n",
              "      <th>CRIMINAL CASES</th>\n",
              "      <th>AGE</th>\n",
              "      <th>CATEGORY</th>\n",
              "      <th>EDUCATION</th>\n",
              "      <th>ASSETS</th>\n",
              "      <th>LIABILITIES</th>\n",
              "      <th>GENERAL VOTES</th>\n",
              "      <th>POSTAL VOTES</th>\n",
              "      <th>TOTAL VOTES</th>\n",
              "      <th>OVER TOTAL ELECTORS IN CONSTITUENCY</th>\n",
              "      <th>OVER TOTAL VOTES POLLED IN CONSTITUENCY</th>\n",
              "      <th>TOTAL ELECTORS</th>\n",
              "    </tr>\n",
              "  </thead>\n",
              "  <tbody>\n",
              "    <tr>\n",
              "      <th>0</th>\n",
              "      <td>31</td>\n",
              "      <td>0</td>\n",
              "      <td>1713</td>\n",
              "      <td>1</td>\n",
              "      <td>26</td>\n",
              "      <td>80</td>\n",
              "      <td>1</td>\n",
              "      <td>52</td>\n",
              "      <td>52.0</td>\n",
              "      <td>2</td>\n",
              "      <td>1</td>\n",
              "      <td>3099414</td>\n",
              "      <td>231450</td>\n",
              "      <td>376892</td>\n",
              "      <td>482</td>\n",
              "      <td>377374</td>\n",
              "      <td>25.330684</td>\n",
              "      <td>35.468248</td>\n",
              "      <td>1489790</td>\n",
              "    </tr>\n",
              "    <tr>\n",
              "      <th>1</th>\n",
              "      <td>31</td>\n",
              "      <td>0</td>\n",
              "      <td>700</td>\n",
              "      <td>0</td>\n",
              "      <td>120</td>\n",
              "      <td>32</td>\n",
              "      <td>1</td>\n",
              "      <td>0</td>\n",
              "      <td>54.0</td>\n",
              "      <td>2</td>\n",
              "      <td>11</td>\n",
              "      <td>18477888</td>\n",
              "      <td>847000</td>\n",
              "      <td>318665</td>\n",
              "      <td>149</td>\n",
              "      <td>318814</td>\n",
              "      <td>21.399929</td>\n",
              "      <td>29.964370</td>\n",
              "      <td>1489790</td>\n",
              "    </tr>\n",
              "    <tr>\n",
              "      <th>2</th>\n",
              "      <td>31</td>\n",
              "      <td>0</td>\n",
              "      <td>1498</td>\n",
              "      <td>0</td>\n",
              "      <td>46</td>\n",
              "      <td>66</td>\n",
              "      <td>1</td>\n",
              "      <td>3</td>\n",
              "      <td>52.0</td>\n",
              "      <td>2</td>\n",
              "      <td>1</td>\n",
              "      <td>36491000</td>\n",
              "      <td>15300000</td>\n",
              "      <td>314057</td>\n",
              "      <td>181</td>\n",
              "      <td>314238</td>\n",
              "      <td>21.092771</td>\n",
              "      <td>29.534285</td>\n",
              "      <td>1489790</td>\n",
              "    </tr>\n",
              "    <tr>\n",
              "      <th>3</th>\n",
              "      <td>31</td>\n",
              "      <td>0</td>\n",
              "      <td>1203</td>\n",
              "      <td>0</td>\n",
              "      <td>81</td>\n",
              "      <td>126</td>\n",
              "      <td>2</td>\n",
              "      <td>0</td>\n",
              "      <td>NaN</td>\n",
              "      <td>3</td>\n",
              "      <td>13</td>\n",
              "      <td>0</td>\n",
              "      <td>0</td>\n",
              "      <td>13030</td>\n",
              "      <td>6</td>\n",
              "      <td>13036</td>\n",
              "      <td>0.875023</td>\n",
              "      <td>1.225214</td>\n",
              "      <td>1489790</td>\n",
              "    </tr>\n",
              "    <tr>\n",
              "      <th>4</th>\n",
              "      <td>33</td>\n",
              "      <td>1</td>\n",
              "      <td>1789</td>\n",
              "      <td>1</td>\n",
              "      <td>26</td>\n",
              "      <td>80</td>\n",
              "      <td>1</td>\n",
              "      <td>5</td>\n",
              "      <td>58.0</td>\n",
              "      <td>1</td>\n",
              "      <td>4</td>\n",
              "      <td>74274036</td>\n",
              "      <td>8606522</td>\n",
              "      <td>644459</td>\n",
              "      <td>2416</td>\n",
              "      <td>646875</td>\n",
              "      <td>33.383823</td>\n",
              "      <td>56.464615</td>\n",
              "      <td>1937690</td>\n",
              "    </tr>\n",
              "    <tr>\n",
              "      <th>...</th>\n",
              "      <td>...</td>\n",
              "      <td>...</td>\n",
              "      <td>...</td>\n",
              "      <td>...</td>\n",
              "      <td>...</td>\n",
              "      <td>...</td>\n",
              "      <td>...</td>\n",
              "      <td>...</td>\n",
              "      <td>...</td>\n",
              "      <td>...</td>\n",
              "      <td>...</td>\n",
              "      <td>...</td>\n",
              "      <td>...</td>\n",
              "      <td>...</td>\n",
              "      <td>...</td>\n",
              "      <td>...</td>\n",
              "      <td>...</td>\n",
              "      <td>...</td>\n",
              "      <td>...</td>\n",
              "    </tr>\n",
              "    <tr>\n",
              "      <th>2258</th>\n",
              "      <td>19</td>\n",
              "      <td>537</td>\n",
              "      <td>184</td>\n",
              "      <td>0</td>\n",
              "      <td>47</td>\n",
              "      <td>99</td>\n",
              "      <td>1</td>\n",
              "      <td>0</td>\n",
              "      <td>43.0</td>\n",
              "      <td>0</td>\n",
              "      <td>11</td>\n",
              "      <td>4890000</td>\n",
              "      <td>1020000</td>\n",
              "      <td>14661</td>\n",
              "      <td>25</td>\n",
              "      <td>14686</td>\n",
              "      <td>0.766419</td>\n",
              "      <td>1.250060</td>\n",
              "      <td>1916185</td>\n",
              "    </tr>\n",
              "    <tr>\n",
              "      <th>2259</th>\n",
              "      <td>31</td>\n",
              "      <td>538</td>\n",
              "      <td>224</td>\n",
              "      <td>1</td>\n",
              "      <td>120</td>\n",
              "      <td>32</td>\n",
              "      <td>1</td>\n",
              "      <td>18</td>\n",
              "      <td>63.0</td>\n",
              "      <td>0</td>\n",
              "      <td>5</td>\n",
              "      <td>1287851556</td>\n",
              "      <td>11535000</td>\n",
              "      <td>434066</td>\n",
              "      <td>178</td>\n",
              "      <td>434244</td>\n",
              "      <td>28.975369</td>\n",
              "      <td>41.574183</td>\n",
              "      <td>1498666</td>\n",
              "    </tr>\n",
              "    <tr>\n",
              "      <th>2260</th>\n",
              "      <td>31</td>\n",
              "      <td>538</td>\n",
              "      <td>998</td>\n",
              "      <td>0</td>\n",
              "      <td>46</td>\n",
              "      <td>66</td>\n",
              "      <td>1</td>\n",
              "      <td>0</td>\n",
              "      <td>49.0</td>\n",
              "      <td>0</td>\n",
              "      <td>11</td>\n",
              "      <td>903663001</td>\n",
              "      <td>0</td>\n",
              "      <td>427900</td>\n",
              "      <td>115</td>\n",
              "      <td>428015</td>\n",
              "      <td>28.559732</td>\n",
              "      <td>40.977823</td>\n",
              "      <td>1498666</td>\n",
              "    </tr>\n",
              "    <tr>\n",
              "      <th>2261</th>\n",
              "      <td>31</td>\n",
              "      <td>538</td>\n",
              "      <td>249</td>\n",
              "      <td>0</td>\n",
              "      <td>26</td>\n",
              "      <td>80</td>\n",
              "      <td>1</td>\n",
              "      <td>3</td>\n",
              "      <td>47.0</td>\n",
              "      <td>0</td>\n",
              "      <td>1</td>\n",
              "      <td>58577327</td>\n",
              "      <td>5250000</td>\n",
              "      <td>138731</td>\n",
              "      <td>216</td>\n",
              "      <td>138947</td>\n",
              "      <td>9.271379</td>\n",
              "      <td>13.302678</td>\n",
              "      <td>1498666</td>\n",
              "    </tr>\n",
              "    <tr>\n",
              "      <th>2262</th>\n",
              "      <td>31</td>\n",
              "      <td>538</td>\n",
              "      <td>1203</td>\n",
              "      <td>0</td>\n",
              "      <td>81</td>\n",
              "      <td>126</td>\n",
              "      <td>2</td>\n",
              "      <td>0</td>\n",
              "      <td>NaN</td>\n",
              "      <td>3</td>\n",
              "      <td>13</td>\n",
              "      <td>0</td>\n",
              "      <td>0</td>\n",
              "      <td>11138</td>\n",
              "      <td>2</td>\n",
              "      <td>11140</td>\n",
              "      <td>0.743328</td>\n",
              "      <td>1.066535</td>\n",
              "      <td>1498666</td>\n",
              "    </tr>\n",
              "  </tbody>\n",
              "</table>\n",
              "<p>2263 rows × 19 columns</p>\n",
              "</div>\n",
              "      <button class=\"colab-df-convert\" onclick=\"convertToInteractive('df-966cd421-2b92-4c02-bb5d-d258f9acf10b')\"\n",
              "              title=\"Convert this dataframe to an interactive table.\"\n",
              "              style=\"display:none;\">\n",
              "        \n",
              "  <svg xmlns=\"http://www.w3.org/2000/svg\" height=\"24px\"viewBox=\"0 0 24 24\"\n",
              "       width=\"24px\">\n",
              "    <path d=\"M0 0h24v24H0V0z\" fill=\"none\"/>\n",
              "    <path d=\"M18.56 5.44l.94 2.06.94-2.06 2.06-.94-2.06-.94-.94-2.06-.94 2.06-2.06.94zm-11 1L8.5 8.5l.94-2.06 2.06-.94-2.06-.94L8.5 2.5l-.94 2.06-2.06.94zm10 10l.94 2.06.94-2.06 2.06-.94-2.06-.94-.94-2.06-.94 2.06-2.06.94z\"/><path d=\"M17.41 7.96l-1.37-1.37c-.4-.4-.92-.59-1.43-.59-.52 0-1.04.2-1.43.59L10.3 9.45l-7.72 7.72c-.78.78-.78 2.05 0 2.83L4 21.41c.39.39.9.59 1.41.59.51 0 1.02-.2 1.41-.59l7.78-7.78 2.81-2.81c.8-.78.8-2.07 0-2.86zM5.41 20L4 18.59l7.72-7.72 1.47 1.35L5.41 20z\"/>\n",
              "  </svg>\n",
              "      </button>\n",
              "      \n",
              "  <style>\n",
              "    .colab-df-container {\n",
              "      display:flex;\n",
              "      flex-wrap:wrap;\n",
              "      gap: 12px;\n",
              "    }\n",
              "\n",
              "    .colab-df-convert {\n",
              "      background-color: #E8F0FE;\n",
              "      border: none;\n",
              "      border-radius: 50%;\n",
              "      cursor: pointer;\n",
              "      display: none;\n",
              "      fill: #1967D2;\n",
              "      height: 32px;\n",
              "      padding: 0 0 0 0;\n",
              "      width: 32px;\n",
              "    }\n",
              "\n",
              "    .colab-df-convert:hover {\n",
              "      background-color: #E2EBFA;\n",
              "      box-shadow: 0px 1px 2px rgba(60, 64, 67, 0.3), 0px 1px 3px 1px rgba(60, 64, 67, 0.15);\n",
              "      fill: #174EA6;\n",
              "    }\n",
              "\n",
              "    [theme=dark] .colab-df-convert {\n",
              "      background-color: #3B4455;\n",
              "      fill: #D2E3FC;\n",
              "    }\n",
              "\n",
              "    [theme=dark] .colab-df-convert:hover {\n",
              "      background-color: #434B5C;\n",
              "      box-shadow: 0px 1px 3px 1px rgba(0, 0, 0, 0.15);\n",
              "      filter: drop-shadow(0px 1px 2px rgba(0, 0, 0, 0.3));\n",
              "      fill: #FFFFFF;\n",
              "    }\n",
              "  </style>\n",
              "\n",
              "      <script>\n",
              "        const buttonEl =\n",
              "          document.querySelector('#df-966cd421-2b92-4c02-bb5d-d258f9acf10b button.colab-df-convert');\n",
              "        buttonEl.style.display =\n",
              "          google.colab.kernel.accessAllowed ? 'block' : 'none';\n",
              "\n",
              "        async function convertToInteractive(key) {\n",
              "          const element = document.querySelector('#df-966cd421-2b92-4c02-bb5d-d258f9acf10b');\n",
              "          const dataTable =\n",
              "            await google.colab.kernel.invokeFunction('convertToInteractive',\n",
              "                                                     [key], {});\n",
              "          if (!dataTable) return;\n",
              "\n",
              "          const docLinkHtml = 'Like what you see? Visit the ' +\n",
              "            '<a target=\"_blank\" href=https://colab.research.google.com/notebooks/data_table.ipynb>data table notebook</a>'\n",
              "            + ' to learn more about interactive tables.';\n",
              "          element.innerHTML = '';\n",
              "          dataTable['output_type'] = 'display_data';\n",
              "          await google.colab.output.renderOutput(dataTable, element);\n",
              "          const docLink = document.createElement('div');\n",
              "          docLink.innerHTML = docLinkHtml;\n",
              "          element.appendChild(docLink);\n",
              "        }\n",
              "      </script>\n",
              "    </div>\n",
              "  </div>\n",
              "  "
            ]
          },
          "metadata": {},
          "execution_count": 9
        }
      ]
    },
    {
      "cell_type": "code",
      "source": [
        "#filling the nota's age value to 0\n",
        "vote[\"AGE\"].fillna(0, inplace = True)"
      ],
      "metadata": {
        "id": "mL9qz9bJZiX8"
      },
      "execution_count": null,
      "outputs": []
    },
    {
      "cell_type": "code",
      "source": [
        "#Creating Sunburst image of all states and constituencies\n",
        "st_val=vote[[\"STATE\",\"CONSTITUENCY\",\"TOTAL ELECTORS\"]]\n",
        "fig=px.sunburst(st_val,path=['STATE','CONSTITUENCY']\n",
        "                ,values='TOTAL ELECTORS',\n",
        "               color='TOTAL ELECTORS',\n",
        "               color_continuous_scale='viridis_r')\n",
        "fig.update_layout(title_text='Sunburst Image of States and Constituencies',\n",
        "                  template='plotly_dark')\n",
        "fig.show()\n"
      ],
      "metadata": {
        "colab": {
          "base_uri": "https://localhost:8080/",
          "height": 542
        },
        "id": "nehkLcker7f0",
        "outputId": "1b6f6336-802f-4699-f773-1b09749847d8"
      },
      "execution_count": null,
      "outputs": [
        {
          "output_type": "display_data",
          "data": {
            "text/html": [
              "<html>\n",
              "<head><meta charset=\"utf-8\" /></head>\n",
              "<body>\n",
              "    <div>            <script src=\"https://cdnjs.cloudflare.com/ajax/libs/mathjax/2.7.5/MathJax.js?config=TeX-AMS-MML_SVG\"></script><script type=\"text/javascript\">if (window.MathJax && window.MathJax.Hub && window.MathJax.Hub.Config) {window.MathJax.Hub.Config({SVG: {font: \"STIX-Web\"}});}</script>                <script type=\"text/javascript\">window.PlotlyConfig = {MathJaxConfig: 'local'};</script>\n",
              "        <script src=\"https://cdn.plot.ly/plotly-2.18.2.min.js\"></script>                <div id=\"3a7d6dff-6432-45ba-8371-5f7b81a4b723\" class=\"plotly-graph-div\" style=\"height:525px; width:100%;\"></div>            <script type=\"text/javascript\">                                    window.PLOTLYENV=window.PLOTLYENV || {};                                    if (document.getElementById(\"3a7d6dff-6432-45ba-8371-5f7b81a4b723\")) {                    Plotly.newPlot(                        \"3a7d6dff-6432-45ba-8371-5f7b81a4b723\",                        [{\"branchvalues\":\"total\",\"customdata\":[[1489790.0],[1937690.0],[1861396.0],[1811851.0],[1643317.0],[1876346.0],[1766121.0],[1865169.0],[1356701.0],[1266794.0],[1887127.0],[1648383.0],[1716160.0],[1337808.0],[1888524.0],[1459556.0],[1853711.0],[1785657.0],[1743515.0],[1833091.0],[1628451.0],[1507875.0],[1646435.0],[1521363.0],[1655870.0],[1698876.0],[1664160.0],[1397779.0],[318471.0],[1785605.0],[1500016.0],[1764726.0],[1449150.0],[1805439.0],[2089353.0],[1451418.0],[339788.0],[463775.0],[1615865.0],[1541145.0],[1350710.0],[1742883.0],[1886284.0],[795945.0],[1789168.0],[1891576.0],[1704010.0],[1616476.0],[1638378.0],[1729908.0],[1767725.0],[1531781.0],[1822625.0],[1431704.0],[1697384.0],[1702024.0],[2204817.0],[2849250.0],[2497458.0],[2215489.0],[1704632.0],[1699394.0],[1648906.0],[1751258.0],[1975368.0],[1468671.0],[1816830.0],[2114663.0],[1317738.0],[1718252.0],[1733578.0],[1698089.0],[1826526.0],[1797655.0],[1596290.0],[1941231.0],[1685149.0],[1436431.0],[1678357.0],[1379122.0],[1845223.0],[1621671.0],[2045405.0],[1958382.0],[1779350.0],[1751734.0],[1502455.0],[1737437.0],[1942514.0],[1661661.0],[1823820.0],[1811556.0],[1943794.0],[1564519.0],[1768297.0],[1997328.0],[1765334.0],[1890100.0],[1654317.0],[1628033.0],[2142861.0],[1699678.0],[1775095.0],[1797587.0],[1664125.0],[1851628.0],[1876953.0],[1699219.0],[1627199.0],[1744446.0],[1705073.0],[1787925.0],[1762918.0],[1829373.0],[1230197.0],[1686333.0],[1756837.0],[646729.0],[1562283.0],[1910188.0],[1425218.0],[1332300.0],[1487681.0],[1973533.0],[2443112.0],[1514783.0],[1671253.0],[1480222.0],[1808780.0],[1612556.0],[1760633.0],[1566499.0],[2015911.0],[2019104.0],[1958904.0],[1814200.0],[1364038.0],[1518996.0],[250029.0],[1598939.0],[1724976.0],[121740.0],[1768777.0],[1654811.0],[1611317.0],[1730289.0],[1633064.0],[1754195.0],[1760503.0],[2072634.0],[1786151.0],[1485804.0],[1727311.0],[1644674.0],[1504403.0],[1858566.0],[1908173.0],[1719190.0],[1314319.0],[1541881.0],[1732936.0],[1885433.0],[1566196.0],[1397253.0],[1940269.0],[2039302.0],[1594950.0],[1245972.0],[1462246.0],[1621295.0],[1757984.0],[1821785.0],[2071816.0],[1541971.0],[1708585.0],[1502861.0],[1839312.0],[1718837.0],[1790510.0],[1618419.0],[1581366.0],[1945772.0],[1943486.0],[1355796.0],[2181319.0],[2302960.0],[1704596.0],[1800002.0],[2728978.0],[1881077.0],[1991651.0],[1649413.0],[1716766.0],[1770248.0],[1839514.0],[1981197.0],[1945765.0],[1675724.0],[1706119.0],[1595284.0],[2150728.0],[2000744.0],[1823664.0],[1362269.0],[1749100.0],[1807119.0],[1840738.0],[1652999.0],[1864320.0],[1776555.0],[1708510.0],[1667465.0],[1578218.0],[1733729.0],[1631817.0],[1766601.0],[1706141.0],[1597500.0],[1633925.0],[1957931.0],[1204191.0],[2350580.0],[937464.0],[1819893.0],[1816857.0],[1643595.0],[1588454.0],[2127021.0],[1952542.0],[1475007.0],[1617018.0],[1933358.0],[1931400.0],[1867220.0],[2071244.0],[1735464.0],[2047302.0],[1657166.0],[1703279.0],[1718814.0],[1616213.0],[1897134.0],[1867976.0],[1648355.0],[1903870.0],[1852417.0],[2040739.0],[1641868.0],[1937882.0],[1956755.0],[1365035.0],[1642864.0],[1744321.0],[1570330.0],[1666703.0],[1805946.0],[1563930.0],[1611056.0],[1734938.0],[1528938.0],[1965676.0],[1643992.0],[1288666.0],[1427338.0],[1558952.0],[1874824.0],[1501250.0],[1266550.0],[1632983.0],[1660147.0],[1771254.0],[1810574.0],[1340173.0],[1651543.0],[1904193.0],[1387286.0],[1363937.0],[1653353.0],[1787120.0],[1710916.0],[1516688.0],[1638842.0],[1676454.0],[1842095.0],[1513809.0],[1909055.0],[1834385.0],[1804028.0],[1770699.0],[1202664.0],[1659651.0],[1814125.0],[1776358.0],[1629961.0],[1880496.0],[1728851.0],[1444082.0],[1296720.0],[1736693.0],[1434384.0],[1508840.0],[1948010.0],[1206698.0],[1318024.0],[1530404.0],[1631698.0],[1573009.0],[1657335.0],[1761564.0],[179232.0],[1708013.0],[55189.0],[1751980.0],[1886657.0],[1234286.0],[2040367.0],[1683325.0],[1848306.0],[1473347.0],[1909574.0],[1884883.0],[1792798.0],[1539026.0],[1424385.0],[1807768.0],[1915408.0],[1637951.0],[1506102.0],[1648869.0],[1723236.0],[1370544.0],[1575590.0],[1685955.0],[3150313.0],[1281462.0],[1951267.0],[1760875.0],[1712004.0],[1800237.0],[1807893.0],[1652096.0],[2298080.0],[1308102.0],[1484842.0],[1493205.0],[1603318.0],[1674236.0],[1892931.0],[1845150.0],[1796932.0],[792464.0],[2023431.0],[1958939.0],[1837723.0],[1647350.0],[1679891.0],[1588693.0],[1732263.0],[1554176.0],[1440380.0],[1888025.0],[1725187.0],[1698003.0],[1730553.0],[1896333.0],[1461004.0],[1213777.0],[1303649.0],[1588111.0],[1933169.0],[1586117.0],[2161096.0],[1828433.0],[2114809.0],[1585980.0],[1413599.0],[1719322.0],[1871099.0],[1603220.0],[1670391.0],[1439691.0],[1885064.0],[1971658.0],[1899747.0],[1672845.0],[1617470.0],[1366060.0],[1553385.0],[2290492.0],[556761.0],[2378995.0],[1794648.0],[1556469.0],[1889740.0],[1022099.0],[1323010.0],[1881441.0],[1885600.0],[2161663.0],[1744762.0],[1985228.0],[1633824.0],[1925479.0],[1807043.0],[1382741.0],[1739600.0],[2146008.0],[1479091.0],[1391853.0],[2010477.0],[1761207.0],[1520504.0],[1356803.0],[1662368.0],[1708759.0],[973410.0],[2075824.0],[1562331.0],[1765312.0],[1645884.0],[1658672.0],[1702248.0],[1928204.0],[1652965.0],[1601220.0],[1733805.0],[2111738.0],[1534256.0],[1546938.0],[1694329.0],[1884339.0],[1454436.0],[1716459.0],[1912911.0],[1559740.0],[1679506.0],[1922764.0],[1762252.0],[1915959.0],[1851112.0],[1455577.0],[1775051.0],[1679534.0],[1723538.0],[1737133.0],[1801717.0],[1583129.0],[1739082.0],[1612512.0],[1667282.0],[1679030.0],[1468530.0],[1828764.0],[1809109.0],[1529431.0],[1962903.0],[1667253.0],[1655239.0],[1787878.0],[1848489.0],[1575064.0],[1968276.0],[1656474.0],[2114201.0],[1686215.0],[1197806.0],[1259085.0],[1676668.0],[1587079.0],[2175529.0],[1914739.0],[1845547.0],[2041612.0],[434128.0],[1195720.0],[1269917.0],[1803349.0],[1752454.0],[1666126.0],[1552019.0],[1799551.0],[1851654.0],[1592611.0],[2067463.0],[579352.0],[1785472.0],[1553860.0],[1294671.0],[2253448.0],[1775196.0],[1531525.0],[1690620.0],[1655704.0],[1849429.0],[1694646.0],[1493543.0],[1492317.0],[1499639.0],[2370903.0],[1461052.0],[1561040.0],[1946870.0],[1371427.0],[1427783.0],[1337110.0],[1647399.0],[1508963.0],[1547800.0],[1650453.0],[1530014.0],[1473862.0],[1945992.0],[1261861.0],[1352857.0],[1608545.0],[716990.0],[2069559.0],[1685816.0],[1513806.0],[1612300.0],[1661229.0],[1614988.0],[2191465.0],[1556599.0],[1288926.0],[1794896.0],[1735983.0],[1665502.0],[1671030.0],[1856791.0],[1741604.0],[1652994.0],[1444335.0],[1484256.0],[1829300.0],[1503980.0],[1666770.0],[1743283.0],[1359679.0],[2371644.0],[1916185.0],[1498666.0],[318471.0],[1579697.9337886018],[405767.0152120328],[1632869.906813236],[1771147.5444402588],[646729.0],[1685230.8100908457],[250029.0],[121740.0],[568281.104982515],[1732629.4966701989],[1805054.9374463586],[1340437.9411278598],[1473715.5215353356],[1582734.3623917906],[1856157.3440497536],[1315011.4936249873],[55189.0],[1790802.4581198045],[1853232.309451209],[981609.2246572323],[984390.0606508395],[792464.0],[2100878.067652333],[1213777.0],[1546743.3359206351],[973410.0],[1607719.114548752],[1962953.8311939945],[434128.0],[1569274.797393085],[1820937.59503783],[1308942.396759421],[1839344.7482990066],[1588320.966782033],[1669988.8508547493]],\"domain\":{\"x\":[0.0,1.0],\"y\":[0.0,1.0]},\"hovertemplate\":\"labels=%{label}<br>TOTAL ELECTORS_sum=%{value}<br>parent=%{parent}<br>id=%{id}<br>TOTAL ELECTORS=%{color}<extra></extra>\",\"ids\":[\"31/0\",\"33/1\",\"19/2\",\"10/3\",\"10/4\",\"28/5\",\"33/6\",\"19/7\",\"16/8\",\"16/9\",\"33/10\",\"35/11\",\"33/12\",\"34/13\",\"28/14\",\"1/15\",\"11/16\",\"33/17\",\"33/18\",\"19/19\",\"10/20\",\"27/21\",\"33/22\",\"1/23\",\"10/24\",\"27/25\",\"1/26\",\"13/27\",\"0/28\",\"33/29\",\"30/30\",\"35/31\",\"30/32\",\"4/33\",\"4/34\",\"1/35\",\"2/36\",\"2/37\",\"35/38\",\"25/39\",\"16/40\",\"4/41\",\"19/41\",\"3/42\",\"33/43\",\"33/44\",\"15/45\",\"33/46\",\"35/47\",\"33/48\",\"18/49\",\"25/50\",\"33/51\",\"35/52\",\"10/53\",\"33/54\",\"15/55\",\"15/56\",\"15/57\",\"15/58\",\"35/59\",\"4/60\",\"35/61\",\"33/62\",\"28/63\",\"1/64\",\"33/65\",\"19/66\",\"13/67\",\"35/68\",\"35/69\",\"35/70\",\"10/71\",\"33/72\",\"25/73\",\"28/74\",\"3/75\",\"35/76\",\"35/77\",\"6/78\",\"33/79\",\"27/80\",\"19/81\",\"4/82\",\"15/83\",\"15/84\",\"25/85\",\"18/86\",\"33/87\",\"25/88\",\"4/89\",\"19/90\",\"28/91\",\"10/92\",\"10/93\",\"28/94\",\"18/95\",\"19/96\",\"11/97\",\"31/98\",\"18/99\",\"25/100\",\"15/101\",\"15/102\",\"33/103\",\"28/104\",\"6/105\",\"35/106\",\"35/107\",\"25/108\",\"35/109\",\"33/110\",\"19/111\",\"4/112\",\"16/113\",\"15/114\",\"33/115\",\"5/116\",\"23/117\",\"19/118\",\"14/119\",\"30/120\",\"30/121\",\"30/122\",\"31/123\",\"18/124\",\"10/125\",\"30/126\",\"15/127\",\"15/128\",\"15/129\",\"1/130\",\"28/131\",\"28/132\",\"30/133\",\"35/134\",\"30/135\",\"25/136\",\"7/137\",\"10/138\",\"15/139\",\"8/140\",\"18/141\",\"4/142\",\"35/143\",\"28/144\",\"15/145\",\"33/146\",\"18/147\",\"14/148\",\"18/149\",\"30/150\",\"15/151\",\"33/152\",\"25/153\",\"3/154\",\"19/155\",\"35/156\",\"3/157\",\"30/158\",\"19/159\",\"33/160\",\"35/161\",\"14/162\",\"6/163\",\"23/164\",\"1/165\",\"16/166\",\"30/167\",\"33/168\",\"33/169\",\"33/170\",\"11/171\",\"27/172\",\"33/173\",\"27/174\",\"33/175\",\"33/176\",\"33/177\",\"27/178\",\"19/179\",\"10/180\",\"28/181\",\"34/182\",\"3/183\",\"33/184\",\"4/185\",\"35/186\",\"33/187\",\"33/188\",\"33/189\",\"14/190\",\"14/191\",\"33/192\",\"4/193\",\"33/194\",\"15/195\",\"18/196\",\"1/197\",\"27/198\",\"11/199\",\"18/200\",\"4/201\",\"12/202\",\"33/202\",\"33/203\",\"34/204\",\"15/205\",\"33/206\",\"19/207\",\"15/208\",\"14/209\",\"1/210\",\"19/211\",\"11/212\",\"35/213\",\"18/214\",\"27/215\",\"35/216\",\"31/217\",\"16/218\",\"18/219\",\"20/220\",\"18/221\",\"35/222\",\"25/223\",\"4/224\",\"28/225\",\"28/226\",\"25/227\",\"27/228\",\"33/229\",\"19/230\",\"19/231\",\"28/232\",\"35/233\",\"13/234\",\"10/235\",\"14/236\",\"4/237\",\"35/238\",\"6/239\",\"33/240\",\"35/241\",\"28/242\",\"4/243\",\"33/244\",\"35/245\",\"28/246\",\"28/247\",\"3/248\",\"10/249\",\"10/250\",\"1/251\",\"33/252\",\"33/253\",\"1/254\",\"25/255\",\"3/256\",\"30/257\",\"19/258\",\"30/259\",\"25/260\",\"12/261\",\"6/262\",\"33/263\",\"30/264\",\"16/265\",\"33/266\",\"35/267\",\"4/268\",\"28/269\",\"3/270\",\"31/271\",\"11/272\",\"30/273\",\"16/274\",\"4/275\",\"33/276\",\"25/277\",\"25/278\",\"27/279\",\"4/280\",\"18/281\",\"31/282\",\"18/283\",\"18/284\",\"10/285\",\"33/286\",\"14/287\",\"4/288\",\"14/289\",\"3/290\",\"15/291\",\"19/292\",\"35/293\",\"35/294\",\"16/295\",\"15/296\",\"25/297\",\"6/298\",\"28/299\",\"16/300\",\"16/301\",\"30/302\",\"35/303\",\"1/304\",\"11/305\",\"33/306\",\"13/307\",\"3/308\",\"17/309\",\"33/310\",\"19/311\",\"14/312\",\"33/313\",\"27/314\",\"33/315\",\"1/316\",\"19/317\",\"4/318\",\"4/319\",\"30/320\",\"31/321\",\"4/322\",\"33/322\",\"6/323\",\"31/324\",\"10/325\",\"33/326\",\"16/327\",\"35/328\",\"35/329\",\"31/330\",\"12/331\",\"18/332\",\"18/333\",\"15/334\",\"3/335\",\"33/336\",\"35/337\",\"19/338\",\"16/339\",\"30/340\",\"25/341\",\"31/342\",\"35/343\",\"33/344\",\"33/345\",\"33/346\",\"22/347\",\"33/348\",\"33/349\",\"18/350\",\"19/351\",\"19/352\",\"19/353\",\"19/354\",\"19/355\",\"19/356\",\"4/357\",\"35/358\",\"33/359\",\"4/360\",\"15/361\",\"25/362\",\"24/363\",\"30/364\",\"31/365\",\"28/366\",\"33/367\",\"19/368\",\"34/369\",\"4/370\",\"31/371\",\"30/372\",\"19/373\",\"19/374\",\"1/375\",\"1/376\",\"1/377\",\"19/378\",\"10/379\",\"4/380\",\"1/381\",\"23/382\",\"30/383\",\"31/384\",\"23/385\",\"9/386\",\"23/387\",\"3/388\",\"1/389\",\"19/390\",\"20/391\",\"16/392\",\"14/393\",\"19/394\",\"28/395\",\"10/396\",\"19/397\",\"4/398\",\"4/399\",\"10/400\",\"16/401\",\"27/402\",\"4/403\",\"31/404\",\"30/405\",\"33/406\",\"33/407\",\"30/408\",\"16/409\",\"10/410\",\"33/411\",\"26/412\",\"19/413\",\"25/414\",\"4/415\",\"35/416\",\"4/417\",\"33/418\",\"15/419\",\"19/420\",\"35/421\",\"6/422\",\"6/423\",\"1/424\",\"1/425\",\"18/426\",\"10/427\",\"14/428\",\"6/429\",\"28/430\",\"30/431\",\"33/432\",\"19/433\",\"35/434\",\"14/435\",\"18/436\",\"19/437\",\"19/438\",\"18/439\",\"33/440\",\"11/441\",\"10/442\",\"18/443\",\"33/444\",\"30/445\",\"33/446\",\"4/447\",\"25/448\",\"33/449\",\"19/450\",\"27/451\",\"33/452\",\"4/453\",\"6/454\",\"4/455\",\"19/456\",\"18/457\",\"31/458\",\"18/459\",\"33/460\",\"4/461\",\"21/462\",\"12/463\",\"15/464\",\"19/465\",\"19/466\",\"33/467\",\"18/468\",\"28/469\",\"29/470\",\"3/471\",\"14/472\",\"11/473\",\"4/474\",\"33/475\",\"30/476\",\"4/477\",\"19/478\",\"11/479\",\"23/480\",\"9/481\",\"35/482\",\"1/483\",\"13/484\",\"30/485\",\"33/486\",\"25/487\",\"4/488\",\"10/489\",\"10/490\",\"35/491\",\"34/492\",\"30/493\",\"3/494\",\"19/495\",\"30/496\",\"30/497\",\"30/498\",\"16/499\",\"30/500\",\"16/501\",\"18/502\",\"30/503\",\"30/504\",\"1/505\",\"30/506\",\"30/507\",\"28/508\",\"32/509\",\"32/510\",\"15/511\",\"21/512\",\"28/513\",\"13/514\",\"15/515\",\"4/516\",\"18/517\",\"35/518\",\"33/519\",\"15/520\",\"16/521\",\"10/522\",\"4/523\",\"4/524\",\"10/525\",\"33/526\",\"18/527\",\"1/528\",\"30/529\",\"30/530\",\"1/531\",\"1/532\",\"31/533\",\"19/534\",\"16/535\",\"23/536\",\"19/537\",\"31/538\",\"0\",\"1\",\"2\",\"3\",\"4\",\"5\",\"6\",\"7\",\"8\",\"9\",\"10\",\"11\",\"12\",\"13\",\"14\",\"15\",\"16\",\"17\",\"18\",\"19\",\"20\",\"21\",\"22\",\"23\",\"24\",\"25\",\"26\",\"27\",\"28\",\"29\",\"30\",\"31\",\"32\",\"33\",\"34\",\"35\"],\"labels\":[\"0\",\"1\",\"2\",\"3\",\"4\",\"5\",\"6\",\"7\",\"8\",\"9\",\"10\",\"11\",\"12\",\"13\",\"14\",\"15\",\"16\",\"17\",\"18\",\"19\",\"20\",\"21\",\"22\",\"23\",\"24\",\"25\",\"26\",\"27\",\"28\",\"29\",\"30\",\"31\",\"32\",\"33\",\"34\",\"35\",\"36\",\"37\",\"38\",\"39\",\"40\",\"41\",\"41\",\"42\",\"43\",\"44\",\"45\",\"46\",\"47\",\"48\",\"49\",\"50\",\"51\",\"52\",\"53\",\"54\",\"55\",\"56\",\"57\",\"58\",\"59\",\"60\",\"61\",\"62\",\"63\",\"64\",\"65\",\"66\",\"67\",\"68\",\"69\",\"70\",\"71\",\"72\",\"73\",\"74\",\"75\",\"76\",\"77\",\"78\",\"79\",\"80\",\"81\",\"82\",\"83\",\"84\",\"85\",\"86\",\"87\",\"88\",\"89\",\"90\",\"91\",\"92\",\"93\",\"94\",\"95\",\"96\",\"97\",\"98\",\"99\",\"100\",\"101\",\"102\",\"103\",\"104\",\"105\",\"106\",\"107\",\"108\",\"109\",\"110\",\"111\",\"112\",\"113\",\"114\",\"115\",\"116\",\"117\",\"118\",\"119\",\"120\",\"121\",\"122\",\"123\",\"124\",\"125\",\"126\",\"127\",\"128\",\"129\",\"130\",\"131\",\"132\",\"133\",\"134\",\"135\",\"136\",\"137\",\"138\",\"139\",\"140\",\"141\",\"142\",\"143\",\"144\",\"145\",\"146\",\"147\",\"148\",\"149\",\"150\",\"151\",\"152\",\"153\",\"154\",\"155\",\"156\",\"157\",\"158\",\"159\",\"160\",\"161\",\"162\",\"163\",\"164\",\"165\",\"166\",\"167\",\"168\",\"169\",\"170\",\"171\",\"172\",\"173\",\"174\",\"175\",\"176\",\"177\",\"178\",\"179\",\"180\",\"181\",\"182\",\"183\",\"184\",\"185\",\"186\",\"187\",\"188\",\"189\",\"190\",\"191\",\"192\",\"193\",\"194\",\"195\",\"196\",\"197\",\"198\",\"199\",\"200\",\"201\",\"202\",\"202\",\"203\",\"204\",\"205\",\"206\",\"207\",\"208\",\"209\",\"210\",\"211\",\"212\",\"213\",\"214\",\"215\",\"216\",\"217\",\"218\",\"219\",\"220\",\"221\",\"222\",\"223\",\"224\",\"225\",\"226\",\"227\",\"228\",\"229\",\"230\",\"231\",\"232\",\"233\",\"234\",\"235\",\"236\",\"237\",\"238\",\"239\",\"240\",\"241\",\"242\",\"243\",\"244\",\"245\",\"246\",\"247\",\"248\",\"249\",\"250\",\"251\",\"252\",\"253\",\"254\",\"255\",\"256\",\"257\",\"258\",\"259\",\"260\",\"261\",\"262\",\"263\",\"264\",\"265\",\"266\",\"267\",\"268\",\"269\",\"270\",\"271\",\"272\",\"273\",\"274\",\"275\",\"276\",\"277\",\"278\",\"279\",\"280\",\"281\",\"282\",\"283\",\"284\",\"285\",\"286\",\"287\",\"288\",\"289\",\"290\",\"291\",\"292\",\"293\",\"294\",\"295\",\"296\",\"297\",\"298\",\"299\",\"300\",\"301\",\"302\",\"303\",\"304\",\"305\",\"306\",\"307\",\"308\",\"309\",\"310\",\"311\",\"312\",\"313\",\"314\",\"315\",\"316\",\"317\",\"318\",\"319\",\"320\",\"321\",\"322\",\"322\",\"323\",\"324\",\"325\",\"326\",\"327\",\"328\",\"329\",\"330\",\"331\",\"332\",\"333\",\"334\",\"335\",\"336\",\"337\",\"338\",\"339\",\"340\",\"341\",\"342\",\"343\",\"344\",\"345\",\"346\",\"347\",\"348\",\"349\",\"350\",\"351\",\"352\",\"353\",\"354\",\"355\",\"356\",\"357\",\"358\",\"359\",\"360\",\"361\",\"362\",\"363\",\"364\",\"365\",\"366\",\"367\",\"368\",\"369\",\"370\",\"371\",\"372\",\"373\",\"374\",\"375\",\"376\",\"377\",\"378\",\"379\",\"380\",\"381\",\"382\",\"383\",\"384\",\"385\",\"386\",\"387\",\"388\",\"389\",\"390\",\"391\",\"392\",\"393\",\"394\",\"395\",\"396\",\"397\",\"398\",\"399\",\"400\",\"401\",\"402\",\"403\",\"404\",\"405\",\"406\",\"407\",\"408\",\"409\",\"410\",\"411\",\"412\",\"413\",\"414\",\"415\",\"416\",\"417\",\"418\",\"419\",\"420\",\"421\",\"422\",\"423\",\"424\",\"425\",\"426\",\"427\",\"428\",\"429\",\"430\",\"431\",\"432\",\"433\",\"434\",\"435\",\"436\",\"437\",\"438\",\"439\",\"440\",\"441\",\"442\",\"443\",\"444\",\"445\",\"446\",\"447\",\"448\",\"449\",\"450\",\"451\",\"452\",\"453\",\"454\",\"455\",\"456\",\"457\",\"458\",\"459\",\"460\",\"461\",\"462\",\"463\",\"464\",\"465\",\"466\",\"467\",\"468\",\"469\",\"470\",\"471\",\"472\",\"473\",\"474\",\"475\",\"476\",\"477\",\"478\",\"479\",\"480\",\"481\",\"482\",\"483\",\"484\",\"485\",\"486\",\"487\",\"488\",\"489\",\"490\",\"491\",\"492\",\"493\",\"494\",\"495\",\"496\",\"497\",\"498\",\"499\",\"500\",\"501\",\"502\",\"503\",\"504\",\"505\",\"506\",\"507\",\"508\",\"509\",\"510\",\"511\",\"512\",\"513\",\"514\",\"515\",\"516\",\"517\",\"518\",\"519\",\"520\",\"521\",\"522\",\"523\",\"524\",\"525\",\"526\",\"527\",\"528\",\"529\",\"530\",\"531\",\"532\",\"533\",\"534\",\"535\",\"536\",\"537\",\"538\",\"0\",\"1\",\"2\",\"3\",\"4\",\"5\",\"6\",\"7\",\"8\",\"9\",\"10\",\"11\",\"12\",\"13\",\"14\",\"15\",\"16\",\"17\",\"18\",\"19\",\"20\",\"21\",\"22\",\"23\",\"24\",\"25\",\"26\",\"27\",\"28\",\"29\",\"30\",\"31\",\"32\",\"33\",\"34\",\"35\"],\"marker\":{\"coloraxis\":\"coloraxis\",\"colors\":[1489790.0,1937690.0,1861396.0,1811851.0,1643317.0,1876346.0,1766121.0,1865169.0,1356701.0,1266794.0,1887127.0,1648383.0,1716160.0,1337808.0,1888524.0,1459556.0,1853711.0,1785657.0,1743515.0,1833091.0,1628451.0,1507875.0,1646435.0,1521363.0,1655870.0,1698876.0,1664160.0,1397779.0,318471.0,1785605.0,1500016.0,1764726.0,1449150.0,1805439.0,2089353.0,1451418.0,339788.0,463775.0,1615865.0,1541145.0,1350710.0,1742883.0,1886284.0,795945.0,1789168.0,1891576.0,1704010.0,1616476.0,1638378.0,1729908.0,1767725.0,1531781.0,1822625.0,1431704.0,1697384.0,1702024.0,2204817.0,2849250.0,2497458.0,2215489.0,1704632.0,1699394.0,1648906.0,1751258.0,1975368.0,1468671.0,1816830.0,2114663.0,1317738.0,1718252.0,1733578.0,1698089.0,1826526.0,1797655.0,1596290.0,1941231.0,1685149.0,1436431.0,1678357.0,1379122.0,1845223.0,1621671.0,2045405.0,1958382.0,1779350.0,1751734.0,1502455.0,1737437.0,1942514.0,1661661.0,1823820.0,1811556.0,1943794.0,1564519.0,1768297.0,1997328.0,1765334.0,1890100.0,1654317.0,1628033.0,2142861.0,1699678.0,1775095.0,1797587.0,1664125.0,1851628.0,1876953.0,1699219.0,1627199.0,1744446.0,1705073.0,1787925.0,1762918.0,1829373.0,1230197.0,1686333.0,1756837.0,646729.0,1562283.0,1910188.0,1425218.0,1332300.0,1487681.0,1973533.0,2443112.0,1514783.0,1671253.0,1480222.0,1808780.0,1612556.0,1760633.0,1566499.0,2015911.0,2019104.0,1958904.0,1814200.0,1364038.0,1518996.0,250029.0,1598939.0,1724976.0,121740.0,1768777.0,1654811.0,1611317.0,1730289.0,1633064.0,1754195.0,1760503.0,2072634.0,1786151.0,1485804.0,1727311.0,1644674.0,1504403.0,1858566.0,1908173.0,1719190.0,1314319.0,1541881.0,1732936.0,1885433.0,1566196.0,1397253.0,1940269.0,2039302.0,1594950.0,1245972.0,1462246.0,1621295.0,1757984.0,1821785.0,2071816.0,1541971.0,1708585.0,1502861.0,1839312.0,1718837.0,1790510.0,1618419.0,1581366.0,1945772.0,1943486.0,1355796.0,2181319.0,2302960.0,1704596.0,1800002.0,2728978.0,1881077.0,1991651.0,1649413.0,1716766.0,1770248.0,1839514.0,1981197.0,1945765.0,1675724.0,1706119.0,1595284.0,2150728.0,2000744.0,1823664.0,1362269.0,1749100.0,1807119.0,1840738.0,1652999.0,1864320.0,1776555.0,1708510.0,1667465.0,1578218.0,1733729.0,1631817.0,1766601.0,1706141.0,1597500.0,1633925.0,1957931.0,1204191.0,2350580.0,937464.0,1819893.0,1816857.0,1643595.0,1588454.0,2127021.0,1952542.0,1475007.0,1617018.0,1933358.0,1931400.0,1867220.0,2071244.0,1735464.0,2047302.0,1657166.0,1703279.0,1718814.0,1616213.0,1897134.0,1867976.0,1648355.0,1903870.0,1852417.0,2040739.0,1641868.0,1937882.0,1956755.0,1365035.0,1642864.0,1744321.0,1570330.0,1666703.0,1805946.0,1563930.0,1611056.0,1734938.0,1528938.0,1965676.0,1643992.0,1288666.0,1427338.0,1558952.0,1874824.0,1501250.0,1266550.0,1632983.0,1660147.0,1771254.0,1810574.0,1340173.0,1651543.0,1904193.0,1387286.0,1363937.0,1653353.0,1787120.0,1710916.0,1516688.0,1638842.0,1676454.0,1842095.0,1513809.0,1909055.0,1834385.0,1804028.0,1770699.0,1202664.0,1659651.0,1814125.0,1776358.0,1629961.0,1880496.0,1728851.0,1444082.0,1296720.0,1736693.0,1434384.0,1508840.0,1948010.0,1206698.0,1318024.0,1530404.0,1631698.0,1573009.0,1657335.0,1761564.0,179232.0,1708013.0,55189.0,1751980.0,1886657.0,1234286.0,2040367.0,1683325.0,1848306.0,1473347.0,1909574.0,1884883.0,1792798.0,1539026.0,1424385.0,1807768.0,1915408.0,1637951.0,1506102.0,1648869.0,1723236.0,1370544.0,1575590.0,1685955.0,3150313.0,1281462.0,1951267.0,1760875.0,1712004.0,1800237.0,1807893.0,1652096.0,2298080.0,1308102.0,1484842.0,1493205.0,1603318.0,1674236.0,1892931.0,1845150.0,1796932.0,792464.0,2023431.0,1958939.0,1837723.0,1647350.0,1679891.0,1588693.0,1732263.0,1554176.0,1440380.0,1888025.0,1725187.0,1698003.0,1730553.0,1896333.0,1461004.0,1213777.0,1303649.0,1588111.0,1933169.0,1586117.0,2161096.0,1828433.0,2114809.0,1585980.0,1413599.0,1719322.0,1871099.0,1603220.0,1670391.0,1439691.0,1885064.0,1971658.0,1899747.0,1672845.0,1617470.0,1366060.0,1553385.0,2290492.0,556761.0,2378995.0,1794648.0,1556469.0,1889740.0,1022099.0,1323010.0,1881441.0,1885600.0,2161663.0,1744762.0,1985228.0,1633824.0,1925479.0,1807043.0,1382741.0,1739600.0,2146008.0,1479091.0,1391853.0,2010477.0,1761207.0,1520504.0,1356803.0,1662368.0,1708759.0,973410.0,2075824.0,1562331.0,1765312.0,1645884.0,1658672.0,1702248.0,1928204.0,1652965.0,1601220.0,1733805.0,2111738.0,1534256.0,1546938.0,1694329.0,1884339.0,1454436.0,1716459.0,1912911.0,1559740.0,1679506.0,1922764.0,1762252.0,1915959.0,1851112.0,1455577.0,1775051.0,1679534.0,1723538.0,1737133.0,1801717.0,1583129.0,1739082.0,1612512.0,1667282.0,1679030.0,1468530.0,1828764.0,1809109.0,1529431.0,1962903.0,1667253.0,1655239.0,1787878.0,1848489.0,1575064.0,1968276.0,1656474.0,2114201.0,1686215.0,1197806.0,1259085.0,1676668.0,1587079.0,2175529.0,1914739.0,1845547.0,2041612.0,434128.0,1195720.0,1269917.0,1803349.0,1752454.0,1666126.0,1552019.0,1799551.0,1851654.0,1592611.0,2067463.0,579352.0,1785472.0,1553860.0,1294671.0,2253448.0,1775196.0,1531525.0,1690620.0,1655704.0,1849429.0,1694646.0,1493543.0,1492317.0,1499639.0,2370903.0,1461052.0,1561040.0,1946870.0,1371427.0,1427783.0,1337110.0,1647399.0,1508963.0,1547800.0,1650453.0,1530014.0,1473862.0,1945992.0,1261861.0,1352857.0,1608545.0,716990.0,2069559.0,1685816.0,1513806.0,1612300.0,1661229.0,1614988.0,2191465.0,1556599.0,1288926.0,1794896.0,1735983.0,1665502.0,1671030.0,1856791.0,1741604.0,1652994.0,1444335.0,1484256.0,1829300.0,1503980.0,1666770.0,1743283.0,1359679.0,2371644.0,1916185.0,1498666.0,318471.0,1579697.9337886018,405767.0152120328,1632869.906813236,1771147.5444402588,646729.0,1685230.8100908457,250029.0,121740.0,568281.104982515,1732629.4966701989,1805054.9374463586,1340437.9411278598,1473715.5215353356,1582734.3623917906,1856157.3440497536,1315011.4936249873,55189.0,1790802.4581198045,1853232.309451209,981609.2246572323,984390.0606508395,792464.0,2100878.067652333,1213777.0,1546743.3359206351,973410.0,1607719.114548752,1962953.8311939945,434128.0,1569274.797393085,1820937.59503783,1308942.396759421,1839344.7482990066,1588320.966782033,1669988.8508547493]},\"name\":\"\",\"parents\":[\"31\",\"33\",\"19\",\"10\",\"10\",\"28\",\"33\",\"19\",\"16\",\"16\",\"33\",\"35\",\"33\",\"34\",\"28\",\"1\",\"11\",\"33\",\"33\",\"19\",\"10\",\"27\",\"33\",\"1\",\"10\",\"27\",\"1\",\"13\",\"0\",\"33\",\"30\",\"35\",\"30\",\"4\",\"4\",\"1\",\"2\",\"2\",\"35\",\"25\",\"16\",\"4\",\"19\",\"3\",\"33\",\"33\",\"15\",\"33\",\"35\",\"33\",\"18\",\"25\",\"33\",\"35\",\"10\",\"33\",\"15\",\"15\",\"15\",\"15\",\"35\",\"4\",\"35\",\"33\",\"28\",\"1\",\"33\",\"19\",\"13\",\"35\",\"35\",\"35\",\"10\",\"33\",\"25\",\"28\",\"3\",\"35\",\"35\",\"6\",\"33\",\"27\",\"19\",\"4\",\"15\",\"15\",\"25\",\"18\",\"33\",\"25\",\"4\",\"19\",\"28\",\"10\",\"10\",\"28\",\"18\",\"19\",\"11\",\"31\",\"18\",\"25\",\"15\",\"15\",\"33\",\"28\",\"6\",\"35\",\"35\",\"25\",\"35\",\"33\",\"19\",\"4\",\"16\",\"15\",\"33\",\"5\",\"23\",\"19\",\"14\",\"30\",\"30\",\"30\",\"31\",\"18\",\"10\",\"30\",\"15\",\"15\",\"15\",\"1\",\"28\",\"28\",\"30\",\"35\",\"30\",\"25\",\"7\",\"10\",\"15\",\"8\",\"18\",\"4\",\"35\",\"28\",\"15\",\"33\",\"18\",\"14\",\"18\",\"30\",\"15\",\"33\",\"25\",\"3\",\"19\",\"35\",\"3\",\"30\",\"19\",\"33\",\"35\",\"14\",\"6\",\"23\",\"1\",\"16\",\"30\",\"33\",\"33\",\"33\",\"11\",\"27\",\"33\",\"27\",\"33\",\"33\",\"33\",\"27\",\"19\",\"10\",\"28\",\"34\",\"3\",\"33\",\"4\",\"35\",\"33\",\"33\",\"33\",\"14\",\"14\",\"33\",\"4\",\"33\",\"15\",\"18\",\"1\",\"27\",\"11\",\"18\",\"4\",\"12\",\"33\",\"33\",\"34\",\"15\",\"33\",\"19\",\"15\",\"14\",\"1\",\"19\",\"11\",\"35\",\"18\",\"27\",\"35\",\"31\",\"16\",\"18\",\"20\",\"18\",\"35\",\"25\",\"4\",\"28\",\"28\",\"25\",\"27\",\"33\",\"19\",\"19\",\"28\",\"35\",\"13\",\"10\",\"14\",\"4\",\"35\",\"6\",\"33\",\"35\",\"28\",\"4\",\"33\",\"35\",\"28\",\"28\",\"3\",\"10\",\"10\",\"1\",\"33\",\"33\",\"1\",\"25\",\"3\",\"30\",\"19\",\"30\",\"25\",\"12\",\"6\",\"33\",\"30\",\"16\",\"33\",\"35\",\"4\",\"28\",\"3\",\"31\",\"11\",\"30\",\"16\",\"4\",\"33\",\"25\",\"25\",\"27\",\"4\",\"18\",\"31\",\"18\",\"18\",\"10\",\"33\",\"14\",\"4\",\"14\",\"3\",\"15\",\"19\",\"35\",\"35\",\"16\",\"15\",\"25\",\"6\",\"28\",\"16\",\"16\",\"30\",\"35\",\"1\",\"11\",\"33\",\"13\",\"3\",\"17\",\"33\",\"19\",\"14\",\"33\",\"27\",\"33\",\"1\",\"19\",\"4\",\"4\",\"30\",\"31\",\"4\",\"33\",\"6\",\"31\",\"10\",\"33\",\"16\",\"35\",\"35\",\"31\",\"12\",\"18\",\"18\",\"15\",\"3\",\"33\",\"35\",\"19\",\"16\",\"30\",\"25\",\"31\",\"35\",\"33\",\"33\",\"33\",\"22\",\"33\",\"33\",\"18\",\"19\",\"19\",\"19\",\"19\",\"19\",\"19\",\"4\",\"35\",\"33\",\"4\",\"15\",\"25\",\"24\",\"30\",\"31\",\"28\",\"33\",\"19\",\"34\",\"4\",\"31\",\"30\",\"19\",\"19\",\"1\",\"1\",\"1\",\"19\",\"10\",\"4\",\"1\",\"23\",\"30\",\"31\",\"23\",\"9\",\"23\",\"3\",\"1\",\"19\",\"20\",\"16\",\"14\",\"19\",\"28\",\"10\",\"19\",\"4\",\"4\",\"10\",\"16\",\"27\",\"4\",\"31\",\"30\",\"33\",\"33\",\"30\",\"16\",\"10\",\"33\",\"26\",\"19\",\"25\",\"4\",\"35\",\"4\",\"33\",\"15\",\"19\",\"35\",\"6\",\"6\",\"1\",\"1\",\"18\",\"10\",\"14\",\"6\",\"28\",\"30\",\"33\",\"19\",\"35\",\"14\",\"18\",\"19\",\"19\",\"18\",\"33\",\"11\",\"10\",\"18\",\"33\",\"30\",\"33\",\"4\",\"25\",\"33\",\"19\",\"27\",\"33\",\"4\",\"6\",\"4\",\"19\",\"18\",\"31\",\"18\",\"33\",\"4\",\"21\",\"12\",\"15\",\"19\",\"19\",\"33\",\"18\",\"28\",\"29\",\"3\",\"14\",\"11\",\"4\",\"33\",\"30\",\"4\",\"19\",\"11\",\"23\",\"9\",\"35\",\"1\",\"13\",\"30\",\"33\",\"25\",\"4\",\"10\",\"10\",\"35\",\"34\",\"30\",\"3\",\"19\",\"30\",\"30\",\"30\",\"16\",\"30\",\"16\",\"18\",\"30\",\"30\",\"1\",\"30\",\"30\",\"28\",\"32\",\"32\",\"15\",\"21\",\"28\",\"13\",\"15\",\"4\",\"18\",\"35\",\"33\",\"15\",\"16\",\"10\",\"4\",\"4\",\"10\",\"33\",\"18\",\"1\",\"30\",\"30\",\"1\",\"1\",\"31\",\"19\",\"16\",\"23\",\"19\",\"31\",\"\",\"\",\"\",\"\",\"\",\"\",\"\",\"\",\"\",\"\",\"\",\"\",\"\",\"\",\"\",\"\",\"\",\"\",\"\",\"\",\"\",\"\",\"\",\"\",\"\",\"\",\"\",\"\",\"\",\"\",\"\",\"\",\"\",\"\",\"\",\"\"],\"values\":[5959160,5813070,5584188,3623702,6573268,7505384,5298363,5595507,4070103,3800382,5661381,8241915,6864640,5351232,5665572,5838224,7414844,7142628,3487030,7332364,6513804,7539375,4939305,7606815,4967610,8494380,8320800,8386674,1592355,5356815,9000096,8823630,8694900,5416317,10446765,11611344,2038728,2318875,9695190,6164580,4052130,17428830,7545136,4775670,3578336,5674728,3408020,3232952,9830268,6919632,7070900,4595343,5467875,7158520,10184304,8510120,6614451,5698500,7492374,4430978,6818528,11895758,8244530,5253774,11852208,7343355,5450490,6343989,10541904,8591260,8667890,6792356,5479578,5392965,6385160,7764924,6740596,7182155,6713428,11032976,7380892,8108355,8181620,9791910,3558700,3503468,6009820,6949748,5827542,4984983,5471460,9057780,5831382,6258076,5304891,9986640,5296002,9450500,6617268,8140165,4285722,5099034,5325285,8987935,4992375,7406512,5630859,8496095,8135995,8722230,8525365,5363775,5288754,10976238,3690591,6745332,8784185,2586916,4686849,5730564,11401744,7993800,8926086,11841198,7329336,7573915,6685012,8881332,7235120,4837668,3521266,7832495,6047733,8076416,11753424,7256800,6820190,4556988,1750203,7994695,5174928,486960,5306331,8274055,8056585,5190867,3266128,7016780,5281509,4145268,7144604,8914824,3454622,6578696,4513209,5575698,5724519,8595950,3942957,9251286,6931744,7541732,7830980,9780771,5820807,8157208,7974750,3737916,8773476,3242590,5273952,5465355,6215448,7709855,5125755,7514305,7357248,6875348,5371530,8092095,9488196,5837316,7773944,4067388,6543957,6908880,20455152,7200008,8186934,7524308,9958255,4948239,10300596,5310744,12876598,5943591,3891530,6702896,6824476,6381136,6452184,6002232,12765648,2724538,8745500,7228476,5522214,4958997,5592960,5329665,3417020,8337325,7891090,6934916,6527268,7066404,6824564,7987500,6535700,7831724,3612573,4701160,4687320,5459679,7267428,4930785,12707632,4254042,3905084,4425021,8085090,9666790,5794200,7468880,6213732,8677320,4094604,3314332,3406558,12031698,8081065,5691402,5603928,8241775,5711610,11114502,8162956,8209340,3875764,3913510,5460140,6571456,5232963,4710990,5000109,7223784,6255720,9666336,6939752,7644690,9828380,8219960,5154664,4282014,4676856,3749648,6005000,3799650,4898949,6640588,12398778,5431722,4020519,6606172,9520965,6936430,4091811,4960059,10722720,5132748,6066752,6555368,11735178,5526285,10596663,7636220,9171925,5412084,7082796,6013320,8298255,9070625,10658148,4889883,5641488,8644255,5776328,3890160,3473386,11475072,9053040,3896020,3620094,3954072,7652020,6526792,7865045,8286675,5284692,716928,6832052,165567,7007920,5659971,8640002,6121101,8416625,7393224,5893388,7638296,9424415,10756788,9234156,11395080,10846608,5746224,6551804,6024408,4946607,3446472,5482176,4726770,6743820,15751565,3844386,11707602,3521750,5136012,7200948,5423679,6608384,9192320,3924306,7424210,7466025,11223226,8371180,5678793,9225750,5390796,3962320,6070293,5876817,5513169,6589400,6719564,6354772,6929052,6216704,7201900,13216175,8625935,3396006,6922212,5688999,7305020,3641331,6518245,9528666,7732676,4758351,8644384,5485299,12688854,6343920,8481594,5157966,9355495,6412880,6681564,8638146,7540256,3943316,9498735,6691380,4852410,6830300,4660155,9161968,2227044,7136985,3589296,6225876,5669220,5110495,3969030,13170087,11313600,6484989,5234286,7940912,8169120,5776437,5421129,4148223,6958400,4292016,7395455,6959265,6031431,3522414,9123024,6784015,4987104,8543795,4867050,8303296,4686993,10591872,6583536,11610704,5106744,7712816,8264825,8006100,6935220,4223476,7671280,7734690,3388658,7537356,8726616,6865836,9564555,7798700,5038518,7691056,7049008,5747877,7404448,10189039,5325153,6718136,12064766,6948532,5405151,4749387,5217246,9675072,6669128,13432240,5874120,5486292,5427327,7647155,7851612,8336265,8276195,8939390,5545467,4725192,7873104,9938844,6342603,13489720,3593418,2518170,3353336,9522474,6526587,9573695,11073282,6124836,1736512,2391440,8889419,9016745,10514724,4998378,9312114,10797306,5554962,6370444,8269852,2317408,8927360,7769300,5178684,13520688,7100784,7657625,13524960,3311408,7397716,6778584,4480629,8953902,5998556,9483612,10227364,7805200,13628090,4114281,7138915,4011330,4942197,9053778,9286800,9902718,9180084,8843172,5837976,6309305,6764285,4825635,2867960,12417354,8429080,4541418,14510700,3322458,6459952,6574395,4669797,3866778,5384688,12151881,11658514,6684120,5570373,5224812,8264970,10110345,8905536,10975800,7519900,10000620,6973132,4079037,7114932,11497110,5994664,1592355,190456996,4357603,80669729,430194469,2586916,74758471,1750203,486960,4544452,150205972,73370373,13369108,37347874,112578447,139813604,82698658,165567,183163627,351680242,9797815,6461378,3962320,49380204,3641331,130872508,4867050,99489639,168465452,1736512,335319266,142654083,13073590,500265479,24906762,321405072],\"type\":\"sunburst\"}],                        {\"template\":{\"data\":{\"barpolar\":[{\"marker\":{\"line\":{\"color\":\"rgb(17,17,17)\",\"width\":0.5},\"pattern\":{\"fillmode\":\"overlay\",\"size\":10,\"solidity\":0.2}},\"type\":\"barpolar\"}],\"bar\":[{\"error_x\":{\"color\":\"#f2f5fa\"},\"error_y\":{\"color\":\"#f2f5fa\"},\"marker\":{\"line\":{\"color\":\"rgb(17,17,17)\",\"width\":0.5},\"pattern\":{\"fillmode\":\"overlay\",\"size\":10,\"solidity\":0.2}},\"type\":\"bar\"}],\"carpet\":[{\"aaxis\":{\"endlinecolor\":\"#A2B1C6\",\"gridcolor\":\"#506784\",\"linecolor\":\"#506784\",\"minorgridcolor\":\"#506784\",\"startlinecolor\":\"#A2B1C6\"},\"baxis\":{\"endlinecolor\":\"#A2B1C6\",\"gridcolor\":\"#506784\",\"linecolor\":\"#506784\",\"minorgridcolor\":\"#506784\",\"startlinecolor\":\"#A2B1C6\"},\"type\":\"carpet\"}],\"choropleth\":[{\"colorbar\":{\"outlinewidth\":0,\"ticks\":\"\"},\"type\":\"choropleth\"}],\"contourcarpet\":[{\"colorbar\":{\"outlinewidth\":0,\"ticks\":\"\"},\"type\":\"contourcarpet\"}],\"contour\":[{\"colorbar\":{\"outlinewidth\":0,\"ticks\":\"\"},\"colorscale\":[[0.0,\"#0d0887\"],[0.1111111111111111,\"#46039f\"],[0.2222222222222222,\"#7201a8\"],[0.3333333333333333,\"#9c179e\"],[0.4444444444444444,\"#bd3786\"],[0.5555555555555556,\"#d8576b\"],[0.6666666666666666,\"#ed7953\"],[0.7777777777777778,\"#fb9f3a\"],[0.8888888888888888,\"#fdca26\"],[1.0,\"#f0f921\"]],\"type\":\"contour\"}],\"heatmapgl\":[{\"colorbar\":{\"outlinewidth\":0,\"ticks\":\"\"},\"colorscale\":[[0.0,\"#0d0887\"],[0.1111111111111111,\"#46039f\"],[0.2222222222222222,\"#7201a8\"],[0.3333333333333333,\"#9c179e\"],[0.4444444444444444,\"#bd3786\"],[0.5555555555555556,\"#d8576b\"],[0.6666666666666666,\"#ed7953\"],[0.7777777777777778,\"#fb9f3a\"],[0.8888888888888888,\"#fdca26\"],[1.0,\"#f0f921\"]],\"type\":\"heatmapgl\"}],\"heatmap\":[{\"colorbar\":{\"outlinewidth\":0,\"ticks\":\"\"},\"colorscale\":[[0.0,\"#0d0887\"],[0.1111111111111111,\"#46039f\"],[0.2222222222222222,\"#7201a8\"],[0.3333333333333333,\"#9c179e\"],[0.4444444444444444,\"#bd3786\"],[0.5555555555555556,\"#d8576b\"],[0.6666666666666666,\"#ed7953\"],[0.7777777777777778,\"#fb9f3a\"],[0.8888888888888888,\"#fdca26\"],[1.0,\"#f0f921\"]],\"type\":\"heatmap\"}],\"histogram2dcontour\":[{\"colorbar\":{\"outlinewidth\":0,\"ticks\":\"\"},\"colorscale\":[[0.0,\"#0d0887\"],[0.1111111111111111,\"#46039f\"],[0.2222222222222222,\"#7201a8\"],[0.3333333333333333,\"#9c179e\"],[0.4444444444444444,\"#bd3786\"],[0.5555555555555556,\"#d8576b\"],[0.6666666666666666,\"#ed7953\"],[0.7777777777777778,\"#fb9f3a\"],[0.8888888888888888,\"#fdca26\"],[1.0,\"#f0f921\"]],\"type\":\"histogram2dcontour\"}],\"histogram2d\":[{\"colorbar\":{\"outlinewidth\":0,\"ticks\":\"\"},\"colorscale\":[[0.0,\"#0d0887\"],[0.1111111111111111,\"#46039f\"],[0.2222222222222222,\"#7201a8\"],[0.3333333333333333,\"#9c179e\"],[0.4444444444444444,\"#bd3786\"],[0.5555555555555556,\"#d8576b\"],[0.6666666666666666,\"#ed7953\"],[0.7777777777777778,\"#fb9f3a\"],[0.8888888888888888,\"#fdca26\"],[1.0,\"#f0f921\"]],\"type\":\"histogram2d\"}],\"histogram\":[{\"marker\":{\"pattern\":{\"fillmode\":\"overlay\",\"size\":10,\"solidity\":0.2}},\"type\":\"histogram\"}],\"mesh3d\":[{\"colorbar\":{\"outlinewidth\":0,\"ticks\":\"\"},\"type\":\"mesh3d\"}],\"parcoords\":[{\"line\":{\"colorbar\":{\"outlinewidth\":0,\"ticks\":\"\"}},\"type\":\"parcoords\"}],\"pie\":[{\"automargin\":true,\"type\":\"pie\"}],\"scatter3d\":[{\"line\":{\"colorbar\":{\"outlinewidth\":0,\"ticks\":\"\"}},\"marker\":{\"colorbar\":{\"outlinewidth\":0,\"ticks\":\"\"}},\"type\":\"scatter3d\"}],\"scattercarpet\":[{\"marker\":{\"colorbar\":{\"outlinewidth\":0,\"ticks\":\"\"}},\"type\":\"scattercarpet\"}],\"scattergeo\":[{\"marker\":{\"colorbar\":{\"outlinewidth\":0,\"ticks\":\"\"}},\"type\":\"scattergeo\"}],\"scattergl\":[{\"marker\":{\"line\":{\"color\":\"#283442\"}},\"type\":\"scattergl\"}],\"scattermapbox\":[{\"marker\":{\"colorbar\":{\"outlinewidth\":0,\"ticks\":\"\"}},\"type\":\"scattermapbox\"}],\"scatterpolargl\":[{\"marker\":{\"colorbar\":{\"outlinewidth\":0,\"ticks\":\"\"}},\"type\":\"scatterpolargl\"}],\"scatterpolar\":[{\"marker\":{\"colorbar\":{\"outlinewidth\":0,\"ticks\":\"\"}},\"type\":\"scatterpolar\"}],\"scatter\":[{\"marker\":{\"line\":{\"color\":\"#283442\"}},\"type\":\"scatter\"}],\"scatterternary\":[{\"marker\":{\"colorbar\":{\"outlinewidth\":0,\"ticks\":\"\"}},\"type\":\"scatterternary\"}],\"surface\":[{\"colorbar\":{\"outlinewidth\":0,\"ticks\":\"\"},\"colorscale\":[[0.0,\"#0d0887\"],[0.1111111111111111,\"#46039f\"],[0.2222222222222222,\"#7201a8\"],[0.3333333333333333,\"#9c179e\"],[0.4444444444444444,\"#bd3786\"],[0.5555555555555556,\"#d8576b\"],[0.6666666666666666,\"#ed7953\"],[0.7777777777777778,\"#fb9f3a\"],[0.8888888888888888,\"#fdca26\"],[1.0,\"#f0f921\"]],\"type\":\"surface\"}],\"table\":[{\"cells\":{\"fill\":{\"color\":\"#506784\"},\"line\":{\"color\":\"rgb(17,17,17)\"}},\"header\":{\"fill\":{\"color\":\"#2a3f5f\"},\"line\":{\"color\":\"rgb(17,17,17)\"}},\"type\":\"table\"}]},\"layout\":{\"annotationdefaults\":{\"arrowcolor\":\"#f2f5fa\",\"arrowhead\":0,\"arrowwidth\":1},\"autotypenumbers\":\"strict\",\"coloraxis\":{\"colorbar\":{\"outlinewidth\":0,\"ticks\":\"\"}},\"colorscale\":{\"diverging\":[[0,\"#8e0152\"],[0.1,\"#c51b7d\"],[0.2,\"#de77ae\"],[0.3,\"#f1b6da\"],[0.4,\"#fde0ef\"],[0.5,\"#f7f7f7\"],[0.6,\"#e6f5d0\"],[0.7,\"#b8e186\"],[0.8,\"#7fbc41\"],[0.9,\"#4d9221\"],[1,\"#276419\"]],\"sequential\":[[0.0,\"#0d0887\"],[0.1111111111111111,\"#46039f\"],[0.2222222222222222,\"#7201a8\"],[0.3333333333333333,\"#9c179e\"],[0.4444444444444444,\"#bd3786\"],[0.5555555555555556,\"#d8576b\"],[0.6666666666666666,\"#ed7953\"],[0.7777777777777778,\"#fb9f3a\"],[0.8888888888888888,\"#fdca26\"],[1.0,\"#f0f921\"]],\"sequentialminus\":[[0.0,\"#0d0887\"],[0.1111111111111111,\"#46039f\"],[0.2222222222222222,\"#7201a8\"],[0.3333333333333333,\"#9c179e\"],[0.4444444444444444,\"#bd3786\"],[0.5555555555555556,\"#d8576b\"],[0.6666666666666666,\"#ed7953\"],[0.7777777777777778,\"#fb9f3a\"],[0.8888888888888888,\"#fdca26\"],[1.0,\"#f0f921\"]]},\"colorway\":[\"#636efa\",\"#EF553B\",\"#00cc96\",\"#ab63fa\",\"#FFA15A\",\"#19d3f3\",\"#FF6692\",\"#B6E880\",\"#FF97FF\",\"#FECB52\"],\"font\":{\"color\":\"#f2f5fa\"},\"geo\":{\"bgcolor\":\"rgb(17,17,17)\",\"lakecolor\":\"rgb(17,17,17)\",\"landcolor\":\"rgb(17,17,17)\",\"showlakes\":true,\"showland\":true,\"subunitcolor\":\"#506784\"},\"hoverlabel\":{\"align\":\"left\"},\"hovermode\":\"closest\",\"mapbox\":{\"style\":\"dark\"},\"paper_bgcolor\":\"rgb(17,17,17)\",\"plot_bgcolor\":\"rgb(17,17,17)\",\"polar\":{\"angularaxis\":{\"gridcolor\":\"#506784\",\"linecolor\":\"#506784\",\"ticks\":\"\"},\"bgcolor\":\"rgb(17,17,17)\",\"radialaxis\":{\"gridcolor\":\"#506784\",\"linecolor\":\"#506784\",\"ticks\":\"\"}},\"scene\":{\"xaxis\":{\"backgroundcolor\":\"rgb(17,17,17)\",\"gridcolor\":\"#506784\",\"gridwidth\":2,\"linecolor\":\"#506784\",\"showbackground\":true,\"ticks\":\"\",\"zerolinecolor\":\"#C8D4E3\"},\"yaxis\":{\"backgroundcolor\":\"rgb(17,17,17)\",\"gridcolor\":\"#506784\",\"gridwidth\":2,\"linecolor\":\"#506784\",\"showbackground\":true,\"ticks\":\"\",\"zerolinecolor\":\"#C8D4E3\"},\"zaxis\":{\"backgroundcolor\":\"rgb(17,17,17)\",\"gridcolor\":\"#506784\",\"gridwidth\":2,\"linecolor\":\"#506784\",\"showbackground\":true,\"ticks\":\"\",\"zerolinecolor\":\"#C8D4E3\"}},\"shapedefaults\":{\"line\":{\"color\":\"#f2f5fa\"}},\"sliderdefaults\":{\"bgcolor\":\"#C8D4E3\",\"bordercolor\":\"rgb(17,17,17)\",\"borderwidth\":1,\"tickwidth\":0},\"ternary\":{\"aaxis\":{\"gridcolor\":\"#506784\",\"linecolor\":\"#506784\",\"ticks\":\"\"},\"baxis\":{\"gridcolor\":\"#506784\",\"linecolor\":\"#506784\",\"ticks\":\"\"},\"bgcolor\":\"rgb(17,17,17)\",\"caxis\":{\"gridcolor\":\"#506784\",\"linecolor\":\"#506784\",\"ticks\":\"\"}},\"title\":{\"x\":0.05},\"updatemenudefaults\":{\"bgcolor\":\"#506784\",\"borderwidth\":0},\"xaxis\":{\"automargin\":true,\"gridcolor\":\"#283442\",\"linecolor\":\"#506784\",\"ticks\":\"\",\"title\":{\"standoff\":15},\"zerolinecolor\":\"#283442\",\"zerolinewidth\":2},\"yaxis\":{\"automargin\":true,\"gridcolor\":\"#283442\",\"linecolor\":\"#506784\",\"ticks\":\"\",\"title\":{\"standoff\":15},\"zerolinecolor\":\"#283442\",\"zerolinewidth\":2}}},\"coloraxis\":{\"colorbar\":{\"title\":{\"text\":\"TOTAL ELECTORS\"}},\"colorscale\":[[0.0,\"#fde725\"],[0.1111111111111111,\"#b5de2b\"],[0.2222222222222222,\"#6ece58\"],[0.3333333333333333,\"#35b779\"],[0.4444444444444444,\"#1f9e89\"],[0.5555555555555556,\"#26828e\"],[0.6666666666666666,\"#31688e\"],[0.7777777777777778,\"#3e4989\"],[0.8888888888888888,\"#482878\"],[1.0,\"#440154\"]]},\"legend\":{\"tracegroupgap\":0},\"margin\":{\"t\":60},\"title\":{\"text\":\"Sunburst Image of States and Constituencies\"}},                        {\"responsive\": true}                    ).then(function(){\n",
              "                            \n",
              "var gd = document.getElementById('3a7d6dff-6432-45ba-8371-5f7b81a4b723');\n",
              "var x = new MutationObserver(function (mutations, observer) {{\n",
              "        var display = window.getComputedStyle(gd).display;\n",
              "        if (!display || display === 'none') {{\n",
              "            console.log([gd, 'removed!']);\n",
              "            Plotly.purge(gd);\n",
              "            observer.disconnect();\n",
              "        }}\n",
              "}});\n",
              "\n",
              "// Listen for the removal of the full notebook cells\n",
              "var notebookContainer = gd.closest('#notebook-container');\n",
              "if (notebookContainer) {{\n",
              "    x.observe(notebookContainer, {childList: true});\n",
              "}}\n",
              "\n",
              "// Listen for the clearing of the current output cell\n",
              "var outputEl = gd.closest('.output');\n",
              "if (outputEl) {{\n",
              "    x.observe(outputEl, {childList: true});\n",
              "}}\n",
              "\n",
              "                        })                };                            </script>        </div>\n",
              "</body>\n",
              "</html>"
            ]
          },
          "metadata": {}
        }
      ]
    },
    {
      "cell_type": "code",
      "source": [
        "#Finding the gender distribution\n",
        "req=pd.DataFrame(vote['GENDER'])\n",
        "fig=px.pie(req,names='GENDER')\n",
        "fig.update_layout(title_text='Gender Distribution in Participation',\n",
        "                  template='plotly_dark')\n",
        "fig.show()"
      ],
      "metadata": {
        "colab": {
          "base_uri": "https://localhost:8080/",
          "height": 542
        },
        "id": "zINYo6ZguOBr",
        "outputId": "6b3457aa-b7ca-4ab4-db15-9d7f36e7114b"
      },
      "execution_count": null,
      "outputs": [
        {
          "output_type": "display_data",
          "data": {
            "text/html": [
              "<html>\n",
              "<head><meta charset=\"utf-8\" /></head>\n",
              "<body>\n",
              "    <div>            <script src=\"https://cdnjs.cloudflare.com/ajax/libs/mathjax/2.7.5/MathJax.js?config=TeX-AMS-MML_SVG\"></script><script type=\"text/javascript\">if (window.MathJax && window.MathJax.Hub && window.MathJax.Hub.Config) {window.MathJax.Hub.Config({SVG: {font: \"STIX-Web\"}});}</script>                <script type=\"text/javascript\">window.PlotlyConfig = {MathJaxConfig: 'local'};</script>\n",
              "        <script src=\"https://cdn.plot.ly/plotly-2.18.2.min.js\"></script>                <div id=\"d4312866-b41e-4d5b-a1d7-6c568cad819b\" class=\"plotly-graph-div\" style=\"height:525px; width:100%;\"></div>            <script type=\"text/javascript\">                                    window.PLOTLYENV=window.PLOTLYENV || {};                                    if (document.getElementById(\"d4312866-b41e-4d5b-a1d7-6c568cad819b\")) {                    Plotly.newPlot(                        \"d4312866-b41e-4d5b-a1d7-6c568cad819b\",                        [{\"domain\":{\"x\":[0.0,1.0],\"y\":[0.0,1.0]},\"hovertemplate\":\"GENDER=%{label}<extra></extra>\",\"labels\":[1,1,1,2,1,1,0,1,1,1,1,0,1,1,2,1,1,1,1,1,1,0,1,1,1,1,1,0,1,0,1,1,1,1,1,1,1,0,1,2,0,1,1,1,1,1,2,1,1,1,1,0,1,1,2,1,0,1,1,1,1,1,2,0,1,0,1,1,1,1,1,2,1,1,1,1,0,2,1,1,1,0,1,1,2,1,1,1,2,1,1,1,1,2,1,1,1,1,2,1,1,0,1,1,1,1,1,1,1,1,1,0,1,1,1,1,1,1,2,0,1,1,0,2,1,1,1,0,2,1,1,1,2,1,1,2,1,1,0,1,2,1,1,0,1,0,1,1,1,1,1,2,1,1,0,1,1,1,0,1,1,2,1,0,0,1,2,1,1,0,1,1,1,1,1,1,1,1,2,1,1,1,1,1,1,1,1,1,1,2,1,1,0,1,1,1,0,1,1,1,1,1,2,1,1,1,1,0,2,1,1,1,1,1,1,1,1,1,1,1,0,1,1,2,1,1,1,2,1,0,1,1,1,2,1,1,1,1,1,1,1,1,1,1,1,1,0,1,1,1,1,0,1,1,1,1,1,1,1,1,2,1,1,2,1,1,1,2,1,1,1,1,1,2,1,1,1,1,0,0,1,1,1,1,1,1,2,1,1,0,1,1,0,2,1,0,1,1,2,1,1,1,1,1,1,2,1,1,1,1,1,1,2,1,1,2,1,1,1,1,1,1,1,0,1,2,0,1,1,1,1,1,2,1,1,1,1,1,1,1,1,1,0,1,0,1,2,0,1,1,1,1,1,1,2,1,1,1,1,1,1,1,1,2,1,1,1,2,1,1,1,0,1,0,1,1,2,1,1,0,1,1,0,1,1,1,1,1,1,0,1,2,1,1,2,1,1,0,1,1,1,1,1,1,2,1,0,0,1,1,1,1,1,1,0,1,0,1,1,1,1,1,1,0,1,1,2,1,1,1,1,1,2,1,1,1,1,0,1,1,1,1,1,1,1,1,2,0,1,1,2,1,1,1,1,1,1,1,1,1,1,1,1,1,1,1,2,1,1,1,1,1,1,1,1,2,1,1,0,1,2,0,1,1,1,1,1,1,1,1,1,1,1,1,1,1,1,1,1,1,1,0,1,1,2,1,1,1,0,1,2,0,1,1,0,1,2,1,1,1,1,1,1,2,1,0,1,2,1,1,1,1,1,2,1,1,1,1,0,1,1,1,1,1,1,1,1,2,1,1,1,2,1,1,1,1,1,1,1,1,1,2,1,1,1,0,1,1,1,0,1,1,1,1,1,1,1,0,1,2,1,1,1,2,1,1,1,1,1,1,1,1,2,1,1,1,1,1,2,1,1,1,1,1,1,1,0,0,1,1,1,1,1,1,2,1,1,1,1,1,1,1,2,1,1,1,1,0,1,2,1,1,0,1,1,2,1,1,1,1,1,1,1,1,1,1,1,1,1,2,1,1,2,1,1,1,1,1,2,0,1,1,1,1,1,1,2,1,1,1,1,2,1,1,1,1,2,1,1,1,0,0,1,1,0,1,1,1,1,2,1,1,1,1,1,1,1,0,1,2,1,1,1,1,1,1,1,1,1,1,1,1,1,1,1,2,1,1,1,1,1,1,1,2,0,1,1,2,1,1,1,2,1,1,1,1,1,1,1,2,1,1,1,1,2,1,1,1,2,1,1,1,2,1,1,2,0,0,1,1,1,1,1,1,2,1,1,1,1,1,1,1,1,1,1,0,1,1,1,1,0,1,1,1,1,1,1,1,1,1,1,1,2,1,1,2,1,1,1,1,1,0,1,1,2,1,1,1,1,1,1,1,1,1,1,1,1,2,1,1,1,1,1,1,1,1,1,1,1,1,1,0,1,1,1,2,1,1,1,1,1,1,1,1,1,2,1,0,1,2,1,1,1,1,1,1,1,1,1,1,1,1,1,1,1,1,1,1,1,1,1,1,2,1,1,1,1,1,1,1,1,1,0,0,1,1,1,1,2,1,1,1,1,1,2,1,1,1,0,1,1,1,1,1,1,1,1,1,1,1,1,1,1,1,1,1,0,1,1,2,0,1,0,1,1,1,2,0,1,1,1,1,0,1,0,0,1,1,1,1,1,1,2,1,1,1,1,2,1,1,0,1,1,1,2,1,1,2,1,1,1,1,2,1,1,0,1,1,1,1,1,2,1,1,1,0,1,0,1,1,1,1,1,1,1,1,1,0,1,1,1,1,1,1,2,1,1,1,1,1,1,1,1,1,2,1,0,0,1,2,1,1,1,1,1,1,1,2,1,1,1,2,1,1,2,1,1,2,1,0,1,1,1,1,2,0,1,1,2,1,1,1,2,0,1,1,1,1,2,1,1,1,1,1,1,1,1,2,1,1,0,0,1,2,1,1,1,2,1,1,2,1,1,2,1,0,1,1,1,1,1,0,1,1,1,1,1,1,1,1,1,1,1,2,1,1,0,1,1,1,1,1,1,1,1,1,1,1,1,1,1,1,0,1,1,1,1,1,1,1,1,1,2,1,1,1,1,1,2,1,1,1,0,1,1,2,1,0,0,1,1,1,1,1,1,1,1,1,0,1,1,0,1,1,1,2,1,1,1,2,1,1,1,0,1,2,1,1,2,1,0,1,1,1,1,2,0,1,1,1,1,2,1,0,1,1,2,0,1,0,1,1,1,2,1,1,2,1,1,0,0,1,0,0,2,1,1,0,1,1,1,1,1,1,1,0,1,2,1,1,1,1,0,1,1,2,1,1,1,1,1,1,1,1,1,1,1,1,1,2,1,0,1,1,1,1,1,1,1,1,1,1,0,1,1,1,1,1,1,1,1,1,1,1,2,1,1,1,1,0,0,1,1,1,1,1,1,1,1,2,1,1,1,1,0,1,1,1,1,1,2,1,1,1,2,1,1,1,2,1,1,1,1,1,1,1,2,1,1,1,1,0,1,1,1,1,1,1,0,2,0,1,1,1,1,1,2,0,1,1,1,1,0,1,2,1,1,1,1,2,1,1,0,1,2,0,1,2,1,1,1,1,1,1,1,0,1,1,0,1,1,1,1,1,1,2,1,1,1,1,1,1,2,1,1,1,0,0,1,1,1,1,1,2,0,1,1,1,1,1,1,1,1,1,2,1,1,1,1,1,1,0,1,1,1,0,2,0,1,1,1,1,2,1,1,1,1,1,1,2,1,1,1,0,1,1,2,1,1,0,0,1,1,1,1,1,1,1,1,1,1,1,1,1,1,1,0,1,2,0,0,1,2,1,1,0,2,1,1,1,2,1,1,1,2,1,1,1,2,1,1,0,1,1,1,1,1,1,1,1,1,2,1,1,1,1,1,1,1,1,1,1,1,1,2,1,1,1,1,1,1,0,0,1,1,1,0,2,1,1,1,0,2,0,1,1,0,1,1,1,1,1,1,1,1,1,1,1,1,1,1,1,1,0,1,1,1,1,1,2,1,1,1,0,1,1,2,1,1,1,1,1,1,1,1,1,1,1,1,1,1,2,1,1,1,1,1,1,1,0,2,1,1,1,1,1,2,0,1,1,1,1,1,1,2,1,0,1,1,0,1,1,1,1,2,1,1,1,1,1,1,1,1,1,2,1,1,1,1,1,1,1,1,1,1,1,1,1,0,1,1,1,1,1,1,2,1,1,1,1,1,2,1,1,2,1,1,1,1,1,1,2,1,1,1,0,1,1,1,2,1,0,1,0,1,1,0,1,1,1,1,1,1,1,1,1,0,1,2,0,1,1,1,1,1,1,0,0,1,2,1,1,0,1,0,1,1,1,1,1,0,1,2,1,1,1,0,2,1,1,1,2,1,1,1,1,1,1,1,2,1,1,1,1,1,1,1,2,1,0,1,1,0,1,2,1,1,2,1,1,1,0,1,2,0,1,1,0,2,0,1,1,2,1,1,1,0,1,2,1,1,0,1,2,1,1,0,1,1,2,1,1,1,1,0,2,1,1,1,2,0,0,1,1,1,2,1,1,1,0,1,1,0,1,1,1,1,0,1,0,0,0,1,1,1,1,1,2,1,1,1,1,1,1,2,1,0,1,1,1,1,1,1,1,1,1,2,1,1,1,1,1,1,1,1,1,1,1,1,1,1,1,1,1,1,1,1,1,2,1,1,1,1,1,1,2,1,1,0,1,1,1,1,1,2,1,1,1,1,1,1,1,1,1,1,1,1,1,1,2,1,1,2,1,1,0,1,2,0,0,1,0,1,2,1,1,1,1,1,1,1,1,1,1,1,0,0,0,1,2,1,1,1,1,0,1,1,1,1,1,1,1,1,1,1,1,1,1,1,1,1,1,1,1,1,1,1,1,1,1,1,2,1,0,1,1,1,1,1,1,1,1,1,1,1,1,1,0,0,1,2,0,1,1,1,0,1,1,1,1,1,1,1,1,1,1,1,1,0,1,1,1,0,1,1,0,0,1,1,1,0,1,1,1,1,1,1,0,1,1,1,1,1,1,1,2,1,1,1,1,2,1,1,1,2,1,1,1,1,1,1,1,1,1,1,2,0,1,1,0,1,0,1,0,2,1,0,1,1,1,1,1,1,0,1,1,1,1,1,1,1,1,1,0,1,1,1,1,0,1,1,2,1,1,1,2,1,1,1,2,1,1,1,1,1,1,2,1,1,1,1,1,1,1,1,0,1,2,1,1,1,1,0,0,1,1,1,1,1,1,1,0,1,1,1,0,1,1,2,1,1,1,0,1,2,1,0,2,1,1,1,1,1,1,1,1,2,1,1,1,1,1,2,1,1,1,1,0,1,1,2,0,1,1,1,2,1,1,1,0,1,1,2,1,1,1,2,1,1,1,1,1,1,1,0,1,1,1,1,1,0,1,2,1,1,1,1,1,0,1,0,0,1,1,0,1,1,2,1,1,1,0,1,2,0,1,0,1,0,1,1,1,1,1,2,1,1,0,1,1,2,1,1,0,1,1,1,0,1,1,1,1,1,1,1,1,0,1,1,2,1,1,1,1,1,2,1,1,1,0,2,0,1,1,1,2,1,1,1,1,0,2,1,1,0,1,1,1,1,1,1,1,1,0,1,1,1,0,1,1,1,1,2],\"legendgroup\":\"\",\"name\":\"\",\"showlegend\":true,\"type\":\"pie\"}],                        {\"template\":{\"data\":{\"barpolar\":[{\"marker\":{\"line\":{\"color\":\"rgb(17,17,17)\",\"width\":0.5},\"pattern\":{\"fillmode\":\"overlay\",\"size\":10,\"solidity\":0.2}},\"type\":\"barpolar\"}],\"bar\":[{\"error_x\":{\"color\":\"#f2f5fa\"},\"error_y\":{\"color\":\"#f2f5fa\"},\"marker\":{\"line\":{\"color\":\"rgb(17,17,17)\",\"width\":0.5},\"pattern\":{\"fillmode\":\"overlay\",\"size\":10,\"solidity\":0.2}},\"type\":\"bar\"}],\"carpet\":[{\"aaxis\":{\"endlinecolor\":\"#A2B1C6\",\"gridcolor\":\"#506784\",\"linecolor\":\"#506784\",\"minorgridcolor\":\"#506784\",\"startlinecolor\":\"#A2B1C6\"},\"baxis\":{\"endlinecolor\":\"#A2B1C6\",\"gridcolor\":\"#506784\",\"linecolor\":\"#506784\",\"minorgridcolor\":\"#506784\",\"startlinecolor\":\"#A2B1C6\"},\"type\":\"carpet\"}],\"choropleth\":[{\"colorbar\":{\"outlinewidth\":0,\"ticks\":\"\"},\"type\":\"choropleth\"}],\"contourcarpet\":[{\"colorbar\":{\"outlinewidth\":0,\"ticks\":\"\"},\"type\":\"contourcarpet\"}],\"contour\":[{\"colorbar\":{\"outlinewidth\":0,\"ticks\":\"\"},\"colorscale\":[[0.0,\"#0d0887\"],[0.1111111111111111,\"#46039f\"],[0.2222222222222222,\"#7201a8\"],[0.3333333333333333,\"#9c179e\"],[0.4444444444444444,\"#bd3786\"],[0.5555555555555556,\"#d8576b\"],[0.6666666666666666,\"#ed7953\"],[0.7777777777777778,\"#fb9f3a\"],[0.8888888888888888,\"#fdca26\"],[1.0,\"#f0f921\"]],\"type\":\"contour\"}],\"heatmapgl\":[{\"colorbar\":{\"outlinewidth\":0,\"ticks\":\"\"},\"colorscale\":[[0.0,\"#0d0887\"],[0.1111111111111111,\"#46039f\"],[0.2222222222222222,\"#7201a8\"],[0.3333333333333333,\"#9c179e\"],[0.4444444444444444,\"#bd3786\"],[0.5555555555555556,\"#d8576b\"],[0.6666666666666666,\"#ed7953\"],[0.7777777777777778,\"#fb9f3a\"],[0.8888888888888888,\"#fdca26\"],[1.0,\"#f0f921\"]],\"type\":\"heatmapgl\"}],\"heatmap\":[{\"colorbar\":{\"outlinewidth\":0,\"ticks\":\"\"},\"colorscale\":[[0.0,\"#0d0887\"],[0.1111111111111111,\"#46039f\"],[0.2222222222222222,\"#7201a8\"],[0.3333333333333333,\"#9c179e\"],[0.4444444444444444,\"#bd3786\"],[0.5555555555555556,\"#d8576b\"],[0.6666666666666666,\"#ed7953\"],[0.7777777777777778,\"#fb9f3a\"],[0.8888888888888888,\"#fdca26\"],[1.0,\"#f0f921\"]],\"type\":\"heatmap\"}],\"histogram2dcontour\":[{\"colorbar\":{\"outlinewidth\":0,\"ticks\":\"\"},\"colorscale\":[[0.0,\"#0d0887\"],[0.1111111111111111,\"#46039f\"],[0.2222222222222222,\"#7201a8\"],[0.3333333333333333,\"#9c179e\"],[0.4444444444444444,\"#bd3786\"],[0.5555555555555556,\"#d8576b\"],[0.6666666666666666,\"#ed7953\"],[0.7777777777777778,\"#fb9f3a\"],[0.8888888888888888,\"#fdca26\"],[1.0,\"#f0f921\"]],\"type\":\"histogram2dcontour\"}],\"histogram2d\":[{\"colorbar\":{\"outlinewidth\":0,\"ticks\":\"\"},\"colorscale\":[[0.0,\"#0d0887\"],[0.1111111111111111,\"#46039f\"],[0.2222222222222222,\"#7201a8\"],[0.3333333333333333,\"#9c179e\"],[0.4444444444444444,\"#bd3786\"],[0.5555555555555556,\"#d8576b\"],[0.6666666666666666,\"#ed7953\"],[0.7777777777777778,\"#fb9f3a\"],[0.8888888888888888,\"#fdca26\"],[1.0,\"#f0f921\"]],\"type\":\"histogram2d\"}],\"histogram\":[{\"marker\":{\"pattern\":{\"fillmode\":\"overlay\",\"size\":10,\"solidity\":0.2}},\"type\":\"histogram\"}],\"mesh3d\":[{\"colorbar\":{\"outlinewidth\":0,\"ticks\":\"\"},\"type\":\"mesh3d\"}],\"parcoords\":[{\"line\":{\"colorbar\":{\"outlinewidth\":0,\"ticks\":\"\"}},\"type\":\"parcoords\"}],\"pie\":[{\"automargin\":true,\"type\":\"pie\"}],\"scatter3d\":[{\"line\":{\"colorbar\":{\"outlinewidth\":0,\"ticks\":\"\"}},\"marker\":{\"colorbar\":{\"outlinewidth\":0,\"ticks\":\"\"}},\"type\":\"scatter3d\"}],\"scattercarpet\":[{\"marker\":{\"colorbar\":{\"outlinewidth\":0,\"ticks\":\"\"}},\"type\":\"scattercarpet\"}],\"scattergeo\":[{\"marker\":{\"colorbar\":{\"outlinewidth\":0,\"ticks\":\"\"}},\"type\":\"scattergeo\"}],\"scattergl\":[{\"marker\":{\"line\":{\"color\":\"#283442\"}},\"type\":\"scattergl\"}],\"scattermapbox\":[{\"marker\":{\"colorbar\":{\"outlinewidth\":0,\"ticks\":\"\"}},\"type\":\"scattermapbox\"}],\"scatterpolargl\":[{\"marker\":{\"colorbar\":{\"outlinewidth\":0,\"ticks\":\"\"}},\"type\":\"scatterpolargl\"}],\"scatterpolar\":[{\"marker\":{\"colorbar\":{\"outlinewidth\":0,\"ticks\":\"\"}},\"type\":\"scatterpolar\"}],\"scatter\":[{\"marker\":{\"line\":{\"color\":\"#283442\"}},\"type\":\"scatter\"}],\"scatterternary\":[{\"marker\":{\"colorbar\":{\"outlinewidth\":0,\"ticks\":\"\"}},\"type\":\"scatterternary\"}],\"surface\":[{\"colorbar\":{\"outlinewidth\":0,\"ticks\":\"\"},\"colorscale\":[[0.0,\"#0d0887\"],[0.1111111111111111,\"#46039f\"],[0.2222222222222222,\"#7201a8\"],[0.3333333333333333,\"#9c179e\"],[0.4444444444444444,\"#bd3786\"],[0.5555555555555556,\"#d8576b\"],[0.6666666666666666,\"#ed7953\"],[0.7777777777777778,\"#fb9f3a\"],[0.8888888888888888,\"#fdca26\"],[1.0,\"#f0f921\"]],\"type\":\"surface\"}],\"table\":[{\"cells\":{\"fill\":{\"color\":\"#506784\"},\"line\":{\"color\":\"rgb(17,17,17)\"}},\"header\":{\"fill\":{\"color\":\"#2a3f5f\"},\"line\":{\"color\":\"rgb(17,17,17)\"}},\"type\":\"table\"}]},\"layout\":{\"annotationdefaults\":{\"arrowcolor\":\"#f2f5fa\",\"arrowhead\":0,\"arrowwidth\":1},\"autotypenumbers\":\"strict\",\"coloraxis\":{\"colorbar\":{\"outlinewidth\":0,\"ticks\":\"\"}},\"colorscale\":{\"diverging\":[[0,\"#8e0152\"],[0.1,\"#c51b7d\"],[0.2,\"#de77ae\"],[0.3,\"#f1b6da\"],[0.4,\"#fde0ef\"],[0.5,\"#f7f7f7\"],[0.6,\"#e6f5d0\"],[0.7,\"#b8e186\"],[0.8,\"#7fbc41\"],[0.9,\"#4d9221\"],[1,\"#276419\"]],\"sequential\":[[0.0,\"#0d0887\"],[0.1111111111111111,\"#46039f\"],[0.2222222222222222,\"#7201a8\"],[0.3333333333333333,\"#9c179e\"],[0.4444444444444444,\"#bd3786\"],[0.5555555555555556,\"#d8576b\"],[0.6666666666666666,\"#ed7953\"],[0.7777777777777778,\"#fb9f3a\"],[0.8888888888888888,\"#fdca26\"],[1.0,\"#f0f921\"]],\"sequentialminus\":[[0.0,\"#0d0887\"],[0.1111111111111111,\"#46039f\"],[0.2222222222222222,\"#7201a8\"],[0.3333333333333333,\"#9c179e\"],[0.4444444444444444,\"#bd3786\"],[0.5555555555555556,\"#d8576b\"],[0.6666666666666666,\"#ed7953\"],[0.7777777777777778,\"#fb9f3a\"],[0.8888888888888888,\"#fdca26\"],[1.0,\"#f0f921\"]]},\"colorway\":[\"#636efa\",\"#EF553B\",\"#00cc96\",\"#ab63fa\",\"#FFA15A\",\"#19d3f3\",\"#FF6692\",\"#B6E880\",\"#FF97FF\",\"#FECB52\"],\"font\":{\"color\":\"#f2f5fa\"},\"geo\":{\"bgcolor\":\"rgb(17,17,17)\",\"lakecolor\":\"rgb(17,17,17)\",\"landcolor\":\"rgb(17,17,17)\",\"showlakes\":true,\"showland\":true,\"subunitcolor\":\"#506784\"},\"hoverlabel\":{\"align\":\"left\"},\"hovermode\":\"closest\",\"mapbox\":{\"style\":\"dark\"},\"paper_bgcolor\":\"rgb(17,17,17)\",\"plot_bgcolor\":\"rgb(17,17,17)\",\"polar\":{\"angularaxis\":{\"gridcolor\":\"#506784\",\"linecolor\":\"#506784\",\"ticks\":\"\"},\"bgcolor\":\"rgb(17,17,17)\",\"radialaxis\":{\"gridcolor\":\"#506784\",\"linecolor\":\"#506784\",\"ticks\":\"\"}},\"scene\":{\"xaxis\":{\"backgroundcolor\":\"rgb(17,17,17)\",\"gridcolor\":\"#506784\",\"gridwidth\":2,\"linecolor\":\"#506784\",\"showbackground\":true,\"ticks\":\"\",\"zerolinecolor\":\"#C8D4E3\"},\"yaxis\":{\"backgroundcolor\":\"rgb(17,17,17)\",\"gridcolor\":\"#506784\",\"gridwidth\":2,\"linecolor\":\"#506784\",\"showbackground\":true,\"ticks\":\"\",\"zerolinecolor\":\"#C8D4E3\"},\"zaxis\":{\"backgroundcolor\":\"rgb(17,17,17)\",\"gridcolor\":\"#506784\",\"gridwidth\":2,\"linecolor\":\"#506784\",\"showbackground\":true,\"ticks\":\"\",\"zerolinecolor\":\"#C8D4E3\"}},\"shapedefaults\":{\"line\":{\"color\":\"#f2f5fa\"}},\"sliderdefaults\":{\"bgcolor\":\"#C8D4E3\",\"bordercolor\":\"rgb(17,17,17)\",\"borderwidth\":1,\"tickwidth\":0},\"ternary\":{\"aaxis\":{\"gridcolor\":\"#506784\",\"linecolor\":\"#506784\",\"ticks\":\"\"},\"baxis\":{\"gridcolor\":\"#506784\",\"linecolor\":\"#506784\",\"ticks\":\"\"},\"bgcolor\":\"rgb(17,17,17)\",\"caxis\":{\"gridcolor\":\"#506784\",\"linecolor\":\"#506784\",\"ticks\":\"\"}},\"title\":{\"x\":0.05},\"updatemenudefaults\":{\"bgcolor\":\"#506784\",\"borderwidth\":0},\"xaxis\":{\"automargin\":true,\"gridcolor\":\"#283442\",\"linecolor\":\"#506784\",\"ticks\":\"\",\"title\":{\"standoff\":15},\"zerolinecolor\":\"#283442\",\"zerolinewidth\":2},\"yaxis\":{\"automargin\":true,\"gridcolor\":\"#283442\",\"linecolor\":\"#506784\",\"ticks\":\"\",\"title\":{\"standoff\":15},\"zerolinecolor\":\"#283442\",\"zerolinewidth\":2}}},\"legend\":{\"tracegroupgap\":0},\"margin\":{\"t\":60},\"title\":{\"text\":\"Gender Distribution in Participation\"}},                        {\"responsive\": true}                    ).then(function(){\n",
              "                            \n",
              "var gd = document.getElementById('d4312866-b41e-4d5b-a1d7-6c568cad819b');\n",
              "var x = new MutationObserver(function (mutations, observer) {{\n",
              "        var display = window.getComputedStyle(gd).display;\n",
              "        if (!display || display === 'none') {{\n",
              "            console.log([gd, 'removed!']);\n",
              "            Plotly.purge(gd);\n",
              "            observer.disconnect();\n",
              "        }}\n",
              "}});\n",
              "\n",
              "// Listen for the removal of the full notebook cells\n",
              "var notebookContainer = gd.closest('#notebook-container');\n",
              "if (notebookContainer) {{\n",
              "    x.observe(notebookContainer, {childList: true});\n",
              "}}\n",
              "\n",
              "// Listen for the clearing of the current output cell\n",
              "var outputEl = gd.closest('.output');\n",
              "if (outputEl) {{\n",
              "    x.observe(outputEl, {childList: true});\n",
              "}}\n",
              "\n",
              "                        })                };                            </script>        </div>\n",
              "</body>\n",
              "</html>"
            ]
          },
          "metadata": {}
        }
      ]
    },
    {
      "cell_type": "code",
      "source": [
        "#Finding the gender distribution among win counts\n",
        "gen=vote.groupby('GENDER').apply(lambda x:x['NAME'].count()).reset_index(name='counts')\n",
        "gen['CATEGORY']='Overall gender ratio'\n",
        "winners=vote[vote['WINNER']==1]\n",
        "gen_win=winners.groupby('GENDER').apply(lambda x:x['NAME'].count()).reset_index(name='counts')\n",
        "gen_win['CATEGORY']='Winning gender ratio'\n",
        "total=pd.concat([gen_win,gen])\n",
        "\n",
        "fig=px.bar(total,x='GENDER',y='counts',color='CATEGORY',barmode='group')\n",
        "fig.update_layout(title_text='Participation vs Win counts',\n",
        "                  template='plotly_dark')\n",
        "fig.show()"
      ],
      "metadata": {
        "colab": {
          "base_uri": "https://localhost:8080/",
          "height": 542
        },
        "id": "K7kzrO8WupcB",
        "outputId": "28e30e6b-cca0-4ee9-9da9-d612d32ea197"
      },
      "execution_count": null,
      "outputs": [
        {
          "output_type": "display_data",
          "data": {
            "text/html": [
              "<html>\n",
              "<head><meta charset=\"utf-8\" /></head>\n",
              "<body>\n",
              "    <div>            <script src=\"https://cdnjs.cloudflare.com/ajax/libs/mathjax/2.7.5/MathJax.js?config=TeX-AMS-MML_SVG\"></script><script type=\"text/javascript\">if (window.MathJax && window.MathJax.Hub && window.MathJax.Hub.Config) {window.MathJax.Hub.Config({SVG: {font: \"STIX-Web\"}});}</script>                <script type=\"text/javascript\">window.PlotlyConfig = {MathJaxConfig: 'local'};</script>\n",
              "        <script src=\"https://cdn.plot.ly/plotly-2.18.2.min.js\"></script>                <div id=\"0b19be97-fa4f-4720-9ae7-6f92897e892b\" class=\"plotly-graph-div\" style=\"height:525px; width:100%;\"></div>            <script type=\"text/javascript\">                                    window.PLOTLYENV=window.PLOTLYENV || {};                                    if (document.getElementById(\"0b19be97-fa4f-4720-9ae7-6f92897e892b\")) {                    Plotly.newPlot(                        \"0b19be97-fa4f-4720-9ae7-6f92897e892b\",                        [{\"alignmentgroup\":\"True\",\"hovertemplate\":\"CATEGORY=Winning gender ratio<br>GENDER=%{x}<br>counts=%{y}<extra></extra>\",\"legendgroup\":\"Winning gender ratio\",\"marker\":{\"color\":\"#636efa\",\"pattern\":{\"shape\":\"\"}},\"name\":\"Winning gender ratio\",\"offsetgroup\":\"Winning gender ratio\",\"orientation\":\"v\",\"showlegend\":true,\"textposition\":\"auto\",\"x\":[0,1],\"xaxis\":\"x\",\"y\":[76,463],\"yaxis\":\"y\",\"type\":\"bar\"},{\"alignmentgroup\":\"True\",\"hovertemplate\":\"CATEGORY=Overall gender ratio<br>GENDER=%{x}<br>counts=%{y}<extra></extra>\",\"legendgroup\":\"Overall gender ratio\",\"marker\":{\"color\":\"#EF553B\",\"pattern\":{\"shape\":\"\"}},\"name\":\"Overall gender ratio\",\"offsetgroup\":\"Overall gender ratio\",\"orientation\":\"v\",\"showlegend\":true,\"textposition\":\"auto\",\"x\":[0,1,2],\"xaxis\":\"x\",\"y\":[258,1760,245],\"yaxis\":\"y\",\"type\":\"bar\"}],                        {\"template\":{\"data\":{\"barpolar\":[{\"marker\":{\"line\":{\"color\":\"rgb(17,17,17)\",\"width\":0.5},\"pattern\":{\"fillmode\":\"overlay\",\"size\":10,\"solidity\":0.2}},\"type\":\"barpolar\"}],\"bar\":[{\"error_x\":{\"color\":\"#f2f5fa\"},\"error_y\":{\"color\":\"#f2f5fa\"},\"marker\":{\"line\":{\"color\":\"rgb(17,17,17)\",\"width\":0.5},\"pattern\":{\"fillmode\":\"overlay\",\"size\":10,\"solidity\":0.2}},\"type\":\"bar\"}],\"carpet\":[{\"aaxis\":{\"endlinecolor\":\"#A2B1C6\",\"gridcolor\":\"#506784\",\"linecolor\":\"#506784\",\"minorgridcolor\":\"#506784\",\"startlinecolor\":\"#A2B1C6\"},\"baxis\":{\"endlinecolor\":\"#A2B1C6\",\"gridcolor\":\"#506784\",\"linecolor\":\"#506784\",\"minorgridcolor\":\"#506784\",\"startlinecolor\":\"#A2B1C6\"},\"type\":\"carpet\"}],\"choropleth\":[{\"colorbar\":{\"outlinewidth\":0,\"ticks\":\"\"},\"type\":\"choropleth\"}],\"contourcarpet\":[{\"colorbar\":{\"outlinewidth\":0,\"ticks\":\"\"},\"type\":\"contourcarpet\"}],\"contour\":[{\"colorbar\":{\"outlinewidth\":0,\"ticks\":\"\"},\"colorscale\":[[0.0,\"#0d0887\"],[0.1111111111111111,\"#46039f\"],[0.2222222222222222,\"#7201a8\"],[0.3333333333333333,\"#9c179e\"],[0.4444444444444444,\"#bd3786\"],[0.5555555555555556,\"#d8576b\"],[0.6666666666666666,\"#ed7953\"],[0.7777777777777778,\"#fb9f3a\"],[0.8888888888888888,\"#fdca26\"],[1.0,\"#f0f921\"]],\"type\":\"contour\"}],\"heatmapgl\":[{\"colorbar\":{\"outlinewidth\":0,\"ticks\":\"\"},\"colorscale\":[[0.0,\"#0d0887\"],[0.1111111111111111,\"#46039f\"],[0.2222222222222222,\"#7201a8\"],[0.3333333333333333,\"#9c179e\"],[0.4444444444444444,\"#bd3786\"],[0.5555555555555556,\"#d8576b\"],[0.6666666666666666,\"#ed7953\"],[0.7777777777777778,\"#fb9f3a\"],[0.8888888888888888,\"#fdca26\"],[1.0,\"#f0f921\"]],\"type\":\"heatmapgl\"}],\"heatmap\":[{\"colorbar\":{\"outlinewidth\":0,\"ticks\":\"\"},\"colorscale\":[[0.0,\"#0d0887\"],[0.1111111111111111,\"#46039f\"],[0.2222222222222222,\"#7201a8\"],[0.3333333333333333,\"#9c179e\"],[0.4444444444444444,\"#bd3786\"],[0.5555555555555556,\"#d8576b\"],[0.6666666666666666,\"#ed7953\"],[0.7777777777777778,\"#fb9f3a\"],[0.8888888888888888,\"#fdca26\"],[1.0,\"#f0f921\"]],\"type\":\"heatmap\"}],\"histogram2dcontour\":[{\"colorbar\":{\"outlinewidth\":0,\"ticks\":\"\"},\"colorscale\":[[0.0,\"#0d0887\"],[0.1111111111111111,\"#46039f\"],[0.2222222222222222,\"#7201a8\"],[0.3333333333333333,\"#9c179e\"],[0.4444444444444444,\"#bd3786\"],[0.5555555555555556,\"#d8576b\"],[0.6666666666666666,\"#ed7953\"],[0.7777777777777778,\"#fb9f3a\"],[0.8888888888888888,\"#fdca26\"],[1.0,\"#f0f921\"]],\"type\":\"histogram2dcontour\"}],\"histogram2d\":[{\"colorbar\":{\"outlinewidth\":0,\"ticks\":\"\"},\"colorscale\":[[0.0,\"#0d0887\"],[0.1111111111111111,\"#46039f\"],[0.2222222222222222,\"#7201a8\"],[0.3333333333333333,\"#9c179e\"],[0.4444444444444444,\"#bd3786\"],[0.5555555555555556,\"#d8576b\"],[0.6666666666666666,\"#ed7953\"],[0.7777777777777778,\"#fb9f3a\"],[0.8888888888888888,\"#fdca26\"],[1.0,\"#f0f921\"]],\"type\":\"histogram2d\"}],\"histogram\":[{\"marker\":{\"pattern\":{\"fillmode\":\"overlay\",\"size\":10,\"solidity\":0.2}},\"type\":\"histogram\"}],\"mesh3d\":[{\"colorbar\":{\"outlinewidth\":0,\"ticks\":\"\"},\"type\":\"mesh3d\"}],\"parcoords\":[{\"line\":{\"colorbar\":{\"outlinewidth\":0,\"ticks\":\"\"}},\"type\":\"parcoords\"}],\"pie\":[{\"automargin\":true,\"type\":\"pie\"}],\"scatter3d\":[{\"line\":{\"colorbar\":{\"outlinewidth\":0,\"ticks\":\"\"}},\"marker\":{\"colorbar\":{\"outlinewidth\":0,\"ticks\":\"\"}},\"type\":\"scatter3d\"}],\"scattercarpet\":[{\"marker\":{\"colorbar\":{\"outlinewidth\":0,\"ticks\":\"\"}},\"type\":\"scattercarpet\"}],\"scattergeo\":[{\"marker\":{\"colorbar\":{\"outlinewidth\":0,\"ticks\":\"\"}},\"type\":\"scattergeo\"}],\"scattergl\":[{\"marker\":{\"line\":{\"color\":\"#283442\"}},\"type\":\"scattergl\"}],\"scattermapbox\":[{\"marker\":{\"colorbar\":{\"outlinewidth\":0,\"ticks\":\"\"}},\"type\":\"scattermapbox\"}],\"scatterpolargl\":[{\"marker\":{\"colorbar\":{\"outlinewidth\":0,\"ticks\":\"\"}},\"type\":\"scatterpolargl\"}],\"scatterpolar\":[{\"marker\":{\"colorbar\":{\"outlinewidth\":0,\"ticks\":\"\"}},\"type\":\"scatterpolar\"}],\"scatter\":[{\"marker\":{\"line\":{\"color\":\"#283442\"}},\"type\":\"scatter\"}],\"scatterternary\":[{\"marker\":{\"colorbar\":{\"outlinewidth\":0,\"ticks\":\"\"}},\"type\":\"scatterternary\"}],\"surface\":[{\"colorbar\":{\"outlinewidth\":0,\"ticks\":\"\"},\"colorscale\":[[0.0,\"#0d0887\"],[0.1111111111111111,\"#46039f\"],[0.2222222222222222,\"#7201a8\"],[0.3333333333333333,\"#9c179e\"],[0.4444444444444444,\"#bd3786\"],[0.5555555555555556,\"#d8576b\"],[0.6666666666666666,\"#ed7953\"],[0.7777777777777778,\"#fb9f3a\"],[0.8888888888888888,\"#fdca26\"],[1.0,\"#f0f921\"]],\"type\":\"surface\"}],\"table\":[{\"cells\":{\"fill\":{\"color\":\"#506784\"},\"line\":{\"color\":\"rgb(17,17,17)\"}},\"header\":{\"fill\":{\"color\":\"#2a3f5f\"},\"line\":{\"color\":\"rgb(17,17,17)\"}},\"type\":\"table\"}]},\"layout\":{\"annotationdefaults\":{\"arrowcolor\":\"#f2f5fa\",\"arrowhead\":0,\"arrowwidth\":1},\"autotypenumbers\":\"strict\",\"coloraxis\":{\"colorbar\":{\"outlinewidth\":0,\"ticks\":\"\"}},\"colorscale\":{\"diverging\":[[0,\"#8e0152\"],[0.1,\"#c51b7d\"],[0.2,\"#de77ae\"],[0.3,\"#f1b6da\"],[0.4,\"#fde0ef\"],[0.5,\"#f7f7f7\"],[0.6,\"#e6f5d0\"],[0.7,\"#b8e186\"],[0.8,\"#7fbc41\"],[0.9,\"#4d9221\"],[1,\"#276419\"]],\"sequential\":[[0.0,\"#0d0887\"],[0.1111111111111111,\"#46039f\"],[0.2222222222222222,\"#7201a8\"],[0.3333333333333333,\"#9c179e\"],[0.4444444444444444,\"#bd3786\"],[0.5555555555555556,\"#d8576b\"],[0.6666666666666666,\"#ed7953\"],[0.7777777777777778,\"#fb9f3a\"],[0.8888888888888888,\"#fdca26\"],[1.0,\"#f0f921\"]],\"sequentialminus\":[[0.0,\"#0d0887\"],[0.1111111111111111,\"#46039f\"],[0.2222222222222222,\"#7201a8\"],[0.3333333333333333,\"#9c179e\"],[0.4444444444444444,\"#bd3786\"],[0.5555555555555556,\"#d8576b\"],[0.6666666666666666,\"#ed7953\"],[0.7777777777777778,\"#fb9f3a\"],[0.8888888888888888,\"#fdca26\"],[1.0,\"#f0f921\"]]},\"colorway\":[\"#636efa\",\"#EF553B\",\"#00cc96\",\"#ab63fa\",\"#FFA15A\",\"#19d3f3\",\"#FF6692\",\"#B6E880\",\"#FF97FF\",\"#FECB52\"],\"font\":{\"color\":\"#f2f5fa\"},\"geo\":{\"bgcolor\":\"rgb(17,17,17)\",\"lakecolor\":\"rgb(17,17,17)\",\"landcolor\":\"rgb(17,17,17)\",\"showlakes\":true,\"showland\":true,\"subunitcolor\":\"#506784\"},\"hoverlabel\":{\"align\":\"left\"},\"hovermode\":\"closest\",\"mapbox\":{\"style\":\"dark\"},\"paper_bgcolor\":\"rgb(17,17,17)\",\"plot_bgcolor\":\"rgb(17,17,17)\",\"polar\":{\"angularaxis\":{\"gridcolor\":\"#506784\",\"linecolor\":\"#506784\",\"ticks\":\"\"},\"bgcolor\":\"rgb(17,17,17)\",\"radialaxis\":{\"gridcolor\":\"#506784\",\"linecolor\":\"#506784\",\"ticks\":\"\"}},\"scene\":{\"xaxis\":{\"backgroundcolor\":\"rgb(17,17,17)\",\"gridcolor\":\"#506784\",\"gridwidth\":2,\"linecolor\":\"#506784\",\"showbackground\":true,\"ticks\":\"\",\"zerolinecolor\":\"#C8D4E3\"},\"yaxis\":{\"backgroundcolor\":\"rgb(17,17,17)\",\"gridcolor\":\"#506784\",\"gridwidth\":2,\"linecolor\":\"#506784\",\"showbackground\":true,\"ticks\":\"\",\"zerolinecolor\":\"#C8D4E3\"},\"zaxis\":{\"backgroundcolor\":\"rgb(17,17,17)\",\"gridcolor\":\"#506784\",\"gridwidth\":2,\"linecolor\":\"#506784\",\"showbackground\":true,\"ticks\":\"\",\"zerolinecolor\":\"#C8D4E3\"}},\"shapedefaults\":{\"line\":{\"color\":\"#f2f5fa\"}},\"sliderdefaults\":{\"bgcolor\":\"#C8D4E3\",\"bordercolor\":\"rgb(17,17,17)\",\"borderwidth\":1,\"tickwidth\":0},\"ternary\":{\"aaxis\":{\"gridcolor\":\"#506784\",\"linecolor\":\"#506784\",\"ticks\":\"\"},\"baxis\":{\"gridcolor\":\"#506784\",\"linecolor\":\"#506784\",\"ticks\":\"\"},\"bgcolor\":\"rgb(17,17,17)\",\"caxis\":{\"gridcolor\":\"#506784\",\"linecolor\":\"#506784\",\"ticks\":\"\"}},\"title\":{\"x\":0.05},\"updatemenudefaults\":{\"bgcolor\":\"#506784\",\"borderwidth\":0},\"xaxis\":{\"automargin\":true,\"gridcolor\":\"#283442\",\"linecolor\":\"#506784\",\"ticks\":\"\",\"title\":{\"standoff\":15},\"zerolinecolor\":\"#283442\",\"zerolinewidth\":2},\"yaxis\":{\"automargin\":true,\"gridcolor\":\"#283442\",\"linecolor\":\"#506784\",\"ticks\":\"\",\"title\":{\"standoff\":15},\"zerolinecolor\":\"#283442\",\"zerolinewidth\":2}}},\"xaxis\":{\"anchor\":\"y\",\"domain\":[0.0,1.0],\"title\":{\"text\":\"GENDER\"}},\"yaxis\":{\"anchor\":\"x\",\"domain\":[0.0,1.0],\"title\":{\"text\":\"counts\"}},\"legend\":{\"title\":{\"text\":\"CATEGORY\"},\"tracegroupgap\":0},\"margin\":{\"t\":60},\"barmode\":\"group\",\"title\":{\"text\":\"Participation vs Win counts\"}},                        {\"responsive\": true}                    ).then(function(){\n",
              "                            \n",
              "var gd = document.getElementById('0b19be97-fa4f-4720-9ae7-6f92897e892b');\n",
              "var x = new MutationObserver(function (mutations, observer) {{\n",
              "        var display = window.getComputedStyle(gd).display;\n",
              "        if (!display || display === 'none') {{\n",
              "            console.log([gd, 'removed!']);\n",
              "            Plotly.purge(gd);\n",
              "            observer.disconnect();\n",
              "        }}\n",
              "}});\n",
              "\n",
              "// Listen for the removal of the full notebook cells\n",
              "var notebookContainer = gd.closest('#notebook-container');\n",
              "if (notebookContainer) {{\n",
              "    x.observe(notebookContainer, {childList: true});\n",
              "}}\n",
              "\n",
              "// Listen for the clearing of the current output cell\n",
              "var outputEl = gd.closest('.output');\n",
              "if (outputEl) {{\n",
              "    x.observe(outputEl, {childList: true});\n",
              "}}\n",
              "\n",
              "                        })                };                            </script>        </div>\n",
              "</body>\n",
              "</html>"
            ]
          },
          "metadata": {}
        }
      ]
    },
    {
      "cell_type": "code",
      "source": [
        "#Each Party's Statewise performance report\n",
        "st_party=winners.groupby(['PARTY','STATE'])['WINNER'].sum()\\\n",
        ".reset_index(name='wins')\n",
        "pivot_st_party=pd.pivot(st_party,index='PARTY',columns='STATE',values='wins')\n",
        "plt.figure(figsize=(15,35))\n",
        "sns.heatmap(pivot_st_party,annot=True,fmt=\"g\")\n",
        "plt.xlabel('state')\n",
        "plt.ylabel('party')\n",
        "plt.title('Statewise report card for the Political Parties in India',size=25)"
      ],
      "metadata": {
        "colab": {
          "base_uri": "https://localhost:8080/",
          "height": 1000
        },
        "id": "c8GzxbEgvSYB",
        "outputId": "bec12f22-a547-4053-f504-e2a5b83950a7"
      },
      "execution_count": null,
      "outputs": [
        {
          "output_type": "execute_result",
          "data": {
            "text/plain": [
              "Text(0.5, 1.0, 'Statewise report card for the Political Parties in India')"
            ]
          },
          "metadata": {},
          "execution_count": 14
        },
        {
          "output_type": "display_data",
          "data": {
            "text/plain": [
              "<Figure size 1500x3500 with 2 Axes>"
            ],
            "image/png": "[encoded data removed]"
          },
          "metadata": {}
        }
      ]
    },
    {
      "cell_type": "code",
      "source": [
        "#Education Qualification of Candidates and the Winners\n",
        "ed_cnt=vote.groupby('EDUCATION')['NAME'].count().reset_index(name='counts')\n",
        "fig=go.Figure(data=[go.Pie(labels=ed_cnt['EDUCATION'],values=ed_cnt['counts'],\n",
        "                           pull=[0.1, 0.2, 0, 0.1, 0.2, 0,0.1, 0.1, 0.2,0, 0.1, 0.2],\n",
        "                           title='Education Qualification of the Candidates')])\n",
        "                           \n",
        "\n",
        "fig.update_layout(title_text='Overall Education Qualification of all the Candidates',\n",
        "                  template='plotly_dark')\n",
        "fig.show()\n",
        "\n",
        "ed_win_cnt=winners.groupby('EDUCATION').apply(lambda x:x['PARTY'].count()) \\\n",
        ".reset_index(name='counts')\n",
        "fig2 = go.Figure(data=[go.Pie(labels=ed_win_cnt['EDUCATION'], values=ed_win_cnt['counts'], \n",
        "                              pull=[0.1, 0.2, 0, 0.1, 0.2, 0,0.1, 0.1, 0.2,0, 0.1, 0.2],\n",
        "                              title='Education Qualification of the Winners')])\n",
        "fig2.update_layout(title_text='Education Qualification of the Winners',template='plotly_dark')\n",
        "fig2.show()\n"
      ],
      "metadata": {
        "colab": {
          "base_uri": "https://localhost:8080/",
          "height": 1000
        },
        "id": "aCVzuZWRwAeR",
        "outputId": "e132d0fa-b5d9-41a0-b5aa-e8887e8aaf52"
      },
      "execution_count": null,
      "outputs": [
        {
          "output_type": "display_data",
          "data": {
            "text/html": [
              "<html>\n",
              "<head><meta charset=\"utf-8\" /></head>\n",
              "<body>\n",
              "    <div>            <script src=\"https://cdnjs.cloudflare.com/ajax/libs/mathjax/2.7.5/MathJax.js?config=TeX-AMS-MML_SVG\"></script><script type=\"text/javascript\">if (window.MathJax && window.MathJax.Hub && window.MathJax.Hub.Config) {window.MathJax.Hub.Config({SVG: {font: \"STIX-Web\"}});}</script>                <script type=\"text/javascript\">window.PlotlyConfig = {MathJaxConfig: 'local'};</script>\n",
              "        <script src=\"https://cdn.plot.ly/plotly-2.18.2.min.js\"></script>                <div id=\"cbcb6e62-8822-463d-ba78-410f6cc212c6\" class=\"plotly-graph-div\" style=\"height:525px; width:100%;\"></div>            <script type=\"text/javascript\">                                    window.PLOTLYENV=window.PLOTLYENV || {};                                    if (document.getElementById(\"cbcb6e62-8822-463d-ba78-410f6cc212c6\")) {                    Plotly.newPlot(                        \"cbcb6e62-8822-463d-ba78-410f6cc212c6\",                        [{\"labels\":[0,1,2,3,4,5,6,7,8,9,10,11,12,13],\"pull\":[0.1,0.2,0,0.1,0.2,0,0.1,0.1,0.2,0,0.1,0.2],\"title\":{\"text\":\"Education Qualification of the Candidates\"},\"values\":[196,256,28,78,73,441,336,5,30,22,50,502,1,245],\"type\":\"pie\"}],                        {\"template\":{\"data\":{\"barpolar\":[{\"marker\":{\"line\":{\"color\":\"rgb(17,17,17)\",\"width\":0.5},\"pattern\":{\"fillmode\":\"overlay\",\"size\":10,\"solidity\":0.2}},\"type\":\"barpolar\"}],\"bar\":[{\"error_x\":{\"color\":\"#f2f5fa\"},\"error_y\":{\"color\":\"#f2f5fa\"},\"marker\":{\"line\":{\"color\":\"rgb(17,17,17)\",\"width\":0.5},\"pattern\":{\"fillmode\":\"overlay\",\"size\":10,\"solidity\":0.2}},\"type\":\"bar\"}],\"carpet\":[{\"aaxis\":{\"endlinecolor\":\"#A2B1C6\",\"gridcolor\":\"#506784\",\"linecolor\":\"#506784\",\"minorgridcolor\":\"#506784\",\"startlinecolor\":\"#A2B1C6\"},\"baxis\":{\"endlinecolor\":\"#A2B1C6\",\"gridcolor\":\"#506784\",\"linecolor\":\"#506784\",\"minorgridcolor\":\"#506784\",\"startlinecolor\":\"#A2B1C6\"},\"type\":\"carpet\"}],\"choropleth\":[{\"colorbar\":{\"outlinewidth\":0,\"ticks\":\"\"},\"type\":\"choropleth\"}],\"contourcarpet\":[{\"colorbar\":{\"outlinewidth\":0,\"ticks\":\"\"},\"type\":\"contourcarpet\"}],\"contour\":[{\"colorbar\":{\"outlinewidth\":0,\"ticks\":\"\"},\"colorscale\":[[0.0,\"#0d0887\"],[0.1111111111111111,\"#46039f\"],[0.2222222222222222,\"#7201a8\"],[0.3333333333333333,\"#9c179e\"],[0.4444444444444444,\"#bd3786\"],[0.5555555555555556,\"#d8576b\"],[0.6666666666666666,\"#ed7953\"],[0.7777777777777778,\"#fb9f3a\"],[0.8888888888888888,\"#fdca26\"],[1.0,\"#f0f921\"]],\"type\":\"contour\"}],\"heatmapgl\":[{\"colorbar\":{\"outlinewidth\":0,\"ticks\":\"\"},\"colorscale\":[[0.0,\"#0d0887\"],[0.1111111111111111,\"#46039f\"],[0.2222222222222222,\"#7201a8\"],[0.3333333333333333,\"#9c179e\"],[0.4444444444444444,\"#bd3786\"],[0.5555555555555556,\"#d8576b\"],[0.6666666666666666,\"#ed7953\"],[0.7777777777777778,\"#fb9f3a\"],[0.8888888888888888,\"#fdca26\"],[1.0,\"#f0f921\"]],\"type\":\"heatmapgl\"}],\"heatmap\":[{\"colorbar\":{\"outlinewidth\":0,\"ticks\":\"\"},\"colorscale\":[[0.0,\"#0d0887\"],[0.1111111111111111,\"#46039f\"],[0.2222222222222222,\"#7201a8\"],[0.3333333333333333,\"#9c179e\"],[0.4444444444444444,\"#bd3786\"],[0.5555555555555556,\"#d8576b\"],[0.6666666666666666,\"#ed7953\"],[0.7777777777777778,\"#fb9f3a\"],[0.8888888888888888,\"#fdca26\"],[1.0,\"#f0f921\"]],\"type\":\"heatmap\"}],\"histogram2dcontour\":[{\"colorbar\":{\"outlinewidth\":0,\"ticks\":\"\"},\"colorscale\":[[0.0,\"#0d0887\"],[0.1111111111111111,\"#46039f\"],[0.2222222222222222,\"#7201a8\"],[0.3333333333333333,\"#9c179e\"],[0.4444444444444444,\"#bd3786\"],[0.5555555555555556,\"#d8576b\"],[0.6666666666666666,\"#ed7953\"],[0.7777777777777778,\"#fb9f3a\"],[0.8888888888888888,\"#fdca26\"],[1.0,\"#f0f921\"]],\"type\":\"histogram2dcontour\"}],\"histogram2d\":[{\"colorbar\":{\"outlinewidth\":0,\"ticks\":\"\"},\"colorscale\":[[0.0,\"#0d0887\"],[0.1111111111111111,\"#46039f\"],[0.2222222222222222,\"#7201a8\"],[0.3333333333333333,\"#9c179e\"],[0.4444444444444444,\"#bd3786\"],[0.5555555555555556,\"#d8576b\"],[0.6666666666666666,\"#ed7953\"],[0.7777777777777778,\"#fb9f3a\"],[0.8888888888888888,\"#fdca26\"],[1.0,\"#f0f921\"]],\"type\":\"histogram2d\"}],\"histogram\":[{\"marker\":{\"pattern\":{\"fillmode\":\"overlay\",\"size\":10,\"solidity\":0.2}},\"type\":\"histogram\"}],\"mesh3d\":[{\"colorbar\":{\"outlinewidth\":0,\"ticks\":\"\"},\"type\":\"mesh3d\"}],\"parcoords\":[{\"line\":{\"colorbar\":{\"outlinewidth\":0,\"ticks\":\"\"}},\"type\":\"parcoords\"}],\"pie\":[{\"automargin\":true,\"type\":\"pie\"}],\"scatter3d\":[{\"line\":{\"colorbar\":{\"outlinewidth\":0,\"ticks\":\"\"}},\"marker\":{\"colorbar\":{\"outlinewidth\":0,\"ticks\":\"\"}},\"type\":\"scatter3d\"}],\"scattercarpet\":[{\"marker\":{\"colorbar\":{\"outlinewidth\":0,\"ticks\":\"\"}},\"type\":\"scattercarpet\"}],\"scattergeo\":[{\"marker\":{\"colorbar\":{\"outlinewidth\":0,\"ticks\":\"\"}},\"type\":\"scattergeo\"}],\"scattergl\":[{\"marker\":{\"line\":{\"color\":\"#283442\"}},\"type\":\"scattergl\"}],\"scattermapbox\":[{\"marker\":{\"colorbar\":{\"outlinewidth\":0,\"ticks\":\"\"}},\"type\":\"scattermapbox\"}],\"scatterpolargl\":[{\"marker\":{\"colorbar\":{\"outlinewidth\":0,\"ticks\":\"\"}},\"type\":\"scatterpolargl\"}],\"scatterpolar\":[{\"marker\":{\"colorbar\":{\"outlinewidth\":0,\"ticks\":\"\"}},\"type\":\"scatterpolar\"}],\"scatter\":[{\"marker\":{\"line\":{\"color\":\"#283442\"}},\"type\":\"scatter\"}],\"scatterternary\":[{\"marker\":{\"colorbar\":{\"outlinewidth\":0,\"ticks\":\"\"}},\"type\":\"scatterternary\"}],\"surface\":[{\"colorbar\":{\"outlinewidth\":0,\"ticks\":\"\"},\"colorscale\":[[0.0,\"#0d0887\"],[0.1111111111111111,\"#46039f\"],[0.2222222222222222,\"#7201a8\"],[0.3333333333333333,\"#9c179e\"],[0.4444444444444444,\"#bd3786\"],[0.5555555555555556,\"#d8576b\"],[0.6666666666666666,\"#ed7953\"],[0.7777777777777778,\"#fb9f3a\"],[0.8888888888888888,\"#fdca26\"],[1.0,\"#f0f921\"]],\"type\":\"surface\"}],\"table\":[{\"cells\":{\"fill\":{\"color\":\"#506784\"},\"line\":{\"color\":\"rgb(17,17,17)\"}},\"header\":{\"fill\":{\"color\":\"#2a3f5f\"},\"line\":{\"color\":\"rgb(17,17,17)\"}},\"type\":\"table\"}]},\"layout\":{\"annotationdefaults\":{\"arrowcolor\":\"#f2f5fa\",\"arrowhead\":0,\"arrowwidth\":1},\"autotypenumbers\":\"strict\",\"coloraxis\":{\"colorbar\":{\"outlinewidth\":0,\"ticks\":\"\"}},\"colorscale\":{\"diverging\":[[0,\"#8e0152\"],[0.1,\"#c51b7d\"],[0.2,\"#de77ae\"],[0.3,\"#f1b6da\"],[0.4,\"#fde0ef\"],[0.5,\"#f7f7f7\"],[0.6,\"#e6f5d0\"],[0.7,\"#b8e186\"],[0.8,\"#7fbc41\"],[0.9,\"#4d9221\"],[1,\"#276419\"]],\"sequential\":[[0.0,\"#0d0887\"],[0.1111111111111111,\"#46039f\"],[0.2222222222222222,\"#7201a8\"],[0.3333333333333333,\"#9c179e\"],[0.4444444444444444,\"#bd3786\"],[0.5555555555555556,\"#d8576b\"],[0.6666666666666666,\"#ed7953\"],[0.7777777777777778,\"#fb9f3a\"],[0.8888888888888888,\"#fdca26\"],[1.0,\"#f0f921\"]],\"sequentialminus\":[[0.0,\"#0d0887\"],[0.1111111111111111,\"#46039f\"],[0.2222222222222222,\"#7201a8\"],[0.3333333333333333,\"#9c179e\"],[0.4444444444444444,\"#bd3786\"],[0.5555555555555556,\"#d8576b\"],[0.6666666666666666,\"#ed7953\"],[0.7777777777777778,\"#fb9f3a\"],[0.8888888888888888,\"#fdca26\"],[1.0,\"#f0f921\"]]},\"colorway\":[\"#636efa\",\"#EF553B\",\"#00cc96\",\"#ab63fa\",\"#FFA15A\",\"#19d3f3\",\"#FF6692\",\"#B6E880\",\"#FF97FF\",\"#FECB52\"],\"font\":{\"color\":\"#f2f5fa\"},\"geo\":{\"bgcolor\":\"rgb(17,17,17)\",\"lakecolor\":\"rgb(17,17,17)\",\"landcolor\":\"rgb(17,17,17)\",\"showlakes\":true,\"showland\":true,\"subunitcolor\":\"#506784\"},\"hoverlabel\":{\"align\":\"left\"},\"hovermode\":\"closest\",\"mapbox\":{\"style\":\"dark\"},\"paper_bgcolor\":\"rgb(17,17,17)\",\"plot_bgcolor\":\"rgb(17,17,17)\",\"polar\":{\"angularaxis\":{\"gridcolor\":\"#506784\",\"linecolor\":\"#506784\",\"ticks\":\"\"},\"bgcolor\":\"rgb(17,17,17)\",\"radialaxis\":{\"gridcolor\":\"#506784\",\"linecolor\":\"#506784\",\"ticks\":\"\"}},\"scene\":{\"xaxis\":{\"backgroundcolor\":\"rgb(17,17,17)\",\"gridcolor\":\"#506784\",\"gridwidth\":2,\"linecolor\":\"#506784\",\"showbackground\":true,\"ticks\":\"\",\"zerolinecolor\":\"#C8D4E3\"},\"yaxis\":{\"backgroundcolor\":\"rgb(17,17,17)\",\"gridcolor\":\"#506784\",\"gridwidth\":2,\"linecolor\":\"#506784\",\"showbackground\":true,\"ticks\":\"\",\"zerolinecolor\":\"#C8D4E3\"},\"zaxis\":{\"backgroundcolor\":\"rgb(17,17,17)\",\"gridcolor\":\"#506784\",\"gridwidth\":2,\"linecolor\":\"#506784\",\"showbackground\":true,\"ticks\":\"\",\"zerolinecolor\":\"#C8D4E3\"}},\"shapedefaults\":{\"line\":{\"color\":\"#f2f5fa\"}},\"sliderdefaults\":{\"bgcolor\":\"#C8D4E3\",\"bordercolor\":\"rgb(17,17,17)\",\"borderwidth\":1,\"tickwidth\":0},\"ternary\":{\"aaxis\":{\"gridcolor\":\"#506784\",\"linecolor\":\"#506784\",\"ticks\":\"\"},\"baxis\":{\"gridcolor\":\"#506784\",\"linecolor\":\"#506784\",\"ticks\":\"\"},\"bgcolor\":\"rgb(17,17,17)\",\"caxis\":{\"gridcolor\":\"#506784\",\"linecolor\":\"#506784\",\"ticks\":\"\"}},\"title\":{\"x\":0.05},\"updatemenudefaults\":{\"bgcolor\":\"#506784\",\"borderwidth\":0},\"xaxis\":{\"automargin\":true,\"gridcolor\":\"#283442\",\"linecolor\":\"#506784\",\"ticks\":\"\",\"title\":{\"standoff\":15},\"zerolinecolor\":\"#283442\",\"zerolinewidth\":2},\"yaxis\":{\"automargin\":true,\"gridcolor\":\"#283442\",\"linecolor\":\"#506784\",\"ticks\":\"\",\"title\":{\"standoff\":15},\"zerolinecolor\":\"#283442\",\"zerolinewidth\":2}}},\"title\":{\"text\":\"Overall Education Qualification of all the Candidates\"}},                        {\"responsive\": true}                    ).then(function(){\n",
              "                            \n",
              "var gd = document.getElementById('cbcb6e62-8822-463d-ba78-410f6cc212c6');\n",
              "var x = new MutationObserver(function (mutations, observer) {{\n",
              "        var display = window.getComputedStyle(gd).display;\n",
              "        if (!display || display === 'none') {{\n",
              "            console.log([gd, 'removed!']);\n",
              "            Plotly.purge(gd);\n",
              "            observer.disconnect();\n",
              "        }}\n",
              "}});\n",
              "\n",
              "// Listen for the removal of the full notebook cells\n",
              "var notebookContainer = gd.closest('#notebook-container');\n",
              "if (notebookContainer) {{\n",
              "    x.observe(notebookContainer, {childList: true});\n",
              "}}\n",
              "\n",
              "// Listen for the clearing of the current output cell\n",
              "var outputEl = gd.closest('.output');\n",
              "if (outputEl) {{\n",
              "    x.observe(outputEl, {childList: true});\n",
              "}}\n",
              "\n",
              "                        })                };                            </script>        </div>\n",
              "</body>\n",
              "</html>"
            ]
          },
          "metadata": {}
        },
        {
          "output_type": "display_data",
          "data": {
            "text/html": [
              "<html>\n",
              "<head><meta charset=\"utf-8\" /></head>\n",
              "<body>\n",
              "    <div>            <script src=\"https://cdnjs.cloudflare.com/ajax/libs/mathjax/2.7.5/MathJax.js?config=TeX-AMS-MML_SVG\"></script><script type=\"text/javascript\">if (window.MathJax && window.MathJax.Hub && window.MathJax.Hub.Config) {window.MathJax.Hub.Config({SVG: {font: \"STIX-Web\"}});}</script>                <script type=\"text/javascript\">window.PlotlyConfig = {MathJaxConfig: 'local'};</script>\n",
              "        <script src=\"https://cdn.plot.ly/plotly-2.18.2.min.js\"></script>                <div id=\"50796fd6-b038-4b95-b850-79395d87464d\" class=\"plotly-graph-div\" style=\"height:525px; width:100%;\"></div>            <script type=\"text/javascript\">                                    window.PLOTLYENV=window.PLOTLYENV || {};                                    if (document.getElementById(\"50796fd6-b038-4b95-b850-79395d87464d\")) {                    Plotly.newPlot(                        \"50796fd6-b038-4b95-b850-79395d87464d\",                        [{\"labels\":[0,1,2,3,4,5,6,7,8,10,11,12],\"pull\":[0.1,0.2,0,0.1,0.2,0,0.1,0.1,0.2,0,0.1,0.2],\"title\":{\"text\":\"Education Qualification of the Winners\"},\"values\":[45,69,4,12,23,132,99,1,2,17,134,1],\"type\":\"pie\"}],                        {\"template\":{\"data\":{\"barpolar\":[{\"marker\":{\"line\":{\"color\":\"rgb(17,17,17)\",\"width\":0.5},\"pattern\":{\"fillmode\":\"overlay\",\"size\":10,\"solidity\":0.2}},\"type\":\"barpolar\"}],\"bar\":[{\"error_x\":{\"color\":\"#f2f5fa\"},\"error_y\":{\"color\":\"#f2f5fa\"},\"marker\":{\"line\":{\"color\":\"rgb(17,17,17)\",\"width\":0.5},\"pattern\":{\"fillmode\":\"overlay\",\"size\":10,\"solidity\":0.2}},\"type\":\"bar\"}],\"carpet\":[{\"aaxis\":{\"endlinecolor\":\"#A2B1C6\",\"gridcolor\":\"#506784\",\"linecolor\":\"#506784\",\"minorgridcolor\":\"#506784\",\"startlinecolor\":\"#A2B1C6\"},\"baxis\":{\"endlinecolor\":\"#A2B1C6\",\"gridcolor\":\"#506784\",\"linecolor\":\"#506784\",\"minorgridcolor\":\"#506784\",\"startlinecolor\":\"#A2B1C6\"},\"type\":\"carpet\"}],\"choropleth\":[{\"colorbar\":{\"outlinewidth\":0,\"ticks\":\"\"},\"type\":\"choropleth\"}],\"contourcarpet\":[{\"colorbar\":{\"outlinewidth\":0,\"ticks\":\"\"},\"type\":\"contourcarpet\"}],\"contour\":[{\"colorbar\":{\"outlinewidth\":0,\"ticks\":\"\"},\"colorscale\":[[0.0,\"#0d0887\"],[0.1111111111111111,\"#46039f\"],[0.2222222222222222,\"#7201a8\"],[0.3333333333333333,\"#9c179e\"],[0.4444444444444444,\"#bd3786\"],[0.5555555555555556,\"#d8576b\"],[0.6666666666666666,\"#ed7953\"],[0.7777777777777778,\"#fb9f3a\"],[0.8888888888888888,\"#fdca26\"],[1.0,\"#f0f921\"]],\"type\":\"contour\"}],\"heatmapgl\":[{\"colorbar\":{\"outlinewidth\":0,\"ticks\":\"\"},\"colorscale\":[[0.0,\"#0d0887\"],[0.1111111111111111,\"#46039f\"],[0.2222222222222222,\"#7201a8\"],[0.3333333333333333,\"#9c179e\"],[0.4444444444444444,\"#bd3786\"],[0.5555555555555556,\"#d8576b\"],[0.6666666666666666,\"#ed7953\"],[0.7777777777777778,\"#fb9f3a\"],[0.8888888888888888,\"#fdca26\"],[1.0,\"#f0f921\"]],\"type\":\"heatmapgl\"}],\"heatmap\":[{\"colorbar\":{\"outlinewidth\":0,\"ticks\":\"\"},\"colorscale\":[[0.0,\"#0d0887\"],[0.1111111111111111,\"#46039f\"],[0.2222222222222222,\"#7201a8\"],[0.3333333333333333,\"#9c179e\"],[0.4444444444444444,\"#bd3786\"],[0.5555555555555556,\"#d8576b\"],[0.6666666666666666,\"#ed7953\"],[0.7777777777777778,\"#fb9f3a\"],[0.8888888888888888,\"#fdca26\"],[1.0,\"#f0f921\"]],\"type\":\"heatmap\"}],\"histogram2dcontour\":[{\"colorbar\":{\"outlinewidth\":0,\"ticks\":\"\"},\"colorscale\":[[0.0,\"#0d0887\"],[0.1111111111111111,\"#46039f\"],[0.2222222222222222,\"#7201a8\"],[0.3333333333333333,\"#9c179e\"],[0.4444444444444444,\"#bd3786\"],[0.5555555555555556,\"#d8576b\"],[0.6666666666666666,\"#ed7953\"],[0.7777777777777778,\"#fb9f3a\"],[0.8888888888888888,\"#fdca26\"],[1.0,\"#f0f921\"]],\"type\":\"histogram2dcontour\"}],\"histogram2d\":[{\"colorbar\":{\"outlinewidth\":0,\"ticks\":\"\"},\"colorscale\":[[0.0,\"#0d0887\"],[0.1111111111111111,\"#46039f\"],[0.2222222222222222,\"#7201a8\"],[0.3333333333333333,\"#9c179e\"],[0.4444444444444444,\"#bd3786\"],[0.5555555555555556,\"#d8576b\"],[0.6666666666666666,\"#ed7953\"],[0.7777777777777778,\"#fb9f3a\"],[0.8888888888888888,\"#fdca26\"],[1.0,\"#f0f921\"]],\"type\":\"histogram2d\"}],\"histogram\":[{\"marker\":{\"pattern\":{\"fillmode\":\"overlay\",\"size\":10,\"solidity\":0.2}},\"type\":\"histogram\"}],\"mesh3d\":[{\"colorbar\":{\"outlinewidth\":0,\"ticks\":\"\"},\"type\":\"mesh3d\"}],\"parcoords\":[{\"line\":{\"colorbar\":{\"outlinewidth\":0,\"ticks\":\"\"}},\"type\":\"parcoords\"}],\"pie\":[{\"automargin\":true,\"type\":\"pie\"}],\"scatter3d\":[{\"line\":{\"colorbar\":{\"outlinewidth\":0,\"ticks\":\"\"}},\"marker\":{\"colorbar\":{\"outlinewidth\":0,\"ticks\":\"\"}},\"type\":\"scatter3d\"}],\"scattercarpet\":[{\"marker\":{\"colorbar\":{\"outlinewidth\":0,\"ticks\":\"\"}},\"type\":\"scattercarpet\"}],\"scattergeo\":[{\"marker\":{\"colorbar\":{\"outlinewidth\":0,\"ticks\":\"\"}},\"type\":\"scattergeo\"}],\"scattergl\":[{\"marker\":{\"line\":{\"color\":\"#283442\"}},\"type\":\"scattergl\"}],\"scattermapbox\":[{\"marker\":{\"colorbar\":{\"outlinewidth\":0,\"ticks\":\"\"}},\"type\":\"scattermapbox\"}],\"scatterpolargl\":[{\"marker\":{\"colorbar\":{\"outlinewidth\":0,\"ticks\":\"\"}},\"type\":\"scatterpolargl\"}],\"scatterpolar\":[{\"marker\":{\"colorbar\":{\"outlinewidth\":0,\"ticks\":\"\"}},\"type\":\"scatterpolar\"}],\"scatter\":[{\"marker\":{\"line\":{\"color\":\"#283442\"}},\"type\":\"scatter\"}],\"scatterternary\":[{\"marker\":{\"colorbar\":{\"outlinewidth\":0,\"ticks\":\"\"}},\"type\":\"scatterternary\"}],\"surface\":[{\"colorbar\":{\"outlinewidth\":0,\"ticks\":\"\"},\"colorscale\":[[0.0,\"#0d0887\"],[0.1111111111111111,\"#46039f\"],[0.2222222222222222,\"#7201a8\"],[0.3333333333333333,\"#9c179e\"],[0.4444444444444444,\"#bd3786\"],[0.5555555555555556,\"#d8576b\"],[0.6666666666666666,\"#ed7953\"],[0.7777777777777778,\"#fb9f3a\"],[0.8888888888888888,\"#fdca26\"],[1.0,\"#f0f921\"]],\"type\":\"surface\"}],\"table\":[{\"cells\":{\"fill\":{\"color\":\"#506784\"},\"line\":{\"color\":\"rgb(17,17,17)\"}},\"header\":{\"fill\":{\"color\":\"#2a3f5f\"},\"line\":{\"color\":\"rgb(17,17,17)\"}},\"type\":\"table\"}]},\"layout\":{\"annotationdefaults\":{\"arrowcolor\":\"#f2f5fa\",\"arrowhead\":0,\"arrowwidth\":1},\"autotypenumbers\":\"strict\",\"coloraxis\":{\"colorbar\":{\"outlinewidth\":0,\"ticks\":\"\"}},\"colorscale\":{\"diverging\":[[0,\"#8e0152\"],[0.1,\"#c51b7d\"],[0.2,\"#de77ae\"],[0.3,\"#f1b6da\"],[0.4,\"#fde0ef\"],[0.5,\"#f7f7f7\"],[0.6,\"#e6f5d0\"],[0.7,\"#b8e186\"],[0.8,\"#7fbc41\"],[0.9,\"#4d9221\"],[1,\"#276419\"]],\"sequential\":[[0.0,\"#0d0887\"],[0.1111111111111111,\"#46039f\"],[0.2222222222222222,\"#7201a8\"],[0.3333333333333333,\"#9c179e\"],[0.4444444444444444,\"#bd3786\"],[0.5555555555555556,\"#d8576b\"],[0.6666666666666666,\"#ed7953\"],[0.7777777777777778,\"#fb9f3a\"],[0.8888888888888888,\"#fdca26\"],[1.0,\"#f0f921\"]],\"sequentialminus\":[[0.0,\"#0d0887\"],[0.1111111111111111,\"#46039f\"],[0.2222222222222222,\"#7201a8\"],[0.3333333333333333,\"#9c179e\"],[0.4444444444444444,\"#bd3786\"],[0.5555555555555556,\"#d8576b\"],[0.6666666666666666,\"#ed7953\"],[0.7777777777777778,\"#fb9f3a\"],[0.8888888888888888,\"#fdca26\"],[1.0,\"#f0f921\"]]},\"colorway\":[\"#636efa\",\"#EF553B\",\"#00cc96\",\"#ab63fa\",\"#FFA15A\",\"#19d3f3\",\"#FF6692\",\"#B6E880\",\"#FF97FF\",\"#FECB52\"],\"font\":{\"color\":\"#f2f5fa\"},\"geo\":{\"bgcolor\":\"rgb(17,17,17)\",\"lakecolor\":\"rgb(17,17,17)\",\"landcolor\":\"rgb(17,17,17)\",\"showlakes\":true,\"showland\":true,\"subunitcolor\":\"#506784\"},\"hoverlabel\":{\"align\":\"left\"},\"hovermode\":\"closest\",\"mapbox\":{\"style\":\"dark\"},\"paper_bgcolor\":\"rgb(17,17,17)\",\"plot_bgcolor\":\"rgb(17,17,17)\",\"polar\":{\"angularaxis\":{\"gridcolor\":\"#506784\",\"linecolor\":\"#506784\",\"ticks\":\"\"},\"bgcolor\":\"rgb(17,17,17)\",\"radialaxis\":{\"gridcolor\":\"#506784\",\"linecolor\":\"#506784\",\"ticks\":\"\"}},\"scene\":{\"xaxis\":{\"backgroundcolor\":\"rgb(17,17,17)\",\"gridcolor\":\"#506784\",\"gridwidth\":2,\"linecolor\":\"#506784\",\"showbackground\":true,\"ticks\":\"\",\"zerolinecolor\":\"#C8D4E3\"},\"yaxis\":{\"backgroundcolor\":\"rgb(17,17,17)\",\"gridcolor\":\"#506784\",\"gridwidth\":2,\"linecolor\":\"#506784\",\"showbackground\":true,\"ticks\":\"\",\"zerolinecolor\":\"#C8D4E3\"},\"zaxis\":{\"backgroundcolor\":\"rgb(17,17,17)\",\"gridcolor\":\"#506784\",\"gridwidth\":2,\"linecolor\":\"#506784\",\"showbackground\":true,\"ticks\":\"\",\"zerolinecolor\":\"#C8D4E3\"}},\"shapedefaults\":{\"line\":{\"color\":\"#f2f5fa\"}},\"sliderdefaults\":{\"bgcolor\":\"#C8D4E3\",\"bordercolor\":\"rgb(17,17,17)\",\"borderwidth\":1,\"tickwidth\":0},\"ternary\":{\"aaxis\":{\"gridcolor\":\"#506784\",\"linecolor\":\"#506784\",\"ticks\":\"\"},\"baxis\":{\"gridcolor\":\"#506784\",\"linecolor\":\"#506784\",\"ticks\":\"\"},\"bgcolor\":\"rgb(17,17,17)\",\"caxis\":{\"gridcolor\":\"#506784\",\"linecolor\":\"#506784\",\"ticks\":\"\"}},\"title\":{\"x\":0.05},\"updatemenudefaults\":{\"bgcolor\":\"#506784\",\"borderwidth\":0},\"xaxis\":{\"automargin\":true,\"gridcolor\":\"#283442\",\"linecolor\":\"#506784\",\"ticks\":\"\",\"title\":{\"standoff\":15},\"zerolinecolor\":\"#283442\",\"zerolinewidth\":2},\"yaxis\":{\"automargin\":true,\"gridcolor\":\"#283442\",\"linecolor\":\"#506784\",\"ticks\":\"\",\"title\":{\"standoff\":15},\"zerolinecolor\":\"#283442\",\"zerolinewidth\":2}}},\"title\":{\"text\":\"Education Qualification of the Winners\"}},                        {\"responsive\": true}                    ).then(function(){\n",
              "                            \n",
              "var gd = document.getElementById('50796fd6-b038-4b95-b850-79395d87464d');\n",
              "var x = new MutationObserver(function (mutations, observer) {{\n",
              "        var display = window.getComputedStyle(gd).display;\n",
              "        if (!display || display === 'none') {{\n",
              "            console.log([gd, 'removed!']);\n",
              "            Plotly.purge(gd);\n",
              "            observer.disconnect();\n",
              "        }}\n",
              "}});\n",
              "\n",
              "// Listen for the removal of the full notebook cells\n",
              "var notebookContainer = gd.closest('#notebook-container');\n",
              "if (notebookContainer) {{\n",
              "    x.observe(notebookContainer, {childList: true});\n",
              "}}\n",
              "\n",
              "// Listen for the clearing of the current output cell\n",
              "var outputEl = gd.closest('.output');\n",
              "if (outputEl) {{\n",
              "    x.observe(outputEl, {childList: true});\n",
              "}}\n",
              "\n",
              "                        })                };                            </script>        </div>\n",
              "</body>\n",
              "</html>"
            ]
          },
          "metadata": {}
        }
      ]
    },
    {
      "cell_type": "code",
      "source": [
        "#scaling the values into the range 0-1\n",
        "from sklearn.preprocessing import MinMaxScaler\n",
        "scaler = MinMaxScaler()\n",
        "vote= pd.DataFrame(scaler.fit_transform(vote))\n",
        "vote"
      ],
      "metadata": {
        "colab": {
          "base_uri": "https://localhost:8080/",
          "height": 488
        },
        "id": "Q1f_y7ibaoC8",
        "outputId": "37d4e0a5-099a-4b82-f752-a47366c3da2a"
      },
      "execution_count": null,
      "outputs": [
        {
          "output_type": "execute_result",
          "data": {
            "text/plain": [
              "            0         1         2    3         4         5    6         7   \\\n",
              "0     0.885714  0.000000  0.850969  1.0  0.196970  0.634921  0.5  0.216667   \n",
              "1     0.885714  0.000000  0.347740  0.0  0.909091  0.253968  0.5  0.000000   \n",
              "2     0.885714  0.000000  0.744163  0.0  0.348485  0.523810  0.5  0.012500   \n",
              "3     0.885714  0.000000  0.597615  0.0  0.613636  1.000000  1.0  0.000000   \n",
              "4     0.942857  0.001859  0.888723  1.0  0.196970  0.634921  0.5  0.020833   \n",
              "...        ...       ...       ...  ...       ...       ...  ...       ...   \n",
              "2258  0.542857  0.998141  0.091406  0.0  0.356061  0.785714  0.5  0.000000   \n",
              "2259  0.885714  1.000000  0.111277  1.0  0.909091  0.253968  0.5  0.075000   \n",
              "2260  0.885714  1.000000  0.495777  0.0  0.348485  0.523810  0.5  0.000000   \n",
              "2261  0.885714  1.000000  0.123696  0.0  0.196970  0.634921  0.5  0.012500   \n",
              "2262  0.885714  1.000000  0.597615  0.0  0.613636  1.000000  1.0  0.000000   \n",
              "\n",
              "            8         9         10        11        12        13        14  \\\n",
              "0     0.604651  0.666667  0.076923  0.000346  0.000150  0.352471  0.024888   \n",
              "1     0.627907  0.666667  0.846154  0.002065  0.000547  0.297823  0.007693   \n",
              "2     0.604651  0.666667  0.076923  0.004077  0.009887  0.293498  0.009346   \n",
              "3     0.000000  1.000000  1.000000  0.000000  0.000000  0.010972  0.000310   \n",
              "4     0.674419  0.333333  0.307692  0.008299  0.005562  0.603594  0.124748   \n",
              "...        ...       ...       ...       ...       ...       ...       ...   \n",
              "2258  0.500000  0.000000  0.846154  0.000546  0.000659  0.012503  0.001291   \n",
              "2259  0.732558  0.000000  0.384615  0.143891  0.007454  0.406131  0.009191   \n",
              "2260  0.569767  0.000000  0.846154  0.100966  0.000000  0.400344  0.005938   \n",
              "2261  0.546512  0.000000  0.076923  0.006545  0.003393  0.128948  0.011153   \n",
              "2262  0.000000  1.000000  1.000000  0.000000  0.000000  0.009197  0.000103   \n",
              "\n",
              "            15        16        17        18  \n",
              "0     0.352345  0.486620  0.469519  0.463504  \n",
              "1     0.297474  0.410814  0.394546  0.463504  \n",
              "2     0.293186  0.404891  0.388687  0.463504  \n",
              "3     0.010957  0.014986  0.003067  0.463504  \n",
              "4     0.604869  0.641927  0.755527  0.608215  \n",
              "...        ...       ...       ...       ...  \n",
              "2258  0.012503  0.012892  0.003406  0.601267  \n",
              "2259  0.405633  0.556909  0.552692  0.466371  \n",
              "2260  0.399796  0.548893  0.544569  0.466371  \n",
              "2261  0.128937  0.176912  0.167584  0.466371  \n",
              "2262  0.009181  0.012446  0.000906  0.466371  \n",
              "\n",
              "[2263 rows x 19 columns]"
            ],
            "text/html": [
              "\n",
              "  <div id=\"df-3080decd-93d0-434c-98d2-2adc3f624d28\">\n",
              "    <div class=\"colab-df-container\">\n",
              "      <div>\n",
              "<style scoped>\n",
              "    .dataframe tbody tr th:only-of-type {\n",
              "        vertical-align: middle;\n",
              "    }\n",
              "\n",
              "    .dataframe tbody tr th {\n",
              "        vertical-align: top;\n",
              "    }\n",
              "\n",
              "    .dataframe thead th {\n",
              "        text-align: right;\n",
              "    }\n",
              "</style>\n",
              "<table border=\"1\" class=\"dataframe\">\n",
              "  <thead>\n",
              "    <tr style=\"text-align: right;\">\n",
              "      <th></th>\n",
              "      <th>0</th>\n",
              "      <th>1</th>\n",
              "      <th>2</th>\n",
              "      <th>3</th>\n",
              "      <th>4</th>\n",
              "      <th>5</th>\n",
              "      <th>6</th>\n",
              "      <th>7</th>\n",
              "      <th>8</th>\n",
              "      <th>9</th>\n",
              "      <th>10</th>\n",
              "      <th>11</th>\n",
              "      <th>12</th>\n",
              "      <th>13</th>\n",
              "      <th>14</th>\n",
              "      <th>15</th>\n",
              "      <th>16</th>\n",
              "      <th>17</th>\n",
              "      <th>18</th>\n",
              "    </tr>\n",
              "  </thead>\n",
              "  <tbody>\n",
              "    <tr>\n",
              "      <th>0</th>\n",
              "      <td>0.885714</td>\n",
              "      <td>0.000000</td>\n",
              "      <td>0.850969</td>\n",
              "      <td>1.0</td>\n",
              "      <td>0.196970</td>\n",
              "      <td>0.634921</td>\n",
              "      <td>0.5</td>\n",
              "      <td>0.216667</td>\n",
              "      <td>0.604651</td>\n",
              "      <td>0.666667</td>\n",
              "      <td>0.076923</td>\n",
              "      <td>0.000346</td>\n",
              "      <td>0.000150</td>\n",
              "      <td>0.352471</td>\n",
              "      <td>0.024888</td>\n",
              "      <td>0.352345</td>\n",
              "      <td>0.486620</td>\n",
              "      <td>0.469519</td>\n",
              "      <td>0.463504</td>\n",
              "    </tr>\n",
              "    <tr>\n",
              "      <th>1</th>\n",
              "      <td>0.885714</td>\n",
              "      <td>0.000000</td>\n",
              "      <td>0.347740</td>\n",
              "      <td>0.0</td>\n",
              "      <td>0.909091</td>\n",
              "      <td>0.253968</td>\n",
              "      <td>0.5</td>\n",
              "      <td>0.000000</td>\n",
              "      <td>0.627907</td>\n",
              "      <td>0.666667</td>\n",
              "      <td>0.846154</td>\n",
              "      <td>0.002065</td>\n",
              "      <td>0.000547</td>\n",
              "      <td>0.297823</td>\n",
              "      <td>0.007693</td>\n",
              "      <td>0.297474</td>\n",
              "      <td>0.410814</td>\n",
              "      <td>0.394546</td>\n",
              "      <td>0.463504</td>\n",
              "    </tr>\n",
              "    <tr>\n",
              "      <th>2</th>\n",
              "      <td>0.885714</td>\n",
              "      <td>0.000000</td>\n",
              "      <td>0.744163</td>\n",
              "      <td>0.0</td>\n",
              "      <td>0.348485</td>\n",
              "      <td>0.523810</td>\n",
              "      <td>0.5</td>\n",
              "      <td>0.012500</td>\n",
              "      <td>0.604651</td>\n",
              "      <td>0.666667</td>\n",
              "      <td>0.076923</td>\n",
              "      <td>0.004077</td>\n",
              "      <td>0.009887</td>\n",
              "      <td>0.293498</td>\n",
              "      <td>0.009346</td>\n",
              "      <td>0.293186</td>\n",
              "      <td>0.404891</td>\n",
              "      <td>0.388687</td>\n",
              "      <td>0.463504</td>\n",
              "    </tr>\n",
              "    <tr>\n",
              "      <th>3</th>\n",
              "      <td>0.885714</td>\n",
              "      <td>0.000000</td>\n",
              "      <td>0.597615</td>\n",
              "      <td>0.0</td>\n",
              "      <td>0.613636</td>\n",
              "      <td>1.000000</td>\n",
              "      <td>1.0</td>\n",
              "      <td>0.000000</td>\n",
              "      <td>0.000000</td>\n",
              "      <td>1.000000</td>\n",
              "      <td>1.000000</td>\n",
              "      <td>0.000000</td>\n",
              "      <td>0.000000</td>\n",
              "      <td>0.010972</td>\n",
              "      <td>0.000310</td>\n",
              "      <td>0.010957</td>\n",
              "      <td>0.014986</td>\n",
              "      <td>0.003067</td>\n",
              "      <td>0.463504</td>\n",
              "    </tr>\n",
              "    <tr>\n",
              "      <th>4</th>\n",
              "      <td>0.942857</td>\n",
              "      <td>0.001859</td>\n",
              "      <td>0.888723</td>\n",
              "      <td>1.0</td>\n",
              "      <td>0.196970</td>\n",
              "      <td>0.634921</td>\n",
              "      <td>0.5</td>\n",
              "      <td>0.020833</td>\n",
              "      <td>0.674419</td>\n",
              "      <td>0.333333</td>\n",
              "      <td>0.307692</td>\n",
              "      <td>0.008299</td>\n",
              "      <td>0.005562</td>\n",
              "      <td>0.603594</td>\n",
              "      <td>0.124748</td>\n",
              "      <td>0.604869</td>\n",
              "      <td>0.641927</td>\n",
              "      <td>0.755527</td>\n",
              "      <td>0.608215</td>\n",
              "    </tr>\n",
              "    <tr>\n",
              "      <th>...</th>\n",
              "      <td>...</td>\n",
              "      <td>...</td>\n",
              "      <td>...</td>\n",
              "      <td>...</td>\n",
              "      <td>...</td>\n",
              "      <td>...</td>\n",
              "      <td>...</td>\n",
              "      <td>...</td>\n",
              "      <td>...</td>\n",
              "      <td>...</td>\n",
              "      <td>...</td>\n",
              "      <td>...</td>\n",
              "      <td>...</td>\n",
              "      <td>...</td>\n",
              "      <td>...</td>\n",
              "      <td>...</td>\n",
              "      <td>...</td>\n",
              "      <td>...</td>\n",
              "      <td>...</td>\n",
              "    </tr>\n",
              "    <tr>\n",
              "      <th>2258</th>\n",
              "      <td>0.542857</td>\n",
              "      <td>0.998141</td>\n",
              "      <td>0.091406</td>\n",
              "      <td>0.0</td>\n",
              "      <td>0.356061</td>\n",
              "      <td>0.785714</td>\n",
              "      <td>0.5</td>\n",
              "      <td>0.000000</td>\n",
              "      <td>0.500000</td>\n",
              "      <td>0.000000</td>\n",
              "      <td>0.846154</td>\n",
              "      <td>0.000546</td>\n",
              "      <td>0.000659</td>\n",
              "      <td>0.012503</td>\n",
              "      <td>0.001291</td>\n",
              "      <td>0.012503</td>\n",
              "      <td>0.012892</td>\n",
              "      <td>0.003406</td>\n",
              "      <td>0.601267</td>\n",
              "    </tr>\n",
              "    <tr>\n",
              "      <th>2259</th>\n",
              "      <td>0.885714</td>\n",
              "      <td>1.000000</td>\n",
              "      <td>0.111277</td>\n",
              "      <td>1.0</td>\n",
              "      <td>0.909091</td>\n",
              "      <td>0.253968</td>\n",
              "      <td>0.5</td>\n",
              "      <td>0.075000</td>\n",
              "      <td>0.732558</td>\n",
              "      <td>0.000000</td>\n",
              "      <td>0.384615</td>\n",
              "      <td>0.143891</td>\n",
              "      <td>0.007454</td>\n",
              "      <td>0.406131</td>\n",
              "      <td>0.009191</td>\n",
              "      <td>0.405633</td>\n",
              "      <td>0.556909</td>\n",
              "      <td>0.552692</td>\n",
              "      <td>0.466371</td>\n",
              "    </tr>\n",
              "    <tr>\n",
              "      <th>2260</th>\n",
              "      <td>0.885714</td>\n",
              "      <td>1.000000</td>\n",
              "      <td>0.495777</td>\n",
              "      <td>0.0</td>\n",
              "      <td>0.348485</td>\n",
              "      <td>0.523810</td>\n",
              "      <td>0.5</td>\n",
              "      <td>0.000000</td>\n",
              "      <td>0.569767</td>\n",
              "      <td>0.000000</td>\n",
              "      <td>0.846154</td>\n",
              "      <td>0.100966</td>\n",
              "      <td>0.000000</td>\n",
              "      <td>0.400344</td>\n",
              "      <td>0.005938</td>\n",
              "      <td>0.399796</td>\n",
              "      <td>0.548893</td>\n",
              "      <td>0.544569</td>\n",
              "      <td>0.466371</td>\n",
              "    </tr>\n",
              "    <tr>\n",
              "      <th>2261</th>\n",
              "      <td>0.885714</td>\n",
              "      <td>1.000000</td>\n",
              "      <td>0.123696</td>\n",
              "      <td>0.0</td>\n",
              "      <td>0.196970</td>\n",
              "      <td>0.634921</td>\n",
              "      <td>0.5</td>\n",
              "      <td>0.012500</td>\n",
              "      <td>0.546512</td>\n",
              "      <td>0.000000</td>\n",
              "      <td>0.076923</td>\n",
              "      <td>0.006545</td>\n",
              "      <td>0.003393</td>\n",
              "      <td>0.128948</td>\n",
              "      <td>0.011153</td>\n",
              "      <td>0.128937</td>\n",
              "      <td>0.176912</td>\n",
              "      <td>0.167584</td>\n",
              "      <td>0.466371</td>\n",
              "    </tr>\n",
              "    <tr>\n",
              "      <th>2262</th>\n",
              "      <td>0.885714</td>\n",
              "      <td>1.000000</td>\n",
              "      <td>0.597615</td>\n",
              "      <td>0.0</td>\n",
              "      <td>0.613636</td>\n",
              "      <td>1.000000</td>\n",
              "      <td>1.0</td>\n",
              "      <td>0.000000</td>\n",
              "      <td>0.000000</td>\n",
              "      <td>1.000000</td>\n",
              "      <td>1.000000</td>\n",
              "      <td>0.000000</td>\n",
              "      <td>0.000000</td>\n",
              "      <td>0.009197</td>\n",
              "      <td>0.000103</td>\n",
              "      <td>0.009181</td>\n",
              "      <td>0.012446</td>\n",
              "      <td>0.000906</td>\n",
              "      <td>0.466371</td>\n",
              "    </tr>\n",
              "  </tbody>\n",
              "</table>\n",
              "<p>2263 rows × 19 columns</p>\n",
              "</div>\n",
              "      <button class=\"colab-df-convert\" onclick=\"convertToInteractive('df-3080decd-93d0-434c-98d2-2adc3f624d28')\"\n",
              "              title=\"Convert this dataframe to an interactive table.\"\n",
              "              style=\"display:none;\">\n",
              "        \n",
              "  <svg xmlns=\"http://www.w3.org/2000/svg\" height=\"24px\"viewBox=\"0 0 24 24\"\n",
              "       width=\"24px\">\n",
              "    <path d=\"M0 0h24v24H0V0z\" fill=\"none\"/>\n",
              "    <path d=\"M18.56 5.44l.94 2.06.94-2.06 2.06-.94-2.06-.94-.94-2.06-.94 2.06-2.06.94zm-11 1L8.5 8.5l.94-2.06 2.06-.94-2.06-.94L8.5 2.5l-.94 2.06-2.06.94zm10 10l.94 2.06.94-2.06 2.06-.94-2.06-.94-.94-2.06-.94 2.06-2.06.94z\"/><path d=\"M17.41 7.96l-1.37-1.37c-.4-.4-.92-.59-1.43-.59-.52 0-1.04.2-1.43.59L10.3 9.45l-7.72 7.72c-.78.78-.78 2.05 0 2.83L4 21.41c.39.39.9.59 1.41.59.51 0 1.02-.2 1.41-.59l7.78-7.78 2.81-2.81c.8-.78.8-2.07 0-2.86zM5.41 20L4 18.59l7.72-7.72 1.47 1.35L5.41 20z\"/>\n",
              "  </svg>\n",
              "      </button>\n",
              "      \n",
              "  <style>\n",
              "    .colab-df-container {\n",
              "      display:flex;\n",
              "      flex-wrap:wrap;\n",
              "      gap: 12px;\n",
              "    }\n",
              "\n",
              "    .colab-df-convert {\n",
              "      background-color: #E8F0FE;\n",
              "      border: none;\n",
              "      border-radius: 50%;\n",
              "      cursor: pointer;\n",
              "      display: none;\n",
              "      fill: #1967D2;\n",
              "      height: 32px;\n",
              "      padding: 0 0 0 0;\n",
              "      width: 32px;\n",
              "    }\n",
              "\n",
              "    .colab-df-convert:hover {\n",
              "      background-color: #E2EBFA;\n",
              "      box-shadow: 0px 1px 2px rgba(60, 64, 67, 0.3), 0px 1px 3px 1px rgba(60, 64, 67, 0.15);\n",
              "      fill: #174EA6;\n",
              "    }\n",
              "\n",
              "    [theme=dark] .colab-df-convert {\n",
              "      background-color: #3B4455;\n",
              "      fill: #D2E3FC;\n",
              "    }\n",
              "\n",
              "    [theme=dark] .colab-df-convert:hover {\n",
              "      background-color: #434B5C;\n",
              "      box-shadow: 0px 1px 3px 1px rgba(0, 0, 0, 0.15);\n",
              "      filter: drop-shadow(0px 1px 2px rgba(0, 0, 0, 0.3));\n",
              "      fill: #FFFFFF;\n",
              "    }\n",
              "  </style>\n",
              "\n",
              "      <script>\n",
              "        const buttonEl =\n",
              "          document.querySelector('#df-3080decd-93d0-434c-98d2-2adc3f624d28 button.colab-df-convert');\n",
              "        buttonEl.style.display =\n",
              "          google.colab.kernel.accessAllowed ? 'block' : 'none';\n",
              "\n",
              "        async function convertToInteractive(key) {\n",
              "          const element = document.querySelector('#df-3080decd-93d0-434c-98d2-2adc3f624d28');\n",
              "          const dataTable =\n",
              "            await google.colab.kernel.invokeFunction('convertToInteractive',\n",
              "                                                     [key], {});\n",
              "          if (!dataTable) return;\n",
              "\n",
              "          const docLinkHtml = 'Like what you see? Visit the ' +\n",
              "            '<a target=\"_blank\" href=https://colab.research.google.com/notebooks/data_table.ipynb>data table notebook</a>'\n",
              "            + ' to learn more about interactive tables.';\n",
              "          element.innerHTML = '';\n",
              "          dataTable['output_type'] = 'display_data';\n",
              "          await google.colab.output.renderOutput(dataTable, element);\n",
              "          const docLink = document.createElement('div');\n",
              "          docLink.innerHTML = docLinkHtml;\n",
              "          element.appendChild(docLink);\n",
              "        }\n",
              "      </script>\n",
              "    </div>\n",
              "  </div>\n",
              "  "
            ]
          },
          "metadata": {},
          "execution_count": 16
        }
      ]
    },
    {
      "cell_type": "markdown",
      "source": [
        "# **MODELLING**"
      ],
      "metadata": {
        "id": "ZZAPRKPEpBlf"
      }
    },
    {
      "cell_type": "code",
      "source": [
        "X=vote.iloc[:,vote.columns!=3]\n",
        "y=vote.iloc[:,3]"
      ],
      "metadata": {
        "id": "kYtdIgBTbJKL"
      },
      "execution_count": null,
      "outputs": []
    },
    {
      "cell_type": "code",
      "source": [
        "#Splitting the dataset to train and test\n",
        "from sklearn.model_selection import train_test_split\n",
        "X_train, X_test, y_train, y_test = train_test_split(X, y, random_state=1)\n"
      ],
      "metadata": {
        "id": "CzpAjzQdbFdW"
      },
      "execution_count": null,
      "outputs": []
    },
    {
      "cell_type": "markdown",
      "source": [
        "**LINEAR REGRESSION**"
      ],
      "metadata": {
        "id": "bls_7tJHpXM0"
      }
    },
    {
      "cell_type": "code",
      "source": [
        "from sklearn import linear_model, metrics"
      ],
      "metadata": {
        "id": "_PJL6HPfn5hF"
      },
      "execution_count": null,
      "outputs": []
    },
    {
      "cell_type": "code",
      "source": [
        "# create linear regression model\n",
        "model_lin = linear_model.LinearRegression()"
      ],
      "metadata": {
        "id": "OxR0gYZZoI8a"
      },
      "execution_count": null,
      "outputs": []
    },
    {
      "cell_type": "code",
      "source": [
        "# train the model using the training sets\n",
        "model_lin.fit(X_train, y_train)"
      ],
      "metadata": {
        "colab": {
          "base_uri": "https://localhost:8080/",
          "height": 75
        },
        "id": "4jv-bEBNqUZI",
        "outputId": "1011ad6a-8f48-4ee2-ee25-7b013d6491ba"
      },
      "execution_count": null,
      "outputs": [
        {
          "output_type": "execute_result",
          "data": {
            "text/plain": [
              "LinearRegression()"
            ],
            "text/html": [
              "<style>#sk-container-id-1 {color: black;background-color: white;}#sk-container-id-1 pre{padding: 0;}#sk-container-id-1 div.sk-toggleable {background-color: white;}#sk-container-id-1 label.sk-toggleable__label {cursor: pointer;display: block;width: 100%;margin-bottom: 0;padding: 0.3em;box-sizing: border-box;text-align: center;}#sk-container-id-1 label.sk-toggleable__label-arrow:before {content: \"▸\";float: left;margin-right: 0.25em;color: #696969;}#sk-container-id-1 label.sk-toggleable__label-arrow:hover:before {color: black;}#sk-container-id-1 div.sk-estimator:hover label.sk-toggleable__label-arrow:before {color: black;}#sk-container-id-1 div.sk-toggleable__content {max-height: 0;max-width: 0;overflow: hidden;text-align: left;background-color: #f0f8ff;}#sk-container-id-1 div.sk-toggleable__content pre {margin: 0.2em;color: black;border-radius: 0.25em;background-color: #f0f8ff;}#sk-container-id-1 input.sk-toggleable__control:checked~div.sk-toggleable__content {max-height: 200px;max-width: 100%;overflow: auto;}#sk-container-id-1 input.sk-toggleable__control:checked~label.sk-toggleable__label-arrow:before {content: \"▾\";}#sk-container-id-1 div.sk-estimator input.sk-toggleable__control:checked~label.sk-toggleable__label {background-color: #d4ebff;}#sk-container-id-1 div.sk-label input.sk-toggleable__control:checked~label.sk-toggleable__label {background-color: #d4ebff;}#sk-container-id-1 input.sk-hidden--visually {border: 0;clip: rect(1px 1px 1px 1px);clip: rect(1px, 1px, 1px, 1px);height: 1px;margin: -1px;overflow: hidden;padding: 0;position: absolute;width: 1px;}#sk-container-id-1 div.sk-estimator {font-family: monospace;background-color: #f0f8ff;border: 1px dotted black;border-radius: 0.25em;box-sizing: border-box;margin-bottom: 0.5em;}#sk-container-id-1 div.sk-estimator:hover {background-color: #d4ebff;}#sk-container-id-1 div.sk-parallel-item::after {content: \"\";width: 100%;border-bottom: 1px solid gray;flex-grow: 1;}#sk-container-id-1 div.sk-label:hover label.sk-toggleable__label {background-color: #d4ebff;}#sk-container-id-1 div.sk-serial::before {content: \"\";position: absolute;border-left: 1px solid gray;box-sizing: border-box;top: 0;bottom: 0;left: 50%;z-index: 0;}#sk-container-id-1 div.sk-serial {display: flex;flex-direction: column;align-items: center;background-color: white;padding-right: 0.2em;padding-left: 0.2em;position: relative;}#sk-container-id-1 div.sk-item {position: relative;z-index: 1;}#sk-container-id-1 div.sk-parallel {display: flex;align-items: stretch;justify-content: center;background-color: white;position: relative;}#sk-container-id-1 div.sk-item::before, #sk-container-id-1 div.sk-parallel-item::before {content: \"\";position: absolute;border-left: 1px solid gray;box-sizing: border-box;top: 0;bottom: 0;left: 50%;z-index: -1;}#sk-container-id-1 div.sk-parallel-item {display: flex;flex-direction: column;z-index: 1;position: relative;background-color: white;}#sk-container-id-1 div.sk-parallel-item:first-child::after {align-self: flex-end;width: 50%;}#sk-container-id-1 div.sk-parallel-item:last-child::after {align-self: flex-start;width: 50%;}#sk-container-id-1 div.sk-parallel-item:only-child::after {width: 0;}#sk-container-id-1 div.sk-dashed-wrapped {border: 1px dashed gray;margin: 0 0.4em 0.5em 0.4em;box-sizing: border-box;padding-bottom: 0.4em;background-color: white;}#sk-container-id-1 div.sk-label label {font-family: monospace;font-weight: bold;display: inline-block;line-height: 1.2em;}#sk-container-id-1 div.sk-label-container {text-align: center;}#sk-container-id-1 div.sk-container {/* jupyter's `normalize.less` sets `[hidden] { display: none; }` but bootstrap.min.css set `[hidden] { display: none !important; }` so we also need the `!important` here to be able to override the default hidden behavior on the sphinx rendered scikit-learn.org. See: https://github.com/scikit-learn/scikit-learn/issues/21755 */display: inline-block !important;position: relative;}#sk-container-id-1 div.sk-text-repr-fallback {display: none;}</style><div id=\"sk-container-id-1\" class=\"sk-top-container\"><div class=\"sk-text-repr-fallback\"><pre>LinearRegression()</pre><b>In a Jupyter environment, please rerun this cell to show the HTML representation or trust the notebook. <br />On GitHub, the HTML representation is unable to render, please try loading this page with nbviewer.org.</b></div><div class=\"sk-container\" hidden><div class=\"sk-item\"><div class=\"sk-estimator sk-toggleable\"><input class=\"sk-toggleable__control sk-hidden--visually\" id=\"sk-estimator-id-1\" type=\"checkbox\" checked><label for=\"sk-estimator-id-1\" class=\"sk-toggleable__label sk-toggleable__label-arrow\">LinearRegression</label><div class=\"sk-toggleable__content\"><pre>LinearRegression()</pre></div></div></div></div></div>"
            ]
          },
          "metadata": {},
          "execution_count": 22
        }
      ]
    },
    {
      "cell_type": "code",
      "source": [
        "# predicting the test set results\n",
        "y_pred = model_lin.predict(X_test)"
      ],
      "metadata": {
        "id": "NmrYLxqvqUeY"
      },
      "execution_count": null,
      "outputs": []
    },
    {
      "cell_type": "code",
      "source": [
        "# Results of Linear Regression.\n",
        "from sklearn.metrics import mean_squared_error\n",
        "mse = mean_squared_error(y_test, y_pred)\n",
        "print(\"Mean Square Error : \", mse)"
      ],
      "metadata": {
        "colab": {
          "base_uri": "https://localhost:8080/"
        },
        "id": "BIrSw-MIqVeA",
        "outputId": "c5ecb03c-34ec-4e29-f2d9-5486e73dedfd"
      },
      "execution_count": null,
      "outputs": [
        {
          "output_type": "stream",
          "name": "stdout",
          "text": [
            "Mean Square Error :  0.07626493012894818\n"
          ]
        }
      ]
    },
    {
      "cell_type": "code",
      "source": [
        "from sklearn.metrics import r2_score\n",
        "r2 = r2_score(y_test, y_pred)\n",
        "print('R-squared value:', r2)"
      ],
      "metadata": {
        "colab": {
          "base_uri": "https://localhost:8080/"
        },
        "id": "DK7P8vnYqVhJ",
        "outputId": "be31dbee-98ed-4faa-cdb4-5a20d12c1dd6"
      },
      "execution_count": null,
      "outputs": [
        {
          "output_type": "stream",
          "name": "stdout",
          "text": [
            "R-squared value: 0.5406927987443964\n"
          ]
        }
      ]
    },
    {
      "cell_type": "code",
      "source": [
        "# Evaluate the model on the test set\n",
        "test_score = model_lin.score(X_test, y_test)\n",
        "print(f\"Test score: {test_score}\")"
      ],
      "metadata": {
        "colab": {
          "base_uri": "https://localhost:8080/"
        },
        "id": "PLcIvzUQqprT",
        "outputId": "128392ff-8372-4cd3-dc7c-f1d3c29e95b6"
      },
      "execution_count": null,
      "outputs": [
        {
          "output_type": "stream",
          "name": "stdout",
          "text": [
            "Test score: 0.5406927987443964\n"
          ]
        }
      ]
    },
    {
      "cell_type": "markdown",
      "source": [
        "**LOGISTIC REGRESSION**"
      ],
      "metadata": {
        "id": "THDg9wyupc23"
      }
    },
    {
      "cell_type": "code",
      "source": [
        "from sklearn.linear_model import LogisticRegression\n",
        "model_log = LogisticRegression()\n",
        "model_log.fit(X_train, y_train)"
      ],
      "metadata": {
        "colab": {
          "base_uri": "https://localhost:8080/",
          "height": 75
        },
        "id": "RcAYMqCxphNW",
        "outputId": "7d384174-a20b-4140-d4b7-f190e0597518"
      },
      "execution_count": null,
      "outputs": [
        {
          "output_type": "execute_result",
          "data": {
            "text/plain": [
              "LogisticRegression()"
            ],
            "text/html": [
              "<style>#sk-container-id-3 {color: black;background-color: white;}#sk-container-id-3 pre{padding: 0;}#sk-container-id-3 div.sk-toggleable {background-color: white;}#sk-container-id-3 label.sk-toggleable__label {cursor: pointer;display: block;width: 100%;margin-bottom: 0;padding: 0.3em;box-sizing: border-box;text-align: center;}#sk-container-id-3 label.sk-toggleable__label-arrow:before {content: \"▸\";float: left;margin-right: 0.25em;color: #696969;}#sk-container-id-3 label.sk-toggleable__label-arrow:hover:before {color: black;}#sk-container-id-3 div.sk-estimator:hover label.sk-toggleable__label-arrow:before {color: black;}#sk-container-id-3 div.sk-toggleable__content {max-height: 0;max-width: 0;overflow: hidden;text-align: left;background-color: #f0f8ff;}#sk-container-id-3 div.sk-toggleable__content pre {margin: 0.2em;color: black;border-radius: 0.25em;background-color: #f0f8ff;}#sk-container-id-3 input.sk-toggleable__control:checked~div.sk-toggleable__content {max-height: 200px;max-width: 100%;overflow: auto;}#sk-container-id-3 input.sk-toggleable__control:checked~label.sk-toggleable__label-arrow:before {content: \"▾\";}#sk-container-id-3 div.sk-estimator input.sk-toggleable__control:checked~label.sk-toggleable__label {background-color: #d4ebff;}#sk-container-id-3 div.sk-label input.sk-toggleable__control:checked~label.sk-toggleable__label {background-color: #d4ebff;}#sk-container-id-3 input.sk-hidden--visually {border: 0;clip: rect(1px 1px 1px 1px);clip: rect(1px, 1px, 1px, 1px);height: 1px;margin: -1px;overflow: hidden;padding: 0;position: absolute;width: 1px;}#sk-container-id-3 div.sk-estimator {font-family: monospace;background-color: #f0f8ff;border: 1px dotted black;border-radius: 0.25em;box-sizing: border-box;margin-bottom: 0.5em;}#sk-container-id-3 div.sk-estimator:hover {background-color: #d4ebff;}#sk-container-id-3 div.sk-parallel-item::after {content: \"\";width: 100%;border-bottom: 1px solid gray;flex-grow: 1;}#sk-container-id-3 div.sk-label:hover label.sk-toggleable__label {background-color: #d4ebff;}#sk-container-id-3 div.sk-serial::before {content: \"\";position: absolute;border-left: 1px solid gray;box-sizing: border-box;top: 0;bottom: 0;left: 50%;z-index: 0;}#sk-container-id-3 div.sk-serial {display: flex;flex-direction: column;align-items: center;background-color: white;padding-right: 0.2em;padding-left: 0.2em;position: relative;}#sk-container-id-3 div.sk-item {position: relative;z-index: 1;}#sk-container-id-3 div.sk-parallel {display: flex;align-items: stretch;justify-content: center;background-color: white;position: relative;}#sk-container-id-3 div.sk-item::before, #sk-container-id-3 div.sk-parallel-item::before {content: \"\";position: absolute;border-left: 1px solid gray;box-sizing: border-box;top: 0;bottom: 0;left: 50%;z-index: -1;}#sk-container-id-3 div.sk-parallel-item {display: flex;flex-direction: column;z-index: 1;position: relative;background-color: white;}#sk-container-id-3 div.sk-parallel-item:first-child::after {align-self: flex-end;width: 50%;}#sk-container-id-3 div.sk-parallel-item:last-child::after {align-self: flex-start;width: 50%;}#sk-container-id-3 div.sk-parallel-item:only-child::after {width: 0;}#sk-container-id-3 div.sk-dashed-wrapped {border: 1px dashed gray;margin: 0 0.4em 0.5em 0.4em;box-sizing: border-box;padding-bottom: 0.4em;background-color: white;}#sk-container-id-3 div.sk-label label {font-family: monospace;font-weight: bold;display: inline-block;line-height: 1.2em;}#sk-container-id-3 div.sk-label-container {text-align: center;}#sk-container-id-3 div.sk-container {/* jupyter's `normalize.less` sets `[hidden] { display: none; }` but bootstrap.min.css set `[hidden] { display: none !important; }` so we also need the `!important` here to be able to override the default hidden behavior on the sphinx rendered scikit-learn.org. See: https://github.com/scikit-learn/scikit-learn/issues/21755 */display: inline-block !important;position: relative;}#sk-container-id-3 div.sk-text-repr-fallback {display: none;}</style><div id=\"sk-container-id-3\" class=\"sk-top-container\"><div class=\"sk-text-repr-fallback\"><pre>LogisticRegression()</pre><b>In a Jupyter environment, please rerun this cell to show the HTML representation or trust the notebook. <br />On GitHub, the HTML representation is unable to render, please try loading this page with nbviewer.org.</b></div><div class=\"sk-container\" hidden><div class=\"sk-item\"><div class=\"sk-estimator sk-toggleable\"><input class=\"sk-toggleable__control sk-hidden--visually\" id=\"sk-estimator-id-3\" type=\"checkbox\" checked><label for=\"sk-estimator-id-3\" class=\"sk-toggleable__label sk-toggleable__label-arrow\">LogisticRegression</label><div class=\"sk-toggleable__content\"><pre>LogisticRegression()</pre></div></div></div></div></div>"
            ]
          },
          "metadata": {},
          "execution_count": 28
        }
      ]
    },
    {
      "cell_type": "code",
      "source": [
        "# predicting the test set results\n",
        "y_pred = model_log.predict(X_test)"
      ],
      "metadata": {
        "id": "jkUfwYghqteO"
      },
      "execution_count": null,
      "outputs": []
    },
    {
      "cell_type": "code",
      "source": [
        "from sklearn.metrics import r2_score\n",
        "r2 = r2_score(y_test, y_pred)\n",
        "print('R-squared value:', r2)"
      ],
      "metadata": {
        "colab": {
          "base_uri": "https://localhost:8080/"
        },
        "id": "wAQ6h_LoqthY",
        "outputId": "3c990c9d-f1ff-4c44-bc79-b6a87c1f72c3"
      },
      "execution_count": null,
      "outputs": [
        {
          "output_type": "stream",
          "name": "stdout",
          "text": [
            "R-squared value: 0.6488635722745474\n"
          ]
        }
      ]
    },
    {
      "cell_type": "code",
      "source": [
        "# Evaluate the model on the test set\n",
        "test_score = model_log.score(X_test, y_test)\n",
        "print(f\"Test score: {test_score}\")"
      ],
      "metadata": {
        "colab": {
          "base_uri": "https://localhost:8080/"
        },
        "id": "h-nzSQS1qtju",
        "outputId": "1f5000dd-251e-440a-cabd-3218100c340a"
      },
      "execution_count": null,
      "outputs": [
        {
          "output_type": "stream",
          "name": "stdout",
          "text": [
            "Test score: 0.941696113074205\n"
          ]
        }
      ]
    },
    {
      "cell_type": "markdown",
      "source": [
        "**DECISION TREE**"
      ],
      "metadata": {
        "id": "7BkIcCeapj5p"
      }
    },
    {
      "cell_type": "code",
      "source": [
        "from sklearn.tree import DecisionTreeClassifier\n",
        "from sklearn.model_selection import train_test_split\n",
        "from sklearn.metrics import confusion_matrix\n",
        "from sklearn.tree import export_graphviz"
      ],
      "metadata": {
        "id": "oDMrfTb8sIOK"
      },
      "execution_count": null,
      "outputs": []
    },
    {
      "cell_type": "code",
      "source": [
        "#building the Decision Tree classifier\n",
        "dt = DecisionTreeClassifier()\n",
        "model_dt = dt.fit(X_train, y_train)"
      ],
      "metadata": {
        "id": "0bimztk9bYu0"
      },
      "execution_count": null,
      "outputs": []
    },
    {
      "cell_type": "code",
      "source": [
        "from sklearn.tree import DecisionTreeRegressor"
      ],
      "metadata": {
        "id": "EAvV6zrTb0zC"
      },
      "execution_count": null,
      "outputs": []
    },
    {
      "cell_type": "code",
      "source": [
        "reg = DecisionTreeRegressor(max_depth=5)"
      ],
      "metadata": {
        "id": "P8PSytAIb4us"
      },
      "execution_count": null,
      "outputs": []
    },
    {
      "cell_type": "code",
      "source": [
        "reg.fit(X, y)\n",
        "DecisionTreeRegressor(ccp_alpha=0.0, criterion='mse', max_depth=5,\n",
        "max_features=None, max_leaf_nodes=None,\n",
        "min_impurity_decrease=0.0, #min_impurity_split=None,\n",
        "\n",
        "min_samples_leaf=1, min_samples_split=2,\n",
        "min_weight_fraction_leaf=0.0, #presort='deprecated',\n",
        "random_state=None, splitter='best')"
      ],
      "metadata": {
        "colab": {
          "base_uri": "https://localhost:8080/",
          "height": 75
        },
        "id": "YoHDN4WEb9bg",
        "outputId": "89964468-4a06-467c-a540-699e5d8987dc"
      },
      "execution_count": null,
      "outputs": [
        {
          "output_type": "execute_result",
          "data": {
            "text/plain": [
              "DecisionTreeRegressor(criterion='mse', max_depth=5)"
            ],
            "text/html": [
              "<style>#sk-container-id-7 {color: black;background-color: white;}#sk-container-id-7 pre{padding: 0;}#sk-container-id-7 div.sk-toggleable {background-color: white;}#sk-container-id-7 label.sk-toggleable__label {cursor: pointer;display: block;width: 100%;margin-bottom: 0;padding: 0.3em;box-sizing: border-box;text-align: center;}#sk-container-id-7 label.sk-toggleable__label-arrow:before {content: \"▸\";float: left;margin-right: 0.25em;color: #696969;}#sk-container-id-7 label.sk-toggleable__label-arrow:hover:before {color: black;}#sk-container-id-7 div.sk-estimator:hover label.sk-toggleable__label-arrow:before {color: black;}#sk-container-id-7 div.sk-toggleable__content {max-height: 0;max-width: 0;overflow: hidden;text-align: left;background-color: #f0f8ff;}#sk-container-id-7 div.sk-toggleable__content pre {margin: 0.2em;color: black;border-radius: 0.25em;background-color: #f0f8ff;}#sk-container-id-7 input.sk-toggleable__control:checked~div.sk-toggleable__content {max-height: 200px;max-width: 100%;overflow: auto;}#sk-container-id-7 input.sk-toggleable__control:checked~label.sk-toggleable__label-arrow:before {content: \"▾\";}#sk-container-id-7 div.sk-estimator input.sk-toggleable__control:checked~label.sk-toggleable__label {background-color: #d4ebff;}#sk-container-id-7 div.sk-label input.sk-toggleable__control:checked~label.sk-toggleable__label {background-color: #d4ebff;}#sk-container-id-7 input.sk-hidden--visually {border: 0;clip: rect(1px 1px 1px 1px);clip: rect(1px, 1px, 1px, 1px);height: 1px;margin: -1px;overflow: hidden;padding: 0;position: absolute;width: 1px;}#sk-container-id-7 div.sk-estimator {font-family: monospace;background-color: #f0f8ff;border: 1px dotted black;border-radius: 0.25em;box-sizing: border-box;margin-bottom: 0.5em;}#sk-container-id-7 div.sk-estimator:hover {background-color: #d4ebff;}#sk-container-id-7 div.sk-parallel-item::after {content: \"\";width: 100%;border-bottom: 1px solid gray;flex-grow: 1;}#sk-container-id-7 div.sk-label:hover label.sk-toggleable__label {background-color: #d4ebff;}#sk-container-id-7 div.sk-serial::before {content: \"\";position: absolute;border-left: 1px solid gray;box-sizing: border-box;top: 0;bottom: 0;left: 50%;z-index: 0;}#sk-container-id-7 div.sk-serial {display: flex;flex-direction: column;align-items: center;background-color: white;padding-right: 0.2em;padding-left: 0.2em;position: relative;}#sk-container-id-7 div.sk-item {position: relative;z-index: 1;}#sk-container-id-7 div.sk-parallel {display: flex;align-items: stretch;justify-content: center;background-color: white;position: relative;}#sk-container-id-7 div.sk-item::before, #sk-container-id-7 div.sk-parallel-item::before {content: \"\";position: absolute;border-left: 1px solid gray;box-sizing: border-box;top: 0;bottom: 0;left: 50%;z-index: -1;}#sk-container-id-7 div.sk-parallel-item {display: flex;flex-direction: column;z-index: 1;position: relative;background-color: white;}#sk-container-id-7 div.sk-parallel-item:first-child::after {align-self: flex-end;width: 50%;}#sk-container-id-7 div.sk-parallel-item:last-child::after {align-self: flex-start;width: 50%;}#sk-container-id-7 div.sk-parallel-item:only-child::after {width: 0;}#sk-container-id-7 div.sk-dashed-wrapped {border: 1px dashed gray;margin: 0 0.4em 0.5em 0.4em;box-sizing: border-box;padding-bottom: 0.4em;background-color: white;}#sk-container-id-7 div.sk-label label {font-family: monospace;font-weight: bold;display: inline-block;line-height: 1.2em;}#sk-container-id-7 div.sk-label-container {text-align: center;}#sk-container-id-7 div.sk-container {/* jupyter's `normalize.less` sets `[hidden] { display: none; }` but bootstrap.min.css set `[hidden] { display: none !important; }` so we also need the `!important` here to be able to override the default hidden behavior on the sphinx rendered scikit-learn.org. See: https://github.com/scikit-learn/scikit-learn/issues/21755 */display: inline-block !important;position: relative;}#sk-container-id-7 div.sk-text-repr-fallback {display: none;}</style><div id=\"sk-container-id-7\" class=\"sk-top-container\"><div class=\"sk-text-repr-fallback\"><pre>DecisionTreeRegressor(criterion=&#x27;mse&#x27;, max_depth=5)</pre><b>In a Jupyter environment, please rerun this cell to show the HTML representation or trust the notebook. <br />On GitHub, the HTML representation is unable to render, please try loading this page with nbviewer.org.</b></div><div class=\"sk-container\" hidden><div class=\"sk-item\"><div class=\"sk-estimator sk-toggleable\"><input class=\"sk-toggleable__control sk-hidden--visually\" id=\"sk-estimator-id-7\" type=\"checkbox\" checked><label for=\"sk-estimator-id-7\" class=\"sk-toggleable__label sk-toggleable__label-arrow\">DecisionTreeRegressor</label><div class=\"sk-toggleable__content\"><pre>DecisionTreeRegressor(criterion=&#x27;mse&#x27;, max_depth=5)</pre></div></div></div></div></div>"
            ]
          },
          "metadata": {},
          "execution_count": 47
        }
      ]
    },
    {
      "cell_type": "code",
      "source": [
        "from sklearn.tree import plot_tree"
      ],
      "metadata": {
        "id": "rRELZgB8cIQt"
      },
      "execution_count": null,
      "outputs": []
    },
    {
      "cell_type": "code",
      "source": [
        "fig, ax = plt.subplots(figsize=(13, 13))\n",
        "plot_tree(reg,ax=ax)\n"
      ],
      "metadata": {
        "colab": {
          "base_uri": "https://localhost:8080/",
          "height": 1000
        },
        "id": "x0ELS4HtcLGE",
        "outputId": "b01f2134-3769-48b3-ec56-c8e57d2ef817"
      },
      "execution_count": null,
      "outputs": [
        {
          "output_type": "execute_result",
          "data": {
            "text/plain": [
              "[Text(0.5318627450980392, 0.9166666666666666, 'x[16] <= 0.593\\nsquared_error = 0.181\\nsamples = 2263\\nvalue = 0.238'),\n",
              " Text(0.2696078431372549, 0.75, 'x[16] <= 0.552\\nsquared_error = 0.039\\nsamples = 1763\\nvalue = 0.041'),\n",
              " Text(0.14705882352941177, 0.5833333333333334, 'x[16] <= 0.423\\nsquared_error = 0.02\\nsamples = 1660\\nvalue = 0.02'),\n",
              " Text(0.0784313725490196, 0.4166666666666667, 'x[10] <= 0.065\\nsquared_error = 0.001\\nsamples = 1341\\nvalue = 0.001'),\n",
              " Text(0.0392156862745098, 0.25, 'x[6] <= 0.019\\nsquared_error = 0.001\\nsamples = 1310\\nvalue = 0.001'),\n",
              " Text(0.0196078431372549, 0.08333333333333333, 'squared_error = 0.0\\nsamples = 1251\\nvalue = 0.0'),\n",
              " Text(0.058823529411764705, 0.08333333333333333, 'squared_error = 0.017\\nsamples = 59\\nvalue = 0.017'),\n",
              " Text(0.11764705882352941, 0.25, 'x[7] <= 0.808\\nsquared_error = 0.031\\nsamples = 31\\nvalue = 0.032'),\n",
              " Text(0.09803921568627451, 0.08333333333333333, 'squared_error = 0.0\\nsamples = 30\\nvalue = 0.0'),\n",
              " Text(0.13725490196078433, 0.08333333333333333, 'squared_error = 0.0\\nsamples = 1\\nvalue = 1.0'),\n",
              " Text(0.21568627450980393, 0.4166666666666667, 'x[3] <= 0.955\\nsquared_error = 0.09\\nsamples = 319\\nvalue = 0.1'),\n",
              " Text(0.19607843137254902, 0.25, 'x[6] <= 0.146\\nsquared_error = 0.083\\nsamples = 316\\nvalue = 0.092'),\n",
              " Text(0.17647058823529413, 0.08333333333333333, 'squared_error = 0.079\\nsamples = 314\\nvalue = 0.086'),\n",
              " Text(0.21568627450980393, 0.08333333333333333, 'squared_error = 0.0\\nsamples = 2\\nvalue = 1.0'),\n",
              " Text(0.23529411764705882, 0.25, 'squared_error = 0.0\\nsamples = 3\\nvalue = 1.0'),\n",
              " Text(0.39215686274509803, 0.5833333333333334, 'x[17] <= 0.488\\nsquared_error = 0.233\\nsamples = 103\\nvalue = 0.369'),\n",
              " Text(0.3137254901960784, 0.4166666666666667, 'x[15] <= 0.633\\nsquared_error = 0.237\\nsamples = 31\\nvalue = 0.613'),\n",
              " Text(0.27450980392156865, 0.25, 'x[0] <= 0.671\\nsquared_error = 0.166\\nsamples = 19\\nvalue = 0.789'),\n",
              " Text(0.2549019607843137, 0.08333333333333333, 'squared_error = 0.24\\nsamples = 5\\nvalue = 0.4'),\n",
              " Text(0.29411764705882354, 0.08333333333333333, 'squared_error = 0.066\\nsamples = 14\\nvalue = 0.929'),\n",
              " Text(0.35294117647058826, 0.25, 'x[7] <= 0.622\\nsquared_error = 0.222\\nsamples = 12\\nvalue = 0.333'),\n",
              " Text(0.3333333333333333, 0.08333333333333333, 'squared_error = 0.0\\nsamples = 6\\nvalue = 0.0'),\n",
              " Text(0.37254901960784315, 0.08333333333333333, 'squared_error = 0.222\\nsamples = 6\\nvalue = 0.667'),\n",
              " Text(0.47058823529411764, 0.4166666666666667, 'x[3] <= 0.307\\nsquared_error = 0.194\\nsamples = 72\\nvalue = 0.264'),\n",
              " Text(0.43137254901960786, 0.25, 'x[0] <= 0.914\\nsquared_error = 0.248\\nsamples = 31\\nvalue = 0.452'),\n",
              " Text(0.4117647058823529, 0.08333333333333333, 'squared_error = 0.109\\nsamples = 8\\nvalue = 0.875'),\n",
              " Text(0.45098039215686275, 0.08333333333333333, 'squared_error = 0.212\\nsamples = 23\\nvalue = 0.304'),\n",
              " Text(0.5098039215686274, 0.25, 'x[6] <= 0.046\\nsquared_error = 0.107\\nsamples = 41\\nvalue = 0.122'),\n",
              " Text(0.49019607843137253, 0.08333333333333333, 'squared_error = 0.09\\nsamples = 40\\nvalue = 0.1'),\n",
              " Text(0.5294117647058824, 0.08333333333333333, 'squared_error = 0.0\\nsamples = 1\\nvalue = 1.0'),\n",
              " Text(0.7941176470588235, 0.75, 'x[16] <= 0.646\\nsquared_error = 0.062\\nsamples = 500\\nvalue = 0.934'),\n",
              " Text(0.6764705882352942, 0.5833333333333334, 'x[10] <= 0.006\\nsquared_error = 0.188\\nsamples = 120\\nvalue = 0.75'),\n",
              " Text(0.6274509803921569, 0.4166666666666667, 'x[10] <= 0.001\\nsquared_error = 0.126\\nsamples = 61\\nvalue = 0.852'),\n",
              " Text(0.5882352941176471, 0.25, 'x[15] <= 0.667\\nsquared_error = 0.243\\nsamples = 12\\nvalue = 0.583'),\n",
              " Text(0.5686274509803921, 0.08333333333333333, 'squared_error = 0.0\\nsamples = 5\\nvalue = 0.0'),\n",
              " Text(0.6078431372549019, 0.08333333333333333, 'squared_error = 0.0\\nsamples = 7\\nvalue = 1.0'),\n",
              " Text(0.6666666666666666, 0.25, 'x[1] <= 0.12\\nsquared_error = 0.075\\nsamples = 49\\nvalue = 0.918'),\n",
              " Text(0.6470588235294118, 0.08333333333333333, 'squared_error = 0.24\\nsamples = 5\\nvalue = 0.4'),\n",
              " Text(0.6862745098039216, 0.08333333333333333, 'squared_error = 0.022\\nsamples = 44\\nvalue = 0.977'),\n",
              " Text(0.7254901960784313, 0.4166666666666667, 'x[16] <= 0.595\\nsquared_error = 0.229\\nsamples = 59\\nvalue = 0.644'),\n",
              " Text(0.7058823529411765, 0.25, 'squared_error = 0.0\\nsamples = 3\\nvalue = 0.0'),\n",
              " Text(0.7450980392156863, 0.25, 'x[15] <= 0.767\\nsquared_error = 0.218\\nsamples = 56\\nvalue = 0.679'),\n",
              " Text(0.7254901960784313, 0.08333333333333333, 'squared_error = 0.203\\nsamples = 53\\nvalue = 0.717'),\n",
              " Text(0.7647058823529411, 0.08333333333333333, 'squared_error = 0.0\\nsamples = 3\\nvalue = 0.0'),\n",
              " Text(0.9117647058823529, 0.5833333333333334, 'x[6] <= 0.048\\nsquared_error = 0.008\\nsamples = 380\\nvalue = 0.992'),\n",
              " Text(0.8627450980392157, 0.4166666666666667, 'x[7] <= 0.901\\nsquared_error = 0.005\\nsamples = 376\\nvalue = 0.995'),\n",
              " Text(0.8235294117647058, 0.25, 'x[10] <= 0.025\\nsquared_error = 0.003\\nsamples = 371\\nvalue = 0.997'),\n",
              " Text(0.803921568627451, 0.08333333333333333, 'squared_error = 0.0\\nsamples = 296\\nvalue = 1.0'),\n",
              " Text(0.8431372549019608, 0.08333333333333333, 'squared_error = 0.013\\nsamples = 75\\nvalue = 0.987'),\n",
              " Text(0.9019607843137255, 0.25, 'x[7] <= 0.913\\nsquared_error = 0.16\\nsamples = 5\\nvalue = 0.8'),\n",
              " Text(0.8823529411764706, 0.08333333333333333, 'squared_error = 0.0\\nsamples = 1\\nvalue = 0.0'),\n",
              " Text(0.9215686274509803, 0.08333333333333333, 'squared_error = 0.0\\nsamples = 4\\nvalue = 1.0'),\n",
              " Text(0.9607843137254902, 0.4166666666666667, 'x[8] <= 0.167\\nsquared_error = 0.188\\nsamples = 4\\nvalue = 0.75'),\n",
              " Text(0.9411764705882353, 0.25, 'squared_error = 0.0\\nsamples = 3\\nvalue = 1.0'),\n",
              " Text(0.9803921568627451, 0.25, 'squared_error = 0.0\\nsamples = 1\\nvalue = 0.0')]"
            ]
          },
          "metadata": {},
          "execution_count": 49
        },
        {
          "output_type": "display_data",
          "data": {
            "text/plain": [
              "<Figure size 1300x1300 with 1 Axes>"
            ],
            "image/png": "[encoded data removed]"
          },
          "metadata": {}
        }
      ]
    },
    {
      "cell_type": "code",
      "source": [
        "y_hat =model_dt.predict(X_test)"
      ],
      "metadata": {
        "id": "YQQT3CVdejUH"
      },
      "execution_count": null,
      "outputs": []
    },
    {
      "cell_type": "code",
      "source": [
        "# Get the information gain, Gini index, and gain ratio for each feature\n",
        "importances = model_dt.feature_importances_\n",
        "gini_importances = dt.tree_.compute_feature_importances(normalize=False)\n",
        "n_features = len(X.columns)\n",
        "\n",
        "print(\"Feature\\tInformation Gain\\tGini Index\\tGain Ratio\")\n",
        "for i in range(n_features):\n",
        "    print(f\"{X.columns[i]}\\t{importances[i]:.4f}\\t\\t{gini_importances[i]:.4f}\\t\\t{(importances[i]/gini_importances[i]):.4f}\")"
      ],
      "metadata": {
        "colab": {
          "base_uri": "https://localhost:8080/"
        },
        "id": "isyQX1_GhB4F",
        "outputId": "9c2aab5c-a737-43f2-adab-c9f97dc0dc1b"
      },
      "execution_count": null,
      "outputs": [
        {
          "output_type": "stream",
          "name": "stdout",
          "text": [
            "Feature\tInformation Gain\tGini Index\tGain Ratio\n",
            "0\t0.0153\t\t0.0057\t\t2.6847\n",
            "1\t0.0066\t\t0.0025\t\t2.6847\n",
            "2\t0.0112\t\t0.0042\t\t2.6847\n",
            "4\t0.0104\t\t0.0039\t\t2.6847\n",
            "5\t0.0035\t\t0.0013\t\t2.6847\n",
            "6\t0.0000\t\t0.0000\t\tnan\n",
            "7\t0.0111\t\t0.0041\t\t2.6847\n",
            "8\t0.0170\t\t0.0064\t\t2.6847\n",
            "9\t0.0000\t\t0.0000\t\tnan\n",
            "10\t0.0050\t\t0.0019\t\t2.6847\n",
            "11\t0.0127\t\t0.0047\t\t2.6847\n",
            "12\t0.0087\t\t0.0032\t\t2.6847\n",
            "13\t0.0036\t\t0.0014\t\t2.6847\n",
            "14\t0.0234\t\t0.0087\t\t2.6847\n",
            "15\t0.0059\t\t0.0022\t\t2.6847\n",
            "16\t0.0298\t\t0.0111\t\t2.6847\n",
            "17\t0.8207\t\t0.3057\t\t2.6847\n",
            "18\t0.0151\t\t0.0056\t\t2.6847\n"
          ]
        },
        {
          "output_type": "stream",
          "name": "stderr",
          "text": [
            "<ipython-input-54-d0e2afc4b11c>:8: RuntimeWarning:\n",
            "\n",
            "invalid value encountered in double_scalars\n",
            "\n"
          ]
        }
      ]
    },
    {
      "cell_type": "code",
      "source": [
        "# Evaluate the model on the test set\n",
        "test_score = model_dt.score(X_test, y_test)\n",
        "print(f\"Test score: {test_score}\")"
      ],
      "metadata": {
        "colab": {
          "base_uri": "https://localhost:8080/"
        },
        "id": "S-kFpMtpetcT",
        "outputId": "9e404112-5edc-4a20-a3eb-897701b0eb50"
      },
      "execution_count": null,
      "outputs": [
        {
          "output_type": "stream",
          "name": "stdout",
          "text": [
            "Test score: 0.9346289752650176\n"
          ]
        }
      ]
    },
    {
      "cell_type": "markdown",
      "source": [
        "**RANDOM FOREST**"
      ],
      "metadata": {
        "id": "MVs0-5QlpzgY"
      }
    },
    {
      "cell_type": "code",
      "source": [
        "from sklearn.ensemble import RandomForestRegressor"
      ],
      "metadata": {
        "id": "xGEBbUyTp30P"
      },
      "execution_count": null,
      "outputs": []
    },
    {
      "cell_type": "code",
      "source": [
        "# Define the model\n",
        "model_rf = RandomForestRegressor(n_estimators=100, max_depth=20, random_state=42)"
      ],
      "metadata": {
        "id": "ZgPXUj9drRtm"
      },
      "execution_count": null,
      "outputs": []
    },
    {
      "cell_type": "code",
      "source": [
        "# Train the model\n",
        "model_rf.fit(X_train, y_train)"
      ],
      "metadata": {
        "colab": {
          "base_uri": "https://localhost:8080/",
          "height": 75
        },
        "id": "WTFXU7bcrRwl",
        "outputId": "adf94b7c-dd2b-436a-e38c-64aa4c7131a6"
      },
      "execution_count": null,
      "outputs": [
        {
          "output_type": "execute_result",
          "data": {
            "text/plain": [
              "RandomForestRegressor(max_depth=20, random_state=42)"
            ],
            "text/html": [
              "<style>#sk-container-id-8 {color: black;background-color: white;}#sk-container-id-8 pre{padding: 0;}#sk-container-id-8 div.sk-toggleable {background-color: white;}#sk-container-id-8 label.sk-toggleable__label {cursor: pointer;display: block;width: 100%;margin-bottom: 0;padding: 0.3em;box-sizing: border-box;text-align: center;}#sk-container-id-8 label.sk-toggleable__label-arrow:before {content: \"▸\";float: left;margin-right: 0.25em;color: #696969;}#sk-container-id-8 label.sk-toggleable__label-arrow:hover:before {color: black;}#sk-container-id-8 div.sk-estimator:hover label.sk-toggleable__label-arrow:before {color: black;}#sk-container-id-8 div.sk-toggleable__content {max-height: 0;max-width: 0;overflow: hidden;text-align: left;background-color: #f0f8ff;}#sk-container-id-8 div.sk-toggleable__content pre {margin: 0.2em;color: black;border-radius: 0.25em;background-color: #f0f8ff;}#sk-container-id-8 input.sk-toggleable__control:checked~div.sk-toggleable__content {max-height: 200px;max-width: 100%;overflow: auto;}#sk-container-id-8 input.sk-toggleable__control:checked~label.sk-toggleable__label-arrow:before {content: \"▾\";}#sk-container-id-8 div.sk-estimator input.sk-toggleable__control:checked~label.sk-toggleable__label {background-color: #d4ebff;}#sk-container-id-8 div.sk-label input.sk-toggleable__control:checked~label.sk-toggleable__label {background-color: #d4ebff;}#sk-container-id-8 input.sk-hidden--visually {border: 0;clip: rect(1px 1px 1px 1px);clip: rect(1px, 1px, 1px, 1px);height: 1px;margin: -1px;overflow: hidden;padding: 0;position: absolute;width: 1px;}#sk-container-id-8 div.sk-estimator {font-family: monospace;background-color: #f0f8ff;border: 1px dotted black;border-radius: 0.25em;box-sizing: border-box;margin-bottom: 0.5em;}#sk-container-id-8 div.sk-estimator:hover {background-color: #d4ebff;}#sk-container-id-8 div.sk-parallel-item::after {content: \"\";width: 100%;border-bottom: 1px solid gray;flex-grow: 1;}#sk-container-id-8 div.sk-label:hover label.sk-toggleable__label {background-color: #d4ebff;}#sk-container-id-8 div.sk-serial::before {content: \"\";position: absolute;border-left: 1px solid gray;box-sizing: border-box;top: 0;bottom: 0;left: 50%;z-index: 0;}#sk-container-id-8 div.sk-serial {display: flex;flex-direction: column;align-items: center;background-color: white;padding-right: 0.2em;padding-left: 0.2em;position: relative;}#sk-container-id-8 div.sk-item {position: relative;z-index: 1;}#sk-container-id-8 div.sk-parallel {display: flex;align-items: stretch;justify-content: center;background-color: white;position: relative;}#sk-container-id-8 div.sk-item::before, #sk-container-id-8 div.sk-parallel-item::before {content: \"\";position: absolute;border-left: 1px solid gray;box-sizing: border-box;top: 0;bottom: 0;left: 50%;z-index: -1;}#sk-container-id-8 div.sk-parallel-item {display: flex;flex-direction: column;z-index: 1;position: relative;background-color: white;}#sk-container-id-8 div.sk-parallel-item:first-child::after {align-self: flex-end;width: 50%;}#sk-container-id-8 div.sk-parallel-item:last-child::after {align-self: flex-start;width: 50%;}#sk-container-id-8 div.sk-parallel-item:only-child::after {width: 0;}#sk-container-id-8 div.sk-dashed-wrapped {border: 1px dashed gray;margin: 0 0.4em 0.5em 0.4em;box-sizing: border-box;padding-bottom: 0.4em;background-color: white;}#sk-container-id-8 div.sk-label label {font-family: monospace;font-weight: bold;display: inline-block;line-height: 1.2em;}#sk-container-id-8 div.sk-label-container {text-align: center;}#sk-container-id-8 div.sk-container {/* jupyter's `normalize.less` sets `[hidden] { display: none; }` but bootstrap.min.css set `[hidden] { display: none !important; }` so we also need the `!important` here to be able to override the default hidden behavior on the sphinx rendered scikit-learn.org. See: https://github.com/scikit-learn/scikit-learn/issues/21755 */display: inline-block !important;position: relative;}#sk-container-id-8 div.sk-text-repr-fallback {display: none;}</style><div id=\"sk-container-id-8\" class=\"sk-top-container\"><div class=\"sk-text-repr-fallback\"><pre>RandomForestRegressor(max_depth=20, random_state=42)</pre><b>In a Jupyter environment, please rerun this cell to show the HTML representation or trust the notebook. <br />On GitHub, the HTML representation is unable to render, please try loading this page with nbviewer.org.</b></div><div class=\"sk-container\" hidden><div class=\"sk-item\"><div class=\"sk-estimator sk-toggleable\"><input class=\"sk-toggleable__control sk-hidden--visually\" id=\"sk-estimator-id-8\" type=\"checkbox\" checked><label for=\"sk-estimator-id-8\" class=\"sk-toggleable__label sk-toggleable__label-arrow\">RandomForestRegressor</label><div class=\"sk-toggleable__content\"><pre>RandomForestRegressor(max_depth=20, random_state=42)</pre></div></div></div></div></div>"
            ]
          },
          "metadata": {},
          "execution_count": 58
        }
      ]
    },
    {
      "cell_type": "code",
      "source": [
        "y_pred = model_rf.predict(X_test)"
      ],
      "metadata": {
        "id": "giOwzAQzrRzl"
      },
      "execution_count": null,
      "outputs": []
    },
    {
      "cell_type": "code",
      "source": [
        "# Evaluate the model on the test set\n",
        "test_score = model_rf.score(X_test, y_test)\n",
        "print(f\"Test score: {test_score}\")"
      ],
      "metadata": {
        "colab": {
          "base_uri": "https://localhost:8080/"
        },
        "id": "oCFvjMXyrR1y",
        "outputId": "3fb2dabd-0489-4a87-bbd0-00ac7bc30136"
      },
      "execution_count": null,
      "outputs": [
        {
          "output_type": "stream",
          "name": "stdout",
          "text": [
            "Test score: 0.7738149380557592\n"
          ]
        }
      ]
    },
    {
      "cell_type": "markdown",
      "source": [
        "**NEURAL NETWORK(CNN)**"
      ],
      "metadata": {
        "id": "hID7DrzPpq0x"
      }
    },
    {
      "cell_type": "code",
      "source": [
        "pip install tensorflow\n",
        "pip install keras"
      ],
      "metadata": {
        "colab": {
          "base_uri": "https://localhost:8080/"
        },
        "id": "W92o41w2uf64",
        "outputId": "a7f9492d-c6ec-4090-aa33-0ff5d7413834"
      },
      "execution_count": null,
      "outputs": [
        {
          "output_type": "stream",
          "name": "stdout",
          "text": [
            "Looking in indexes: https://pypi.org/simple, https://us-python.pkg.dev/colab-wheels/public/simple/\n",
            "Requirement already satisfied: tensorflow in /usr/local/lib/python3.9/dist-packages (2.12.0)\n",
            "Requirement already satisfied: keras<2.13,>=2.12.0 in /usr/local/lib/python3.9/dist-packages (from tensorflow) (2.12.0)\n",
            "Requirement already satisfied: opt-einsum>=2.3.2 in /usr/local/lib/python3.9/dist-packages (from tensorflow) (3.3.0)\n",
            "Requirement already satisfied: gast<=0.4.0,>=0.2.1 in /usr/local/lib/python3.9/dist-packages (from tensorflow) (0.4.0)\n",
            "Requirement already satisfied: tensorflow-estimator<2.13,>=2.12.0 in /usr/local/lib/python3.9/dist-packages (from tensorflow) (2.12.0)\n",
            "Requirement already satisfied: wrapt<1.15,>=1.11.0 in /usr/local/lib/python3.9/dist-packages (from tensorflow) (1.14.1)\n",
            "Requirement already satisfied: grpcio<2.0,>=1.24.3 in /usr/local/lib/python3.9/dist-packages (from tensorflow) (1.53.0)\n",
            "Requirement already satisfied: astunparse>=1.6.0 in /usr/local/lib/python3.9/dist-packages (from tensorflow) (1.6.3)\n",
            "Requirement already satisfied: jax>=0.3.15 in /usr/local/lib/python3.9/dist-packages (from tensorflow) (0.4.7)\n",
            "Requirement already satisfied: libclang>=13.0.0 in /usr/local/lib/python3.9/dist-packages (from tensorflow) (16.0.0)\n",
            "Requirement already satisfied: flatbuffers>=2.0 in /usr/local/lib/python3.9/dist-packages (from tensorflow) (23.3.3)\n",
            "Requirement already satisfied: typing-extensions>=3.6.6 in /usr/local/lib/python3.9/dist-packages (from tensorflow) (4.5.0)\n",
            "Requirement already satisfied: numpy<1.24,>=1.22 in /usr/local/lib/python3.9/dist-packages (from tensorflow) (1.22.4)\n",
            "Requirement already satisfied: google-pasta>=0.1.1 in /usr/local/lib/python3.9/dist-packages (from tensorflow) (0.2.0)\n",
            "Requirement already satisfied: h5py>=2.9.0 in /usr/local/lib/python3.9/dist-packages (from tensorflow) (3.8.0)\n",
            "Requirement already satisfied: termcolor>=1.1.0 in /usr/local/lib/python3.9/dist-packages (from tensorflow) (2.2.0)\n",
            "Requirement already satisfied: six>=1.12.0 in /usr/local/lib/python3.9/dist-packages (from tensorflow) (1.16.0)\n",
            "Requirement already satisfied: packaging in /usr/local/lib/python3.9/dist-packages (from tensorflow) (23.0)\n",
            "Requirement already satisfied: absl-py>=1.0.0 in /usr/local/lib/python3.9/dist-packages (from tensorflow) (1.4.0)\n",
            "Requirement already satisfied: tensorboard<2.13,>=2.12 in /usr/local/lib/python3.9/dist-packages (from tensorflow) (2.12.0)\n",
            "Requirement already satisfied: tensorflow-io-gcs-filesystem>=0.23.1 in /usr/local/lib/python3.9/dist-packages (from tensorflow) (0.32.0)\n",
            "Requirement already satisfied: setuptools in /usr/local/lib/python3.9/dist-packages (from tensorflow) (67.6.1)\n",
            "Requirement already satisfied: protobuf!=4.21.0,!=4.21.1,!=4.21.2,!=4.21.3,!=4.21.4,!=4.21.5,<5.0.0dev,>=3.20.3 in /usr/local/lib/python3.9/dist-packages (from tensorflow) (3.20.3)\n",
            "Requirement already satisfied: wheel<1.0,>=0.23.0 in /usr/local/lib/python3.9/dist-packages (from astunparse>=1.6.0->tensorflow) (0.40.0)\n",
            "Requirement already satisfied: ml-dtypes>=0.0.3 in /usr/local/lib/python3.9/dist-packages (from jax>=0.3.15->tensorflow) (0.0.4)\n",
            "Requirement already satisfied: scipy>=1.7 in /usr/local/lib/python3.9/dist-packages (from jax>=0.3.15->tensorflow) (1.10.1)\n",
            "Requirement already satisfied: tensorboard-plugin-wit>=1.6.0 in /usr/local/lib/python3.9/dist-packages (from tensorboard<2.13,>=2.12->tensorflow) (1.8.1)\n",
            "Requirement already satisfied: google-auth<3,>=1.6.3 in /usr/local/lib/python3.9/dist-packages (from tensorboard<2.13,>=2.12->tensorflow) (2.17.0)\n",
            "Requirement already satisfied: werkzeug>=1.0.1 in /usr/local/lib/python3.9/dist-packages (from tensorboard<2.13,>=2.12->tensorflow) (2.2.3)\n",
            "Requirement already satisfied: requests<3,>=2.21.0 in /usr/local/lib/python3.9/dist-packages (from tensorboard<2.13,>=2.12->tensorflow) (2.27.1)\n",
            "Requirement already satisfied: google-auth-oauthlib<0.5,>=0.4.1 in /usr/local/lib/python3.9/dist-packages (from tensorboard<2.13,>=2.12->tensorflow) (0.4.6)\n",
            "Requirement already satisfied: tensorboard-data-server<0.8.0,>=0.7.0 in /usr/local/lib/python3.9/dist-packages (from tensorboard<2.13,>=2.12->tensorflow) (0.7.0)\n",
            "Requirement already satisfied: markdown>=2.6.8 in /usr/local/lib/python3.9/dist-packages (from tensorboard<2.13,>=2.12->tensorflow) (3.4.3)\n",
            "Requirement already satisfied: pyasn1-modules>=0.2.1 in /usr/local/lib/python3.9/dist-packages (from google-auth<3,>=1.6.3->tensorboard<2.13,>=2.12->tensorflow) (0.2.8)\n",
            "Requirement already satisfied: rsa<5,>=3.1.4 in /usr/local/lib/python3.9/dist-packages (from google-auth<3,>=1.6.3->tensorboard<2.13,>=2.12->tensorflow) (4.9)\n",
            "Requirement already satisfied: cachetools<6.0,>=2.0.0 in /usr/local/lib/python3.9/dist-packages (from google-auth<3,>=1.6.3->tensorboard<2.13,>=2.12->tensorflow) (5.3.0)\n",
            "Requirement already satisfied: requests-oauthlib>=0.7.0 in /usr/local/lib/python3.9/dist-packages (from google-auth-oauthlib<0.5,>=0.4.1->tensorboard<2.13,>=2.12->tensorflow) (1.3.1)\n",
            "Requirement already satisfied: importlib-metadata>=4.4 in /usr/local/lib/python3.9/dist-packages (from markdown>=2.6.8->tensorboard<2.13,>=2.12->tensorflow) (6.1.0)\n",
            "Requirement already satisfied: charset-normalizer~=2.0.0 in /usr/local/lib/python3.9/dist-packages (from requests<3,>=2.21.0->tensorboard<2.13,>=2.12->tensorflow) (2.0.12)\n",
            "Requirement already satisfied: idna<4,>=2.5 in /usr/local/lib/python3.9/dist-packages (from requests<3,>=2.21.0->tensorboard<2.13,>=2.12->tensorflow) (3.4)\n",
            "Requirement already satisfied: certifi>=2017.4.17 in /usr/local/lib/python3.9/dist-packages (from requests<3,>=2.21.0->tensorboard<2.13,>=2.12->tensorflow) (2022.12.7)\n",
            "Requirement already satisfied: urllib3<1.27,>=1.21.1 in /usr/local/lib/python3.9/dist-packages (from requests<3,>=2.21.0->tensorboard<2.13,>=2.12->tensorflow) (1.26.15)\n",
            "Requirement already satisfied: MarkupSafe>=2.1.1 in /usr/local/lib/python3.9/dist-packages (from werkzeug>=1.0.1->tensorboard<2.13,>=2.12->tensorflow) (2.1.2)\n",
            "Requirement already satisfied: zipp>=0.5 in /usr/local/lib/python3.9/dist-packages (from importlib-metadata>=4.4->markdown>=2.6.8->tensorboard<2.13,>=2.12->tensorflow) (3.15.0)\n",
            "Requirement already satisfied: pyasn1<0.5.0,>=0.4.6 in /usr/local/lib/python3.9/dist-packages (from pyasn1-modules>=0.2.1->google-auth<3,>=1.6.3->tensorboard<2.13,>=2.12->tensorflow) (0.4.8)\n",
            "Requirement already satisfied: oauthlib>=3.0.0 in /usr/local/lib/python3.9/dist-packages (from requests-oauthlib>=0.7.0->google-auth-oauthlib<0.5,>=0.4.1->tensorboard<2.13,>=2.12->tensorflow) (3.2.2)\n"
          ]
        }
      ]
    },
    {
      "cell_type": "code",
      "source": [
        "import tensorflow as tf\n",
        "from tensorflow import keras\n",
        "from tensorflow.keras import layers"
      ],
      "metadata": {
        "id": "pn5BuBvSpvsp"
      },
      "execution_count": null,
      "outputs": []
    },
    {
      "cell_type": "code",
      "source": [
        "# Define the CNN architecture\n",
        "model = keras.Sequential([\n",
        "    layers.Dense(64, activation=\"relu\", input_shape=(18,)),\n",
        "    layers.Dense(32, activation=\"relu\"),\n",
        "    layers.Dense(1, activation=\"sigmoid\")\n",
        "])"
      ],
      "metadata": {
        "id": "Be0JKxsMrnCn"
      },
      "execution_count": null,
      "outputs": []
    },
    {
      "cell_type": "code",
      "source": [
        "# Compile the model\n",
        "model.compile(loss=\"binary_crossentropy\", optimizer=\"adam\", metrics=[\"accuracy\"])"
      ],
      "metadata": {
        "id": "6VDisv61rnFP"
      },
      "execution_count": null,
      "outputs": []
    },
    {
      "cell_type": "code",
      "source": [
        "# Train the model\n",
        "model.fit(X_train, y_train, epochs=10, batch_size=16, validation_data=(X_test, y_test))"
      ],
      "metadata": {
        "colab": {
          "base_uri": "https://localhost:8080/"
        },
        "id": "tT2OhH-5rnIG",
        "outputId": "4b85d4ea-66e9-482a-aabf-94d43c977b47"
      },
      "execution_count": null,
      "outputs": [
        {
          "output_type": "stream",
          "name": "stdout",
          "text": [
            "Epoch 1/10\n",
            "107/107 [==============================] - 3s 9ms/step - loss: 0.4141 - accuracy: 0.8179 - val_loss: 0.2499 - val_accuracy: 0.8958\n",
            "Epoch 2/10\n",
            "107/107 [==============================] - 0s 3ms/step - loss: 0.2217 - accuracy: 0.9093 - val_loss: 0.1938 - val_accuracy: 0.9223\n",
            "Epoch 3/10\n",
            "107/107 [==============================] - 0s 3ms/step - loss: 0.2009 - accuracy: 0.9087 - val_loss: 0.1780 - val_accuracy: 0.9223\n",
            "Epoch 4/10\n",
            "107/107 [==============================] - 1s 5ms/step - loss: 0.1839 - accuracy: 0.9151 - val_loss: 0.1823 - val_accuracy: 0.9223\n",
            "Epoch 5/10\n",
            "107/107 [==============================] - 1s 5ms/step - loss: 0.1780 - accuracy: 0.9216 - val_loss: 0.1981 - val_accuracy: 0.9081\n",
            "Epoch 6/10\n",
            "107/107 [==============================] - 1s 5ms/step - loss: 0.1871 - accuracy: 0.9151 - val_loss: 0.1629 - val_accuracy: 0.9311\n",
            "Epoch 7/10\n",
            "107/107 [==============================] - 1s 5ms/step - loss: 0.1707 - accuracy: 0.9240 - val_loss: 0.1522 - val_accuracy: 0.9364\n",
            "Epoch 8/10\n",
            "107/107 [==============================] - 1s 5ms/step - loss: 0.1666 - accuracy: 0.9293 - val_loss: 0.1566 - val_accuracy: 0.9276\n",
            "Epoch 9/10\n",
            "107/107 [==============================] - 1s 5ms/step - loss: 0.1639 - accuracy: 0.9287 - val_loss: 0.1452 - val_accuracy: 0.9329\n",
            "Epoch 10/10\n",
            "107/107 [==============================] - 1s 6ms/step - loss: 0.1599 - accuracy: 0.9346 - val_loss: 0.1426 - val_accuracy: 0.9311\n"
          ]
        },
        {
          "output_type": "execute_result",
          "data": {
            "text/plain": [
              "<keras.callbacks.History at 0x7f71bc2d3b20>"
            ]
          },
          "metadata": {},
          "execution_count": 67
        }
      ]
    },
    {
      "cell_type": "code",
      "source": [
        "y_pred = model.predict(X_test)"
      ],
      "metadata": {
        "colab": {
          "base_uri": "https://localhost:8080/"
        },
        "id": "T11z_XnFrnK5",
        "outputId": "6498c76b-e82e-4602-f2a4-9169438dcb75"
      },
      "execution_count": null,
      "outputs": [
        {
          "output_type": "stream",
          "name": "stdout",
          "text": [
            "18/18 [==============================] - 0s 6ms/step\n"
          ]
        }
      ]
    },
    {
      "cell_type": "code",
      "source": [
        "# Evaluate the model\n",
        "test_loss, test_acc = model.evaluate(X_test, y_test)\n",
        "print(f\"Test loss: {test_loss}, Test accuracy: {test_acc}\")"
      ],
      "metadata": {
        "colab": {
          "base_uri": "https://localhost:8080/"
        },
        "id": "2etjsVO7rnZL",
        "outputId": "0c566c25-0a8f-4264-e672-16187b6a1d0f"
      },
      "execution_count": null,
      "outputs": [
        {
          "output_type": "stream",
          "name": "stdout",
          "text": [
            "18/18 [==============================] - 0s 4ms/step - loss: 0.1426 - accuracy: 0.9311\n",
            "Test loss: 0.14256615936756134, Test accuracy: 0.9310954213142395\n"
          ]
        }
      ]
    },
    {
      "cell_type": "markdown",
      "source": [
        "From the above modellings **Logistic regression** gives best accuracy(0.94)"
      ],
      "metadata": {
        "id": "zUZulB4NuwOy"
      }
    }
  ]
}